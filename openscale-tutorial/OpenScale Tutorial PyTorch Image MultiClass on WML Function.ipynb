{
 "cells": [
  {
   "cell_type": "markdown",
   "metadata": {
    "id": "c3529e63-d5fb-4fac-bc80-0ce05f6e4c84"
   },
   "source": [
    "<img src=\"https://github.com/pmservice/ai-openscale-tutorials/raw/master/notebooks/images/banner.png\" align=\"left\" alt=\"banner\">"
   ]
  },
  {
   "cell_type": "markdown",
   "metadata": {
    "id": "d1e1ca38-baaf-42e3-a955-74b733f59726"
   },
   "source": [
    "# OpenScale Tutorial, PyTorch Image MultiClass Model on WML Function"
   ]
  },
  {
   "cell_type": "markdown",
   "metadata": {
    "id": "66463ce2-dc11-43f3-9ae0-070df26b42aa"
   },
   "source": [
    "This notebook includes steps for creating an image-based watson-machine-learning model, creating a subscription, configuring explainability, and finally generating an explanation for a transaction."
   ]
  },
  {
   "cell_type": "markdown",
   "metadata": {
    "id": "253d0c7e-51aa-490f-bcbf-233115eba728"
   },
   "source": [
    "### Contents\n",
    "- [1. Setup](#setup)\n",
    "- [2. Creating and deploying an image-based model](#deployment)\n",
    "- [3. Subscriptions](#subscription)\n",
    "- [4. Explainability](#explainability)"
   ]
  },
  {
   "cell_type": "markdown",
   "metadata": {
    "id": "59a3d970-f77e-478f-9da7-3e5328dc455a"
   },
   "source": [
    "**Note**: This notebook is using runtime 'Default Python 3.7.x'"
   ]
  },
  {
   "cell_type": "markdown",
   "metadata": {
    "id": "051a4ee3-e7e3-4a27-8de8-6de3545b77f1"
   },
   "source": [
    "<a id=\"setup\"></a>\n",
    "## 1. Setup\n",
    "\n",
    "### 1.1 Install Watson OpenScale and WML packages"
   ]
  },
  {
   "cell_type": "code",
   "execution_count": 1,
   "metadata": {
    "id": "0411fcb3-097b-4595-9f91-91c7e81d3e68",
    "tags": []
   },
   "outputs": [
    {
     "name": "stdout",
     "output_type": "stream",
     "text": [
      "Requirement already satisfied, skipping upgrade: six>=1.5 in /opt/conda/envs/Python-3.7-OpenCE/lib/python3.7/site-packages (from python-dateutil>=2.5.3->ibm-watson-openscale) (1.15.0)\n"
     ]
    }
   ],
   "source": [
    "!pip install --upgrade ibm-watson-openscale --no-cache | tail -n 1"
   ]
  },
  {
   "cell_type": "code",
   "execution_count": 2,
   "metadata": {
    "id": "e2756ff5-dcd0-4120-a74a-cb01f778f3aa",
    "tags": []
   },
   "outputs": [
    {
     "name": "stdout",
     "output_type": "stream",
     "text": [
      "Requirement already satisfied, skipping upgrade: docutils<0.16,>=0.10 in /opt/conda/envs/Python-3.7-OpenCE/lib/python3.7/site-packages (from ibm-cos-sdk-core==2.7.0->ibm-cos-sdk==2.7.*->ibm-watson-machine-learning) (0.15.2)\n"
     ]
    }
   ],
   "source": [
    "!pip install --upgrade ibm-watson-machine-learning --no-cache | tail -n 1"
   ]
  },
  {
   "cell_type": "markdown",
   "metadata": {
    "id": "7d8e6106-4c76-4828-b9f7-ecdfb9ffc11e"
   },
   "source": [
    "Note: Restart the kernel to assure the new libraries are being used."
   ]
  },
  {
   "cell_type": "markdown",
   "metadata": {
    "id": "8e8286af-b809-47e4-85f6-7881cdb5be83"
   },
   "source": [
    "### 1.2 Configure credentials"
   ]
  },
  {
   "cell_type": "code",
   "execution_count": 3,
   "metadata": {
    "id": "1d019414-6121-417f-8942-f5b261a0a4ea",
    "tags": []
   },
   "outputs": [],
   "source": [
    "import os\n",
    "WML_CREDENTIALS = {\n",
    "    'url':os.environ['RUNTIME_ENV_APSX_URL'],\n",
    "    'token':os.environ['USER_ACCESS_TOKEN'],\n",
    "    'instance_id':'openshift',\n",
    "    'version':'4.0'}"
   ]
  },
  {
   "cell_type": "markdown",
   "metadata": {
    "id": "f13960ca-5c5c-4a1e-9dbb-b62f9553814d"
   },
   "source": [
    "<a id=\"deployment\"></a>\n",
    "## 2. Creating and deploying an image-based model"
   ]
  },
  {
   "cell_type": "markdown",
   "metadata": {
    "id": "c1d1824a-7d35-4a33-b6e8-1d08d039be4b"
   },
   "source": [
    "The dataset used is MNIST dataset of handwritten digits. It consists of 60,000 28x28 grayscale images of the 10 digits, along with a test set of 10,000 images. More information about the dataset can be found here: https://keras.io/datasets/#mnist-database-of-handwritten-digits\n",
    "\n",
    "Note: Keras and TensorFlow versions supported by WML are: Keras 2.1.6 with TensorFlow 1.13 backend and Keras 2.2.4 with TensorFlow 1.14 backend. The latter combination is used in this notebook."
   ]
  },
  {
   "cell_type": "markdown",
   "metadata": {
    "id": "4a1d72da-5134-4f7d-859a-5cc231d5cea6"
   },
   "source": [
    "### 2.1 Creating a model"
   ]
  },
  {
   "cell_type": "code",
   "execution_count": 4,
   "metadata": {
    "id": "0170c58c-39f1-428b-bd05-bf854b45b7a6",
    "tags": []
   },
   "outputs": [],
   "source": [
    "import numpy as np\n",
    "import torch\n",
    "import os\n",
    "\n",
    "\n",
    "# load model definition\n",
    "import torch.nn as nn\n",
    "import torch.nn.functional as F\n",
    "\n",
    "class MyModel(nn.Module):\n",
    "    def __init__(self):\n",
    "        super(MyModel, self).__init__()\n",
    "        self.layer1 = nn.Sequential(\n",
    "            nn.Conv2d(1, 16, kernel_size=3, stride=1, padding=1),\n",
    "            nn.BatchNorm2d(16),\n",
    "            nn.ReLU(),\n",
    "            nn.MaxPool2d(kernel_size=2, stride=2)\n",
    "        )\n",
    "        self.layer2 = nn.Sequential(\n",
    "            nn.Conv2d(16, 64, kernel_size=3, stride=1, padding=1),\n",
    "            nn.BatchNorm2d(64),\n",
    "            nn.ReLU(),\n",
    "            nn.MaxPool2d(kernel_size=2, stride=2)\n",
    "        )\n",
    "        self.layer3 = nn.Sequential(\n",
    "            nn.Linear(64 * 7 * 7, 64),\n",
    "            nn.ReLU(),\n",
    "            nn.Dropout(p=0.2),\n",
    "            nn.Linear(64, 10)\n",
    "        )\n",
    "\n",
    "    def forward(self, x):\n",
    "        out = self.layer1(x)\n",
    "        out = self.layer2(out)\n",
    "        #out = out.view(out.size(0), -1)\n",
    "        out = out.flatten(start_dim = 1)\n",
    "        logits = self.layer3(out)\n",
    "        out = F.softmax(logits, dim=1)\n",
    "        return out\n"
   ]
  },
  {
   "cell_type": "code",
   "execution_count": 5,
   "metadata": {
    "id": "a1a9c221-73df-4793-977c-f409ce345a9c",
    "tags": []
   },
   "outputs": [
    {
     "data": {
      "text/plain": [
       "MyModel(\n",
       "  (layer1): Sequential(\n",
       "    (0): Conv2d(1, 16, kernel_size=(3, 3), stride=(1, 1), padding=(1, 1))\n",
       "    (1): BatchNorm2d(16, eps=1e-05, momentum=0.1, affine=True, track_running_stats=True)\n",
       "    (2): ReLU()\n",
       "    (3): MaxPool2d(kernel_size=2, stride=2, padding=0, dilation=1, ceil_mode=False)\n",
       "  )\n",
       "  (layer2): Sequential(\n",
       "    (0): Conv2d(16, 64, kernel_size=(3, 3), stride=(1, 1), padding=(1, 1))\n",
       "    (1): BatchNorm2d(64, eps=1e-05, momentum=0.1, affine=True, track_running_stats=True)\n",
       "    (2): ReLU()\n",
       "    (3): MaxPool2d(kernel_size=2, stride=2, padding=0, dilation=1, ceil_mode=False)\n",
       "  )\n",
       "  (layer3): Sequential(\n",
       "    (0): Linear(in_features=3136, out_features=64, bias=True)\n",
       "    (1): ReLU()\n",
       "    (2): Dropout(p=0.2, inplace=False)\n",
       "    (3): Linear(in_features=64, out_features=10, bias=True)\n",
       "  )\n",
       ")"
      ]
     },
     "execution_count": 5,
     "metadata": {},
     "output_type": "execute_result"
    }
   ],
   "source": [
    "from torch import load as ptload\n",
    "\n",
    "device = torch.device(\"cpu\")\n",
    "model = MyModel()\n",
    "\n",
    "model_weights = torch.load('/mnts/deepliif-data/pytorch-toy-model/mnist.pt')\n",
    "model.load_state_dict(model_weights)\n",
    "\n",
    "model.to(device)\n",
    "model.eval()"
   ]
  },
  {
   "cell_type": "code",
   "execution_count": 8,
   "metadata": {
    "id": "167f0395-4e4e-4879-8d8f-41288ca21122",
    "tags": []
   },
   "outputs": [
    {
     "data": {
      "text/plain": [
       "torch.Size([1000, 28, 28])"
      ]
     },
     "execution_count": 8,
     "metadata": {},
     "output_type": "execute_result"
    }
   ],
   "source": [
    "x = ptload('./MNIST/processed/test.pt')[0][0:1000,:,:]\n",
    "x.shape"
   ]
  },
  {
   "cell_type": "code",
   "execution_count": null,
   "metadata": {
    "id": "cd27427c-64e2-476e-83ca-8fb63f907207"
   },
   "outputs": [],
   "source": []
  },
  {
   "cell_type": "markdown",
   "metadata": {
    "id": "bf6662dd-b3a7-468f-90a0-a3607a2df055"
   },
   "source": [
    "### 2.2 Creating Python Function"
   ]
  },
  {
   "cell_type": "code",
   "execution_count": 166,
   "metadata": {
    "id": "5ae4d9f2-38d4-4875-a1ed-bf6b84ed1ac7",
    "tags": []
   },
   "outputs": [],
   "source": [
    "ai_parms = {\n",
    "            \"RUNTIME_ENV_APSX_URL\":os.environ['RUNTIME_ENV_APSX_URL'],\n",
    "            \"USER_ACCESS_TOKEN\": os.environ['USER_ACCESS_TOKEN'],\n",
    "            \"path_model\": 'pytorch-toy-model/mnist.pt'\n",
    "           }\n",
    "\n",
    "def deployable_function(parms=ai_parms):\n",
    "    \n",
    "    import numpy as np\n",
    "    import os\n",
    "    import torch\n",
    "    \n",
    "    # load model definition\n",
    "    import torch.nn as nn\n",
    "    import torch.nn.functional as F\n",
    "\n",
    "    class MyModel(nn.Module):\n",
    "        def __init__(self):\n",
    "            super(MyModel, self).__init__()\n",
    "            self.layer1 = nn.Sequential(\n",
    "                nn.Conv2d(1, 16, kernel_size=3, stride=1, padding=1),\n",
    "                nn.BatchNorm2d(16),\n",
    "                nn.ReLU(),\n",
    "                nn.MaxPool2d(kernel_size=2, stride=2)\n",
    "            )\n",
    "            self.layer2 = nn.Sequential(\n",
    "                nn.Conv2d(16, 64, kernel_size=3, stride=1, padding=1),\n",
    "                nn.BatchNorm2d(64),\n",
    "                nn.ReLU(),\n",
    "                nn.MaxPool2d(kernel_size=2, stride=2)\n",
    "            )\n",
    "            self.layer3 = nn.Sequential(\n",
    "                nn.Linear(64 * 7 * 7, 64),\n",
    "                nn.ReLU(),\n",
    "                nn.Dropout(p=0.2),\n",
    "                nn.Linear(64, 10)\n",
    "            )\n",
    "\n",
    "        def forward(self, x):\n",
    "            out = self.layer1(x)\n",
    "            out = self.layer2(out)\n",
    "            #out = out.view(out.size(0), -1)\n",
    "            out = out.flatten(start_dim = 1)\n",
    "            logits = self.layer3(out)\n",
    "            out = F.softmax(logits, dim=1)\n",
    "            return out\n",
    "\n",
    "    \n",
    "    # load model weights\n",
    "    import urllib\n",
    "    import requests\n",
    "    \n",
    "    USER_ACCESS_TOKEN = parms['USER_ACCESS_TOKEN']\n",
    "    BASE_URL = parms['RUNTIME_ENV_APSX_URL']\n",
    "    volume_display_name = 'DeepLiif-Data'\n",
    "\n",
    "    path_model_encoded = urllib.parse.quote(parms['path_model'],safe='')\n",
    "    url = f'/zen-volumes/{volume_display_name}/v1/volumes/files/{path_model_encoded}'\n",
    "    res = requests.get(url=BASE_URL+url,\n",
    "                       headers={'Authorization': 'Bearer ' + USER_ACCESS_TOKEN},\n",
    "                       verify=False)\n",
    "    \n",
    "    path_model_local = parms['path_model'].split('/')[-1]\n",
    "    with open(path_model_local,'wb') as f:\n",
    "        f.write(res.content)\n",
    "    \n",
    "    model_weights = torch.load(path_model_local)\n",
    "    \n",
    "    \n",
    "    # load model\n",
    "    device = torch.device(\"cpu\")\n",
    "    model = MyModel()\n",
    "    model.load_state_dict(model_weights)\n",
    "    model.to(device)\n",
    "    model.eval()\n",
    "    \n",
    "    def format_output(pred_raw):\n",
    "        res = {\"predictions\":[{\"id\": \"dense_1\",\n",
    "                               \"fields\": [\"prediction\",\"prediction_classes\",\"probability\"],\n",
    "                               \"values\": []\n",
    "                              }]}\n",
    "        for item in pred_raw:\n",
    "            pred_prob = item.tolist()\n",
    "            pred_class = int(np.argmax(pred_prob)) # int64 is not json serializable\n",
    "            res[\"predictions\"][0][\"values\"].append([pred_prob,pred_class,pred_prob])     \n",
    "        return res\n",
    "\n",
    "    \n",
    "    # Scoring function\n",
    "    def score(scoring_input_payload): \n",
    "        try:        \n",
    "            x_score = scoring_input_payload['input_data'][0]['values']\n",
    "            y_score = model.predict(x_score)\n",
    "            return format_output(y_score)\n",
    "        except Exception as e:\n",
    "            return {\"predictions\": [{\"values\":[repr(e)]}]}\n",
    "    return score"
   ]
  },
  {
   "cell_type": "code",
   "execution_count": 167,
   "metadata": {
    "id": "0f79ee59-45b1-49bc-a4db-6b51bfd31445",
    "tags": []
   },
   "outputs": [],
   "source": [
    "def format_input(x):\n",
    "    return {\"input_data\":[{\"values\":[item.tolist() for item in x]}]}"
   ]
  },
  {
   "cell_type": "code",
   "execution_count": 168,
   "metadata": {
    "id": "e2be2ca2-ea7b-4c43-9187-21300cdc4b6e",
    "tags": []
   },
   "outputs": [
    {
     "data": {
      "text/plain": [
       "{'predictions': [{'id': 'dense_1',\n",
       "   'fields': ['prediction', 'prediction_classes', 'probability'],\n",
       "   'values': [[[0.11160297691822052,\n",
       "      0.06398756802082062,\n",
       "      0.08658517152070999,\n",
       "      0.08651519566774368,\n",
       "      0.08129601180553436,\n",
       "      0.07685475051403046,\n",
       "      0.06780225783586502,\n",
       "      0.20904341340065002,\n",
       "      0.10511705279350281,\n",
       "      0.11119553446769714],\n",
       "     7,\n",
       "     [0.11160297691822052,\n",
       "      0.06398756802082062,\n",
       "      0.08658517152070999,\n",
       "      0.08651519566774368,\n",
       "      0.08129601180553436,\n",
       "      0.07685475051403046,\n",
       "      0.06780225783586502,\n",
       "      0.20904341340065002,\n",
       "      0.10511705279350281,\n",
       "      0.11119553446769714]],\n",
       "    [[0.11028298735618591,\n",
       "      0.07487530261278152,\n",
       "      0.15748149156570435,\n",
       "      0.1770821511745453,\n",
       "      0.0455758273601532,\n",
       "      0.11178533732891083,\n",
       "      0.1271645873785019,\n",
       "      0.042133744806051254,\n",
       "      0.11157438158988953,\n",
       "      0.04204416647553444],\n",
       "     3,\n",
       "     [0.11028298735618591,\n",
       "      0.07487530261278152,\n",
       "      0.15748149156570435,\n",
       "      0.1770821511745453,\n",
       "      0.0455758273601532,\n",
       "      0.11178533732891083,\n",
       "      0.1271645873785019,\n",
       "      0.042133744806051254,\n",
       "      0.11157438158988953,\n",
       "      0.04204416647553444]]]}]}"
      ]
     },
     "execution_count": 168,
     "metadata": {},
     "output_type": "execute_result"
    }
   ],
   "source": [
    "# Test response output\n",
    "score = deployable_function()\n",
    "sample_response = score(format_input(x_test[0:2]))\n",
    "sample_response"
   ]
  },
  {
   "cell_type": "markdown",
   "metadata": {
    "id": "c16fcf0a-75d4-42c7-9313-034ba081cc7c"
   },
   "source": [
    "### 2.3 Storing the model"
   ]
  },
  {
   "cell_type": "code",
   "execution_count": 169,
   "metadata": {
    "id": "d9007ba9-70f7-4f85-9694-4bdc7fbbf23e",
    "tags": []
   },
   "outputs": [
    {
     "data": {
      "text/plain": [
       "'1.0.173'"
      ]
     },
     "execution_count": 169,
     "metadata": {},
     "output_type": "execute_result"
    }
   ],
   "source": [
    "import json\n",
    "from ibm_watson_machine_learning import APIClient\n",
    "\n",
    "wml_client = APIClient(WML_CREDENTIALS)\n",
    "wml_client.version"
   ]
  },
  {
   "cell_type": "code",
   "execution_count": 170,
   "metadata": {
    "id": "3471fe62-7175-4c0e-ab4b-b431311d7981",
    "tags": []
   },
   "outputs": [
    {
     "name": "stdout",
     "output_type": "stream",
     "text": [
      "------------------------------------  -----------------------------  ------------------------\n",
      "ID                                    NAME                           CREATED\n",
      "621921c3-88c6-46f9-8fb0-0e0bc0790992  MSK Test Space Wendy Pre-Prod  2021-12-22T19:38:58.321Z\n",
      "ddd3bbfc-1ab8-4e6b-ac97-0dc60764ad51  MSK Test Space Wendy           2021-12-03T04:23:07.704Z\n",
      "603df1b5-26ae-475a-8714-9e1bd6048225  wml-deployment-testing         2021-11-18T16:01:13.875Z\n",
      "------------------------------------  -----------------------------  ------------------------\n"
     ]
    }
   ],
   "source": [
    "wml_client.spaces.list(limit=10)"
   ]
  },
  {
   "cell_type": "code",
   "execution_count": 171,
   "metadata": {
    "id": "82f81c71-7a99-4408-9ab8-ec25db925635",
    "tags": []
   },
   "outputs": [
    {
     "data": {
      "text/plain": [
       "'SUCCESS'"
      ]
     },
     "execution_count": 171,
     "metadata": {},
     "output_type": "execute_result"
    }
   ],
   "source": [
    "WML_SPACE_ID='621921c3-88c6-46f9-8fb0-0e0bc0790992' \n",
    "wml_client.set.default_space(WML_SPACE_ID)"
   ]
  },
  {
   "cell_type": "code",
   "execution_count": 172,
   "metadata": {
    "id": "86d12efd-f7ff-4daf-9d8d-45b264e6b66d",
    "tags": []
   },
   "outputs": [],
   "source": [
    "MODEL_NAME = \"OpenScale Tutorial MNIST Model Keras Function - SDK\""
   ]
  },
  {
   "cell_type": "code",
   "execution_count": 173,
   "metadata": {
    "id": "ccb8203d-31d0-4ccc-8a5c-7081611a2fca",
    "tags": []
   },
   "outputs": [
    {
     "name": "stdout",
     "output_type": "stream",
     "text": [
      "Storing model ...\n",
      "Done\n",
      "Model ID: 54af3608-a6cf-446b-8d9d-90e2b21f4c7e\n"
     ]
    }
   ],
   "source": [
    "print(\"Storing model ...\")\n",
    "\n",
    "# Store function\n",
    "software_spec_uid = wml_client.software_specifications.get_uid_by_name(\"default_py3.8\") # tensorflow_2.4-py3.7 is not supported for functions\n",
    "# field_values = [\"prediction\",\"prediction_classes\",\"probability\"]\n",
    "# fields = [{'name':k,'type':('number')} \\\n",
    "#           for k in field_values]\n",
    "# sample_scoring_input = np.asarray(scoring_payload['input_data'][0]['values'][0],\n",
    "#                                   dtype=np.float64)\n",
    "\n",
    "function_meta = {\n",
    "    wml_client.repository.FunctionMetaNames.NAME: MODEL_NAME,\n",
    "#     client.repository.FunctionMetaNames.DESCRIPTION: \"\",\n",
    "#     wml_client.repository.FunctionMetaNames.TYPE: 'tensorflow_2.4-py3.7',\n",
    "    wml_client.repository.FunctionMetaNames.SOFTWARE_SPEC_ID: software_spec_uid,\n",
    "#     client.repository.FunctionMetaNames.INPUT_DATA_SCHEMAS: [],\n",
    "#     client.repository.FunctionMetaNames.OUTPUT_DATA_SCHEMAS: [{'id':'fn_output',\n",
    "#                                                                'fields':fields}],\n",
    "    #client.repository.FunctionMetaNames.SAMPLE_SCORING_INPUT: {'id':'fn_input_sample',\n",
    "    #                                                           'values':sample_scoring_input}\n",
    "}\n",
    "published_model_details = wml_client.repository.store_function(deployable_function, function_meta)\n",
    "published_model_details\n",
    "\n",
    "model_uid = wml_client.repository.get_model_uid(published_model_details)\n",
    "print(\"Done\")\n",
    "print(\"Model ID: {}\".format(model_uid))"
   ]
  },
  {
   "cell_type": "markdown",
   "metadata": {
    "id": "0d13522a-80db-4bcd-9fa4-a96861dd0da0"
   },
   "source": [
    "### 2.3 Deploying the model"
   ]
  },
  {
   "cell_type": "code",
   "execution_count": 174,
   "metadata": {
    "id": "5c95081d-1b70-49ae-99fb-2881414f4e7b",
    "tags": []
   },
   "outputs": [
    {
     "name": "stdout",
     "output_type": "stream",
     "text": [
      "\n",
      "\n",
      "#######################################################################################\n",
      "\n",
      "Synchronous deployment creation for uid: '54af3608-a6cf-446b-8d9d-90e2b21f4c7e' started\n",
      "\n",
      "#######################################################################################\n",
      "\n",
      "\n",
      "initializingNote: online_url is deprecated and will be removed in a future release. Use serving_urls instead.\n",
      "\n",
      "Note: online_url is deprecated and will be removed in a future release. Use serving_urls instead.\n",
      ".Note: online_url is deprecated and will be removed in a future release. Use serving_urls instead.\n",
      ".Note: online_url is deprecated and will be removed in a future release. Use serving_urls instead.\n",
      ".Note: online_url is deprecated and will be removed in a future release. Use serving_urls instead.\n",
      ".Note: online_url is deprecated and will be removed in a future release. Use serving_urls instead.\n",
      ".Note: online_url is deprecated and will be removed in a future release. Use serving_urls instead.\n",
      ".Note: online_url is deprecated and will be removed in a future release. Use serving_urls instead.\n",
      ".Note: online_url is deprecated and will be removed in a future release. Use serving_urls instead.\n",
      ".Note: online_url is deprecated and will be removed in a future release. Use serving_urls instead.\n",
      ".Note: online_url is deprecated and will be removed in a future release. Use serving_urls instead.\n",
      ".Note: online_url is deprecated and will be removed in a future release. Use serving_urls instead.\n",
      ".Note: online_url is deprecated and will be removed in a future release. Use serving_urls instead.\n",
      ".Note: online_url is deprecated and will be removed in a future release. Use serving_urls instead.\n",
      ".Note: online_url is deprecated and will be removed in a future release. Use serving_urls instead.\n",
      ".Note: online_url is deprecated and will be removed in a future release. Use serving_urls instead.\n",
      ".Note: online_url is deprecated and will be removed in a future release. Use serving_urls instead.\n",
      ".Note: online_url is deprecated and will be removed in a future release. Use serving_urls instead.\n",
      ".Note: online_url is deprecated and will be removed in a future release. Use serving_urls instead.\n",
      ".Note: online_url is deprecated and will be removed in a future release. Use serving_urls instead.\n",
      ".Note: online_url is deprecated and will be removed in a future release. Use serving_urls instead.\n",
      ".Note: online_url is deprecated and will be removed in a future release. Use serving_urls instead.\n",
      ".Note: online_url is deprecated and will be removed in a future release. Use serving_urls instead.\n",
      ".Note: online_url is deprecated and will be removed in a future release. Use serving_urls instead.\n",
      ".Note: online_url is deprecated and will be removed in a future release. Use serving_urls instead.\n",
      ".Note: online_url is deprecated and will be removed in a future release. Use serving_urls instead.\n",
      ".Note: online_url is deprecated and will be removed in a future release. Use serving_urls instead.\n",
      ".Note: online_url is deprecated and will be removed in a future release. Use serving_urls instead.\n",
      ".Note: online_url is deprecated and will be removed in a future release. Use serving_urls instead.\n",
      ".Note: online_url is deprecated and will be removed in a future release. Use serving_urls instead.\n",
      ".Note: online_url is deprecated and will be removed in a future release. Use serving_urls instead.\n",
      ".Note: online_url is deprecated and will be removed in a future release. Use serving_urls instead.\n",
      ".Note: online_url is deprecated and will be removed in a future release. Use serving_urls instead.\n",
      ".Note: online_url is deprecated and will be removed in a future release. Use serving_urls instead.\n",
      ".Note: online_url is deprecated and will be removed in a future release. Use serving_urls instead.\n",
      ".Note: online_url is deprecated and will be removed in a future release. Use serving_urls instead.\n",
      ".Note: online_url is deprecated and will be removed in a future release. Use serving_urls instead.\n",
      ".Note: online_url is deprecated and will be removed in a future release. Use serving_urls instead.\n",
      ".Note: online_url is deprecated and will be removed in a future release. Use serving_urls instead.\n",
      ".Note: online_url is deprecated and will be removed in a future release. Use serving_urls instead.\n",
      "\n",
      "ready\n",
      "\n",
      "\n",
      "------------------------------------------------------------------------------------------------\n",
      "Successfully finished deployment creation, deployment_uid='1a728d58-8e70-42a0-b6ee-63d5f7ef4791'\n",
      "------------------------------------------------------------------------------------------------\n",
      "\n",
      "\n",
      "Scoring URL:https://internal-nginx-svc:12443/ml/v4/deployments/1a728d58-8e70-42a0-b6ee-63d5f7ef4791/predictions\n",
      "Model id: 54af3608-a6cf-446b-8d9d-90e2b21f4c7e\n",
      "Deployment id: 1a728d58-8e70-42a0-b6ee-63d5f7ef4791\n"
     ]
    }
   ],
   "source": [
    "deployment_details = wml_client.deployments.create(\n",
    "    model_uid, \n",
    "    meta_props={\n",
    "        wml_client.deployments.ConfigurationMetaNames.NAME: \"{}\".format(MODEL_NAME + \" deployment\"),\n",
    "        wml_client.deployments.ConfigurationMetaNames.ONLINE: {}\n",
    "    }\n",
    ")\n",
    "scoring_url = wml_client.deployments.get_scoring_href(deployment_details)\n",
    "deployment_uid=wml_client.deployments.get_uid(deployment_details)\n",
    "\n",
    "print(\"Scoring URL:\" + scoring_url)\n",
    "print(\"Model id: {}\".format(model_uid))\n",
    "print(\"Deployment id: {}\".format(deployment_uid))"
   ]
  },
  {
   "cell_type": "markdown",
   "metadata": {
    "id": "21ecc6fb-2b0c-4933-b78b-42e9032fea14"
   },
   "source": [
    "## 3. Subscriptions <a id=\"subscriptions\"></a>"
   ]
  },
  {
   "cell_type": "markdown",
   "metadata": {
    "id": "8c84a076-a83c-41be-beec-fadb425c9a8f"
   },
   "source": [
    "### 3.1 Configuring OpenScale"
   ]
  },
  {
   "cell_type": "code",
   "execution_count": 175,
   "metadata": {
    "id": "e6e4051f-e2f2-4fb9-88d5-e74a45176160",
    "tags": []
   },
   "outputs": [
    {
     "data": {
      "text/plain": [
       "'3.0.12'"
      ]
     },
     "execution_count": 175,
     "metadata": {},
     "output_type": "execute_result"
    }
   ],
   "source": [
    "from ibm_cloud_sdk_core.authenticators import BearerTokenAuthenticator\n",
    "from ibm_watson_openscale import *\n",
    "from ibm_watson_openscale.supporting_classes.enums import *\n",
    "from ibm_watson_openscale.supporting_classes import *\n",
    "\n",
    "authenticator = BearerTokenAuthenticator(\n",
    "        bearer_token=os.environ['USER_ACCESS_TOKEN']\n",
    "    )\n",
    "\n",
    "wos_client = APIClient(authenticator=authenticator, service_url=os.environ['RUNTIME_ENV_APSX_URL'])\n",
    "wos_client.version"
   ]
  },
  {
   "cell_type": "code",
   "execution_count": 176,
   "metadata": {
    "id": "d180412f-fd85-4ffc-9743-d642eb105cb1",
    "tags": []
   },
   "outputs": [
    {
     "data": {
      "text/html": [
       "<HTML>\n",
       "        <body>\n",
       "            <h3>Data Marts</h3>\n",
       "            <table style='border: 1px solid #dddddd; font-family: Courier'>\n",
       "                <th style='border: 1px solid #dddddd'>name</th><th style='border: 1px solid #dddddd'>description</th><th style='border: 1px solid #dddddd'>internal_database</th><th style='border: 1px solid #dddddd'>status</th><th style='border: 1px solid #dddddd'>created_at</th><th style='border: 1px solid #dddddd'>id</th>\n",
       "                <tr><td style='border: 1px solid #dddddd'>AIOSFASTPATHICP-00000000-0000-0000-0000-000000000000</td><td style='border: 1px solid #dddddd'>Data Mart created by OpenScale ExpressPath</td><td style='border: 1px solid #dddddd'>False</td><td style='border: 1px solid #dddddd'>active</td><td style='border: 1px solid #dddddd'>2021-11-13 00:18:06.500000+00:00</td><td style='border: 1px solid #dddddd'>00000000-0000-0000-0000-000000000000</td></tr>\n",
       "            </table>\n",
       "        </body>\n",
       "        </HTML>"
      ],
      "text/plain": [
       "<IPython.core.display.HTML object>"
      ]
     },
     "metadata": {},
     "output_type": "display_data"
    }
   ],
   "source": [
    "wos_client.data_marts.show()"
   ]
  },
  {
   "cell_type": "code",
   "execution_count": 177,
   "metadata": {
    "id": "b8a28fe2-c418-49ee-91ef-18c1ac044a54",
    "tags": []
   },
   "outputs": [
    {
     "data": {
      "text/plain": [
       "'00000000-0000-0000-0000-000000000000'"
      ]
     },
     "execution_count": 177,
     "metadata": {},
     "output_type": "execute_result"
    }
   ],
   "source": [
    "data_marts = wos_client.data_marts.list().result.data_marts\n",
    "data_mart_id = data_marts[0].metadata.id\n",
    "data_mart_id "
   ]
  },
  {
   "cell_type": "code",
   "execution_count": 178,
   "metadata": {
    "id": "133aabba-fd59-4572-8447-616f2aaba6fe",
    "tags": []
   },
   "outputs": [
    {
     "data": {
      "text/html": [
       "<HTML>\n",
       "        <body>\n",
       "            <h3>Service Providers</h3>\n",
       "            <table style='border: 1px solid #dddddd; font-family: Courier'>\n",
       "                <th style='border: 1px solid #dddddd'>instance_id</th><th style='border: 1px solid #dddddd'>status</th><th style='border: 1px solid #dddddd'>name</th><th style='border: 1px solid #dddddd'>service_type</th><th style='border: 1px solid #dddddd'>created_at</th><th style='border: 1px solid #dddddd'>id</th>\n",
       "                <tr><td style='border: 1px solid #dddddd'>99999999-9999-9999-9999-999999999999</td><td style='border: 1px solid #dddddd'>active</td><td style='border: 1px solid #dddddd'>wendy test pre-prod</td><td style='border: 1px solid #dddddd'>watson_machine_learning</td><td style='border: 1px solid #dddddd'>2021-12-22 19:42:41.009000+00:00</td><td style='border: 1px solid #dddddd'>9ef99223-9664-467a-8455-94636412e1e4</td></tr><tr><td style='border: 1px solid #dddddd'>99999999-9999-9999-9999-999999999999</td><td style='border: 1px solid #dddddd'>active</td><td style='border: 1px solid #dddddd'>wendy test prod</td><td style='border: 1px solid #dddddd'>watson_machine_learning</td><td style='border: 1px solid #dddddd'>2021-12-21 00:05:55.201000+00:00</td><td style='border: 1px solid #dddddd'>8b1f7a5e-de5d-4b41-a362-fe4e53da3288</td></tr><tr><td style='border: 1px solid #dddddd'>99999999-9999-9999-9999-999999999999</td><td style='border: 1px solid #dddddd'>active</td><td style='border: 1px solid #dddddd'>WML_RICH_PROD</td><td style='border: 1px solid #dddddd'>watson_machine_learning</td><td style='border: 1px solid #dddddd'>2021-12-15 17:01:50.694000+00:00</td><td style='border: 1px solid #dddddd'>79c553b5-be2e-4cd4-b4a4-cf9aa347b64b</td></tr><tr><td style='border: 1px solid #dddddd'>99999999-9999-9999-9999-999999999999</td><td style='border: 1px solid #dddddd'>active</td><td style='border: 1px solid #dddddd'>Credit-Risk-WML-Production-ML-Engine_TAI_demo</td><td style='border: 1px solid #dddddd'>watson_machine_learning</td><td style='border: 1px solid #dddddd'>2021-12-15 01:35:50.001000+00:00</td><td style='border: 1px solid #dddddd'>986e166f-6edc-4006-bd7e-0a247e1d263d</td></tr><tr><td style='border: 1px solid #dddddd'>99999999-9999-9999-9999-999999999999</td><td style='border: 1px solid #dddddd'>active</td><td style='border: 1px solid #dddddd'>Credit-Risk-WML-Pre-Production-ML-Engine_TAI_demo</td><td style='border: 1px solid #dddddd'>watson_machine_learning</td><td style='border: 1px solid #dddddd'>2021-12-15 01:27:53.938000+00:00</td><td style='border: 1px solid #dddddd'>6f827404-dff3-4911-92bc-368d340f53f3</td></tr><tr><td style='border: 1px solid #dddddd'>99999999-9999-9999-9999-999999999999</td><td style='border: 1px solid #dddddd'>active</td><td style='border: 1px solid #dddddd'>WML_RICH</td><td style='border: 1px solid #dddddd'>watson_machine_learning</td><td style='border: 1px solid #dddddd'>2021-11-22 21:24:26.224000+00:00</td><td style='border: 1px solid #dddddd'>0744c08a-472c-462b-b36c-8535743c9977</td></tr><tr><td style='border: 1px solid #dddddd'>99999999-9999-9999-9999-999999999999</td><td style='border: 1px solid #dddddd'>active</td><td style='border: 1px solid #dddddd'>WOS ExpressPath WML pre_production binding</td><td style='border: 1px solid #dddddd'>watson_machine_learning</td><td style='border: 1px solid #dddddd'>2021-11-13 00:18:29.358000+00:00</td><td style='border: 1px solid #dddddd'>6cff905a-f543-44e2-842d-0ddf029708fc</td></tr><tr><td style='border: 1px solid #dddddd'>99999999-9999-9999-9999-999999999999</td><td style='border: 1px solid #dddddd'>active</td><td style='border: 1px solid #dddddd'>WOS ExpressPath WML production binding</td><td style='border: 1px solid #dddddd'>watson_machine_learning</td><td style='border: 1px solid #dddddd'>2021-11-13 00:18:23.375000+00:00</td><td style='border: 1px solid #dddddd'>93cff9bf-a5f7-46fb-8fa8-44597ac0e361</td></tr>\n",
       "            </table>\n",
       "        </body>\n",
       "        </HTML>"
      ],
      "text/plain": [
       "<IPython.core.display.HTML object>"
      ]
     },
     "metadata": {},
     "output_type": "display_data"
    }
   ],
   "source": [
    "wos_client.service_providers.show()"
   ]
  },
  {
   "cell_type": "code",
   "execution_count": 179,
   "metadata": {
    "id": "8bcd079e-603e-4f7f-89c9-809386eaca37",
    "tags": []
   },
   "outputs": [],
   "source": [
    "service_provider_id = '9ef99223-9664-467a-8455-94636412e1e4'"
   ]
  },
  {
   "cell_type": "code",
   "execution_count": 180,
   "metadata": {
    "id": "b45c0b56-39ac-49fa-beda-e838ea3b3898",
    "tags": []
   },
   "outputs": [
    {
     "data": {
      "text/plain": [
       "{'metadata': {'guid': '1a728d58-8e70-42a0-b6ee-63d5f7ef4791',\n",
       "  'created_at': '2021-12-22T23:12:05.360Z',\n",
       "  'modified_at': '2021-12-22T23:12:05.360Z'},\n",
       " 'entity': {'name': 'OpenScale Tutorial MNIST Model Keras Function - SDK deployment',\n",
       "  'type': 'online',\n",
       "  'scoring_endpoint': {'url': 'https://ibm-nginx-svc.cpd-instance.svc.cluster.local/ml/v4/deployments/1a728d58-8e70-42a0-b6ee-63d5f7ef4791/predictions'},\n",
       "  'asset': {},\n",
       "  'asset_properties': {}}}"
      ]
     },
     "execution_count": 180,
     "metadata": {},
     "output_type": "execute_result"
    }
   ],
   "source": [
    "asset_deployment_details = wos_client.service_providers.list_assets(data_mart_id=data_mart_id, service_provider_id=service_provider_id, deployment_id = deployment_uid, deployment_space_id = WML_SPACE_ID).result['resources'][0]\n",
    "asset_deployment_details"
   ]
  },
  {
   "cell_type": "code",
   "execution_count": 181,
   "metadata": {
    "id": "a0cc3519-86eb-4de9-bda3-6c17fbf633fd",
    "tags": []
   },
   "outputs": [
    {
     "data": {
      "text/plain": [
       "{'metadata': {'guid': '1a728d58-8e70-42a0-b6ee-63d5f7ef4791',\n",
       "  'created_at': '2021-12-22T23:12:05.360Z',\n",
       "  'modified_at': '2021-12-22T23:12:05.360Z'},\n",
       " 'entity': {'name': 'OpenScale Tutorial MNIST Model Keras Function - SDK deployment',\n",
       "  'type': 'online',\n",
       "  'scoring_endpoint': {'url': 'https://ibm-nginx-svc.cpd-instance.svc.cluster.local/ml/v4/deployments/1a728d58-8e70-42a0-b6ee-63d5f7ef4791/predictions'},\n",
       "  'asset': {'asset_id': '54af3608-a6cf-446b-8d9d-90e2b21f4c7e',\n",
       "   'url': 'https://ibm-nginx-svc.cpd-instance.svc.cluster.local/ml/v4/functions/54af3608-a6cf-446b-8d9d-90e2b21f4c7e?space_id=621921c3-88c6-46f9-8fb0-0e0bc0790992&version=2020-06-12',\n",
       "   'name': 'OpenScale Tutorial MNIST Model Keras Function - SDK',\n",
       "   'asset_type': 'function',\n",
       "   'created_at': '2021-12-22T23:12:02.491Z',\n",
       "   'modified_at': '2021-12-22T23:12:04.208Z'},\n",
       "  'asset_properties': {'model_type': 'python',\n",
       "   'runtime_environment': 'python-3.8'}}}"
      ]
     },
     "execution_count": 181,
     "metadata": {},
     "output_type": "execute_result"
    }
   ],
   "source": [
    "model_asset_details_from_deployment=wos_client.service_providers.get_deployment_asset(data_mart_id=data_mart_id,service_provider_id=service_provider_id,deployment_id=deployment_uid,deployment_space_id=WML_SPACE_ID)\n",
    "model_asset_details_from_deployment"
   ]
  },
  {
   "cell_type": "markdown",
   "metadata": {
    "id": "4d4e2599-c7a4-4729-92eb-72367fc13834"
   },
   "source": [
    "### 3.2 Subscribe the asset"
   ]
  },
  {
   "cell_type": "code",
   "execution_count": 182,
   "metadata": {
    "id": "4ae40ad7-0554-49bb-a2a1-a6a26eced4a6",
    "tags": []
   },
   "outputs": [],
   "source": [
    "# subscriptions = wos_client.subscriptions.list().result.subscriptions\n",
    "# for subscription in subscriptions:\n",
    "#     sub_model_id = subscription.entity.asset.asset_id\n",
    "#     if sub_model_id == model_uid:\n",
    "#         wos_client.subscriptions.delete(subscription.metadata.id)\n",
    "#         print('Deleted existing subscription for model', model_uid)"
   ]
  },
  {
   "cell_type": "code",
   "execution_count": 183,
   "metadata": {
    "id": "4638104e-78df-46bd-b1dd-fb3665ee4210",
    "tags": []
   },
   "outputs": [],
   "source": [
    "from ibm_watson_openscale.base_classes.watson_open_scale_v2 import ScoringEndpointRequest"
   ]
  },
  {
   "cell_type": "code",
   "execution_count": 184,
   "metadata": {
    "id": "6ec00f98-2f08-4ccb-b6c5-b66d5ade5a7d",
    "tags": []
   },
   "outputs": [
    {
     "data": {
      "text/plain": [
       "'9c6845ac-5d18-41bf-a205-a7e4f44fad80'"
      ]
     },
     "execution_count": 184,
     "metadata": {},
     "output_type": "execute_result"
    }
   ],
   "source": [
    "subscription_details = wos_client.subscriptions.add(\n",
    "        data_mart_id=data_mart_id,\n",
    "        service_provider_id=service_provider_id,\n",
    "        asset=Asset(\n",
    "            asset_id=model_asset_details_from_deployment[\"entity\"][\"asset\"][\"asset_id\"],\n",
    "            name=model_asset_details_from_deployment[\"entity\"][\"asset\"][\"name\"],\n",
    "            url=model_asset_details_from_deployment[\"entity\"][\"asset\"][\"url\"],\n",
    "            asset_type=AssetTypes.MODEL,\n",
    "            input_data_type=InputDataType.UNSTRUCTURED_IMAGE,\n",
    "            problem_type=ProblemType.MULTICLASS_CLASSIFICATION\n",
    "        ),\n",
    "        deployment=AssetDeploymentRequest(\n",
    "            deployment_id=asset_deployment_details['metadata']['guid'],\n",
    "            name=asset_deployment_details['entity']['name'],\n",
    "            deployment_type= DeploymentTypes.ONLINE,\n",
    "            url=asset_deployment_details['entity']['scoring_endpoint']['url'],\n",
    "            scoring_endpoint=ScoringEndpointRequest(url=scoring_url) # scoring model without shadow deployment\n",
    "        ),\n",
    "        asset_properties=AssetPropertiesRequest(\n",
    "            probability_fields=['probability']\n",
    "            )\n",
    "    ).result\n",
    "subscription_id = subscription_details.metadata.id\n",
    "subscription_id"
   ]
  },
  {
   "cell_type": "code",
   "execution_count": 185,
   "metadata": {
    "id": "4561995f-36dc-4d32-9f65-2563bbbaca0d",
    "tags": []
   },
   "outputs": [
    {
     "data": {
      "text/html": [
       "<HTML>\n",
       "        <body>\n",
       "            <h3>Subscriptions</h3>\n",
       "            <table style='border: 1px solid #dddddd; font-family: Courier'>\n",
       "                <th style='border: 1px solid #dddddd'>asset_id</th><th style='border: 1px solid #dddddd'>asset_name</th><th style='border: 1px solid #dddddd'>data_mart_id</th><th style='border: 1px solid #dddddd'>deployment_id</th><th style='border: 1px solid #dddddd'>deployment_name</th><th style='border: 1px solid #dddddd'>service_provider_id</th><th style='border: 1px solid #dddddd'>status</th><th style='border: 1px solid #dddddd'>created_at</th><th style='border: 1px solid #dddddd'>id</th>\n",
       "                <tr><td style='border: 1px solid #dddddd'>54af3608-a6cf-446b-8d9d-90e2b21f4c7e</td><td style='border: 1px solid #dddddd'>OpenScale Tutorial MNIST Model Keras Function - SDK</td><td style='border: 1px solid #dddddd'>00000000-0000-0000-0000-000000000000</td><td style='border: 1px solid #dddddd'>1a728d58-8e70-42a0-b6ee-63d5f7ef4791</td><td style='border: 1px solid #dddddd'>OpenScale Tutorial MNIST Model Keras Function - SDK deployment</td><td style='border: 1px solid #dddddd'>9ef99223-9664-467a-8455-94636412e1e4</td><td style='border: 1px solid #dddddd'>preparing</td><td style='border: 1px solid #dddddd'>2021-12-22 23:15:35.751000+00:00</td><td style='border: 1px solid #dddddd'>9c6845ac-5d18-41bf-a205-a7e4f44fad80</td></tr><tr><td style='border: 1px solid #dddddd'>389334d1-19bb-42a2-95cc-d1abc605727c</td><td style='border: 1px solid #dddddd'>OpenScale Tutorial MNIST Model Keras Function - SDK</td><td style='border: 1px solid #dddddd'>00000000-0000-0000-0000-000000000000</td><td style='border: 1px solid #dddddd'>ab1f0260-13bd-4507-a418-324a92d540c6</td><td style='border: 1px solid #dddddd'>OpenScale Tutorial MNIST Model Keras Function - SDK deployment</td><td style='border: 1px solid #dddddd'>9ef99223-9664-467a-8455-94636412e1e4</td><td style='border: 1px solid #dddddd'>active</td><td style='border: 1px solid #dddddd'>2021-12-22 23:08:50.803000+00:00</td><td style='border: 1px solid #dddddd'>600abb2a-1724-4e65-a919-a4ad66919fc6</td></tr><tr><td style='border: 1px solid #dddddd'>0c8206ae-aaf1-47da-aa21-97c87d4bca39</td><td style='border: 1px solid #dddddd'>OpenScale Tutorial MNIST Model Keras Function - SDK</td><td style='border: 1px solid #dddddd'>00000000-0000-0000-0000-000000000000</td><td style='border: 1px solid #dddddd'>4c28d143-fede-4eed-afd6-e629cc5a82ba</td><td style='border: 1px solid #dddddd'>OpenScale Tutorial MNIST Model Keras Function - SDK deployment</td><td style='border: 1px solid #dddddd'>9ef99223-9664-467a-8455-94636412e1e4</td><td style='border: 1px solid #dddddd'>active</td><td style='border: 1px solid #dddddd'>2021-12-22 23:04:21.953000+00:00</td><td style='border: 1px solid #dddddd'>188b92ee-c2d5-49a2-8a71-45015251f0ff</td></tr><tr><td style='border: 1px solid #dddddd'>e64a20f1-0aee-4a55-9b11-dcee9fd7f3a9</td><td style='border: 1px solid #dddddd'>OpenScale Tutorial MNIST Model Keras - SDK</td><td style='border: 1px solid #dddddd'>00000000-0000-0000-0000-000000000000</td><td style='border: 1px solid #dddddd'>4107e1e5-53fb-42b7-b14d-b12d1b7bdf1d</td><td style='border: 1px solid #dddddd'>OpenScale Tutorial MNIST Model Keras - SDK deployment</td><td style='border: 1px solid #dddddd'>9ef99223-9664-467a-8455-94636412e1e4</td><td style='border: 1px solid #dddddd'>active</td><td style='border: 1px solid #dddddd'>2021-12-22 19:47:03.419000+00:00</td><td style='border: 1px solid #dddddd'>5a334826-9331-4ae6-af55-4266edc0072e</td></tr><tr><td style='border: 1px solid #dddddd'>54d6902b-1cda-48e0-8d2e-654754743092</td><td style='border: 1px solid #dddddd'>OpenScale Tutorial MNIST Model Keras - SDK</td><td style='border: 1px solid #dddddd'>00000000-0000-0000-0000-000000000000</td><td style='border: 1px solid #dddddd'>f2896e3b-f82c-48dc-8bc9-618822a0d62f</td><td style='border: 1px solid #dddddd'>OpenScale Tutorial MNIST Model Keras - SDK deployment</td><td style='border: 1px solid #dddddd'>8b1f7a5e-de5d-4b41-a362-fe4e53da3288</td><td style='border: 1px solid #dddddd'>active</td><td style='border: 1px solid #dddddd'>2021-12-22 18:46:08.735000+00:00</td><td style='border: 1px solid #dddddd'>115e6bb8-4910-4872-8ae5-fb8f987d8d50</td></tr><tr><td style='border: 1px solid #dddddd'>4dbb75a9-e178-4a8c-8dcc-61a05c9e58e4</td><td style='border: 1px solid #dddddd'>OpenScale Tutorial MNIST Model Keras</td><td style='border: 1px solid #dddddd'>00000000-0000-0000-0000-000000000000</td><td style='border: 1px solid #dddddd'>bfa6d074-9041-419f-99bd-7009e488bc2e</td><td style='border: 1px solid #dddddd'>OpenScale Tutorial MNIST Model Keras deployment</td><td style='border: 1px solid #dddddd'>8b1f7a5e-de5d-4b41-a362-fe4e53da3288</td><td style='border: 1px solid #dddddd'>active</td><td style='border: 1px solid #dddddd'>2021-12-21 00:52:40.399000+00:00</td><td style='border: 1px solid #dddddd'>e27eb6e0-c677-4ac9-b344-1b9b2578b8c2</td></tr><tr><td style='border: 1px solid #dddddd'>98418cc1-a223-4227-8c06-8bcf9a7f3e69</td><td style='border: 1px solid #dddddd'>[asset] MODEL0_TOYMODEL_001</td><td style='border: 1px solid #dddddd'>00000000-0000-0000-0000-000000000000</td><td style='border: 1px solid #dddddd'>6e641b14-27a5-46a2-b3b6-2e2648709c87</td><td style='border: 1px solid #dddddd'>[asset] MODEL0_TOYMODEL_001</td><td style='border: 1px solid #dddddd'>79c553b5-be2e-4cd4-b4a4-cf9aa347b64b</td><td style='border: 1px solid #dddddd'>active</td><td style='border: 1px solid #dddddd'>2021-12-17 16:43:19.032000+00:00</td><td style='border: 1px solid #dddddd'>e72aed69-5a42-4e7f-a2e5-0d0673f11fad</td></tr><tr><td style='border: 1px solid #dddddd'>9c9e6fa5-b261-4492-931b-70e6c9618115</td><td style='border: 1px solid #dddddd'>MNIST Keras Model</td><td style='border: 1px solid #dddddd'>00000000-0000-0000-0000-000000000000</td><td style='border: 1px solid #dddddd'>fe22361f-3bd6-482a-9897-31368e08e663</td><td style='border: 1px solid #dddddd'>MNIST Keras Model deployment</td><td style='border: 1px solid #dddddd'>79c553b5-be2e-4cd4-b4a4-cf9aa347b64b</td><td style='border: 1px solid #dddddd'>active</td><td style='border: 1px solid #dddddd'>2021-12-15 19:13:17.828000+00:00</td><td style='border: 1px solid #dddddd'>45c5e0b2-d735-4b9f-8f3c-a51be13482d1</td></tr><tr><td style='border: 1px solid #dddddd'>fcfd2265-ab13-4597-93a7-40f4cafbb471</td><td style='border: 1px solid #dddddd'>XGB - Credit Risk Pipeline_TAI_demo</td><td style='border: 1px solid #dddddd'>00000000-0000-0000-0000-000000000000</td><td style='border: 1px solid #dddddd'>fc4e6720-84f9-4e22-9b95-b6671f3430e1</td><td style='border: 1px solid #dddddd'>prod_xgb_credit_risk_pipeline_deployment_TAI_demo</td><td style='border: 1px solid #dddddd'>986e166f-6edc-4006-bd7e-0a247e1d263d</td><td style='border: 1px solid #dddddd'>active</td><td style='border: 1px solid #dddddd'>2021-12-15 01:35:55.792000+00:00</td><td style='border: 1px solid #dddddd'>ca6972d1-f21c-419e-ac6a-8958889363d8</td></tr><tr><td style='border: 1px solid #dddddd'>67dfa8d5-534b-4be5-95dc-23f107425bd2</td><td style='border: 1px solid #dddddd'>RF - Credit Risk Pipeline_TAI_demo</td><td style='border: 1px solid #dddddd'>00000000-0000-0000-0000-000000000000</td><td style='border: 1px solid #dddddd'>84269536-6398-483d-b9dc-7740df8410a9</td><td style='border: 1px solid #dddddd'>pre_prod_rf_credit_risk_pipeline_deployment_TAI_demo</td><td style='border: 1px solid #dddddd'>6f827404-dff3-4911-92bc-368d340f53f3</td><td style='border: 1px solid #dddddd'>active</td><td style='border: 1px solid #dddddd'>2021-12-15 01:28:13.124000+00:00</td><td style='border: 1px solid #dddddd'>09b90398-75a2-4d5f-88b0-d5caef80ce44</td></tr>\n",
       "            </table>\n",
       "        </body>\n",
       "        </HTML>"
      ],
      "text/plain": [
       "<IPython.core.display.HTML object>"
      ]
     },
     "metadata": {},
     "output_type": "display_data"
    },
    {
     "name": "stdout",
     "output_type": "stream",
     "text": [
      "Note: First 10 records were displayed.\n"
     ]
    }
   ],
   "source": [
    "wos_client.subscriptions.show()"
   ]
  },
  {
   "cell_type": "code",
   "execution_count": 186,
   "metadata": {
    "id": "d521dc30-ae80-4c6f-984c-78d11d846117",
    "tags": []
   },
   "outputs": [],
   "source": [
    "# subscription_id = '188b92ee-c2d5-49a2-8a71-45015251f0ff'"
   ]
  },
  {
   "cell_type": "code",
   "execution_count": 187,
   "metadata": {
    "id": "07f7b719-63b9-4432-a405-bf0a35cb105b",
    "tags": []
   },
   "outputs": [
    {
     "data": {
      "text/html": [
       "<HTML>\n",
       "        <body>\n",
       "            <h3>Data sets</h3>\n",
       "            <table style='border: 1px solid #dddddd; font-family: Courier'>\n",
       "                <th style='border: 1px solid #dddddd'>data_mart_id</th><th style='border: 1px solid #dddddd'>status</th><th style='border: 1px solid #dddddd'>target_id</th><th style='border: 1px solid #dddddd'>target_type</th><th style='border: 1px solid #dddddd'>type</th><th style='border: 1px solid #dddddd'>created_at</th><th style='border: 1px solid #dddddd'>id</th>\n",
       "                <tr><td style='border: 1px solid #dddddd'>00000000-0000-0000-0000-000000000000</td><td style='border: 1px solid #dddddd'>active</td><td style='border: 1px solid #dddddd'>9c6845ac-5d18-41bf-a205-a7e4f44fad80</td><td style='border: 1px solid #dddddd'>subscription</td><td style='border: 1px solid #dddddd'>payload_logging_error</td><td style='border: 1px solid #dddddd'>2021-12-22 23:15:38.575000+00:00</td><td style='border: 1px solid #dddddd'>e60a6f90-8c26-4388-9477-21516e2772c7</td></tr><tr><td style='border: 1px solid #dddddd'>00000000-0000-0000-0000-000000000000</td><td style='border: 1px solid #dddddd'>active</td><td style='border: 1px solid #dddddd'>9c6845ac-5d18-41bf-a205-a7e4f44fad80</td><td style='border: 1px solid #dddddd'>subscription</td><td style='border: 1px solid #dddddd'>training</td><td style='border: 1px solid #dddddd'>2021-12-22 23:15:38.441000+00:00</td><td style='border: 1px solid #dddddd'>627f0fe7-b3d6-4570-b7a0-3613e32393a9</td></tr><tr><td style='border: 1px solid #dddddd'>00000000-0000-0000-0000-000000000000</td><td style='border: 1px solid #dddddd'>active</td><td style='border: 1px solid #dddddd'>9c6845ac-5d18-41bf-a205-a7e4f44fad80</td><td style='border: 1px solid #dddddd'>subscription</td><td style='border: 1px solid #dddddd'>manual_labeling</td><td style='border: 1px solid #dddddd'>2021-12-22 23:15:38.275000+00:00</td><td style='border: 1px solid #dddddd'>a8a4e125-ba20-4cf5-9cf0-8f759a0b49aa</td></tr><tr><td style='border: 1px solid #dddddd'>00000000-0000-0000-0000-000000000000</td><td style='border: 1px solid #dddddd'>active</td><td style='border: 1px solid #dddddd'>9c6845ac-5d18-41bf-a205-a7e4f44fad80</td><td style='border: 1px solid #dddddd'>subscription</td><td style='border: 1px solid #dddddd'>payload_logging</td><td style='border: 1px solid #dddddd'>2021-12-22 23:15:38.162000+00:00</td><td style='border: 1px solid #dddddd'>7811a00f-8d34-4591-8b22-1d12c3f118b1</td></tr>\n",
       "            </table>\n",
       "        </body>\n",
       "        </HTML>"
      ],
      "text/plain": [
       "<IPython.core.display.HTML object>"
      ]
     },
     "metadata": {},
     "output_type": "display_data"
    }
   ],
   "source": [
    "import time\n",
    "time.sleep(5) # wait for the tables to be created\n",
    "wos_client.data_sets.show(target_target_id=subscription_id)"
   ]
  },
  {
   "cell_type": "code",
   "execution_count": 188,
   "metadata": {
    "id": "fa292067-c3af-4fb3-bbe2-e28ba486616f",
    "tags": []
   },
   "outputs": [],
   "source": [
    "# payload_data_set_id = '83abf1e6-5df4-4a59-a06c-516b649e9d0f'\n",
    "\n",
    "payload_data_set_id = wos_client.data_sets.list(type=DataSetTypes.PAYLOAD_LOGGING, \n",
    "                                                target_target_id=subscription_id, \n",
    "                                                target_target_type=TargetTypes.SUBSCRIPTION).result.data_sets[0].metadata.id"
   ]
  },
  {
   "cell_type": "code",
   "execution_count": 189,
   "metadata": {
    "id": "36c2f38e-067b-4c5c-be40-464635fc46ed",
    "tags": []
   },
   "outputs": [
    {
     "data": {
      "text/html": [
       "<HTML>\n",
       "        <body>\n",
       "            <h3>Data Set 7811a00f-8d34-4591-8b22-1d12c3f118b1 Records</h3>\n",
       "            <table style='border: 1px solid #dddddd; font-family: Courier'>\n",
       "                \n",
       "                \n",
       "            </table>\n",
       "        </body>\n",
       "        </HTML>"
      ],
      "text/plain": [
       "<IPython.core.display.HTML object>"
      ]
     },
     "metadata": {},
     "output_type": "display_data"
    }
   ],
   "source": [
    "wos_client.data_sets.show_records(payload_data_set_id)"
   ]
  },
  {
   "cell_type": "markdown",
   "metadata": {
    "id": "b975eb07-0ffd-4a3d-b568-78e6b5ec4faf"
   },
   "source": [
    "### 3.3 Score the model and get transaction-id"
   ]
  },
  {
   "cell_type": "code",
   "execution_count": 190,
   "metadata": {
    "id": "b41fbdc6-5377-47c0-a63d-dbe47e0fb5d2",
    "tags": []
   },
   "outputs": [
    {
     "name": "stdout",
     "output_type": "stream",
     "text": [
      "Requirement already satisfied: numpy in /opt/conda/envs/Python-3.7-OpenCE/lib/python3.7/site-packages (1.19.2)\n",
      "Requirement already satisfied: matplotlib in /opt/conda/envs/Python-3.7-OpenCE/lib/python3.7/site-packages (3.2.2)\n",
      "Requirement already satisfied: pyparsing!=2.0.4,!=2.1.2,!=2.1.6,>=2.0.1 in /opt/conda/envs/Python-3.7-OpenCE/lib/python3.7/site-packages (from matplotlib) (2.4.7)\n",
      "Requirement already satisfied: kiwisolver>=1.0.1 in /opt/conda/envs/Python-3.7-OpenCE/lib/python3.7/site-packages (from matplotlib) (1.2.0)\n",
      "Requirement already satisfied: numpy>=1.11 in /opt/conda/envs/Python-3.7-OpenCE/lib/python3.7/site-packages (from matplotlib) (1.19.2)\n",
      "Requirement already satisfied: cycler>=0.10 in /opt/conda/envs/Python-3.7-OpenCE/lib/python3.7/site-packages (from matplotlib) (0.10.0)\n",
      "Requirement already satisfied: python-dateutil>=2.1 in /opt/conda/envs/Python-3.7-OpenCE/lib/python3.7/site-packages (from matplotlib) (2.8.1)\n",
      "Requirement already satisfied: six in /opt/conda/envs/Python-3.7-OpenCE/lib/python3.7/site-packages (from cycler>=0.10->matplotlib) (1.15.0)\n"
     ]
    },
    {
     "data": {
      "image/png": "[encoded data removed]",
      "text/plain": [
       "<Figure size 432x288 with 1 Axes>"
      ]
     },
     "metadata": {
      "needs_background": "light"
     },
     "output_type": "display_data"
    }
   ],
   "source": [
    "!pip install numpy\n",
    "!pip install matplotlib\n",
    "\n",
    "import numpy as np\n",
    "import matplotlib.pyplot as plt\n",
    "\n",
    "%matplotlib inline \n",
    "img = np.array(x_test[999], dtype='float')\n",
    "pixels = img.reshape((28, 28))\n",
    "plt.imshow(pixels, cmap='gray')\n",
    "plt.show()"
   ]
  },
  {
   "cell_type": "code",
   "execution_count": 191,
   "metadata": {
    "id": "92f99d3e-7343-445e-a990-932e9c4ea00a",
    "tags": []
   },
   "outputs": [],
   "source": [
    "scoring_data = {\"input_data\": [{\"values\": [x_test[999].tolist()]}]}\n",
    "predictions = wml_client.deployments.score(deployment_uid, scoring_data)"
   ]
  },
  {
   "cell_type": "code",
   "execution_count": 192,
   "metadata": {
    "id": "75bc6377-01ae-43b3-8621-0304111aaade",
    "tags": []
   },
   "outputs": [
    {
     "data": {
      "text/plain": [
       "'{\"input_data\": [{\"values\": [[[[0.0], [0.0], [0.0], [0.0], [0.0], [0.0], [0.0], [0.0], [0.0], [0.0], [0.0], [0.0], [0.0], [0.0], [0.0], [0.0], [0.0], [0.0], [0.0], [0.0], [0.0], [0.0], [0.0], [0.0], [0.0], [0.0], [0.0], [0.0]], [[0.0], [0.0], [0.0], [0.0], [0.0], [0.0], [0.0], [0.0], [0.0], [0.0], [0.0], [0.0], [0.0], [0.0], [0.0], [0.0], [0.0], [0.0], [0.0], [0.0], [0.0], [0.0], [0.0], [0.0], [0.0], [0.0], [0.0], [0.0]], [[0.0], [0.0], [0.0], [0.0], [0.0], [0.0], [0.0], [0.0], [0.0], [0.0], [0.0], [0.0], [0.0], [0.0], [0.0], [0.0], [0.0], [0.0], [0.0], [0.0], [0.0], [0.0], [0.0], [0.0], [0.0], [0.0], [0.0], [0.0]], [[0.0], [0.0], [0.0], [0.0], [0.0], [0.0], [0.0], [0.0], [0.0], [0.0], [0.0], [0.0], [0.0], [0.0], [0.0], [0.0], [0.0], [0.0], [0.0], [0.0], [0.0], [0.0], [0.0], [0.0], [0.0], [0.0], [0.0], [0.0]], [[0.0], [0.0], [0.0], [0.0], [0.0], [0.0], [0.0], [0.0], [0.0], [0.0], [0.0], [0.0], [0.0], [0.0], [0.0], [0.0], [0.0], [0.0], [0.0], [0.0], [0.0], [0.0], [0.0], [0.0], [0.0], [0.0], [0.0], [0.0]], [[0.0], [0.0], [0.0], [0.0], [0.0], [0.0], [0.0], [0.0], [0.0], [0.0], [0.0], [0.0], [0.0], [0.0], [0.0], [0.0], [0.0], [0.0], [0.0], [0.0], [0.0], [0.0], [0.0], [0.0], [0.0], [0.0], [0.0], [0.0]], [[0.0], [0.0], [0.0], [0.0], [0.0], [0.0], [0.0], [0.0], [0.0], [0.0235294122248888], [0.5098039507865906], [0.9411764740943909], [0.9960784316062927], [0.9019607901573181], [0.6666666865348816], [0.13333334028720856], [0.0], [0.0], [0.0], [0.0], [0.0], [0.0], [0.0], [0.0], [0.0], [0.0], [0.0], [0.0]], [[0.0], [0.0], [0.0], [0.0], [0.0], [0.0], [0.0], [0.0], [0.03921568766236305], [0.4745098054409027], [0.9960784316062927], [0.8352941274642944], [0.5568627715110779], [0.7529411911964417], [0.9607843160629272], [0.9647058844566345], [0.21960784494876862], [0.0], [0.0], [0.0], [0.0], [0.0], [0.0], [0.0], [0.0], [0.0], [0.0], [0.0]], [[0.0], [0.0], [0.0], [0.0], [0.0], [0.0], [0.0], [0.0], [0.47058823704719543], [1.0], [0.6784313917160034], [0.03529411926865578], [0.0], [0.0], [0.2666666805744171], [0.9490196108818054], [0.9607843160629272], [0.16078431904315948], [0.0], [0.0], [0.0], [0.0], [0.0], [0.0], [0.0], [0.0], [0.0], [0.0]], [[0.0], [0.0], [0.0], [0.0], [0.0], [0.0], [0.0], [0.062745101749897], [0.9137254953384399], [0.8666666746139526], [0.0313725508749485], [0.0], [0.0], [0.0], [0.0], [0.2705882489681244], [0.9490196108818054], [0.8470588326454163], [0.46666666865348816], [0.0], [0.0], [0.0], [0.0], [0.0], [0.0], [0.0], [0.0], [0.0]], [[0.0], [0.0], [0.0], [0.0], [0.0], [0.0], [0.0], [0.250980406999588], [0.9960784316062927], [0.4313725531101227], [0.0], [0.0], [0.0], [0.0], [0.0], [0.0], [0.615686297416687], [0.9960784316062927], [0.9960784316062927], [0.0], [0.0], [0.0], [0.0], [0.0], [0.0], [0.0], [0.0], [0.0]], [[0.0], [0.0], [0.0], [0.0], [0.0], [0.0], [0.0], [0.46666666865348816], [0.9803921580314636], [0.09803921729326248], [0.0], [0.0], [0.0], [0.0], [0.0], [0.0], [0.501960813999176], [0.9960784316062927], [0.7843137383460999], [0.0], [0.0], [0.0], [0.0], [0.0], [0.0], [0.0], [0.0], [0.0]], [[0.0], [0.0], [0.0], [0.0], [0.0], [0.0], [0.0], [0.7960784435272217], [0.6823529601097107], [0.0], [0.0], [0.0], [0.0], [0.0], [0.0], [0.0], [0.501960813999176], [0.9960784316062927], [0.6823529601097107], [0.0], [0.0], [0.0], [0.0], [0.0], [0.0], [0.0], [0.0], [0.0]], [[0.0], [0.0], [0.0], [0.0], [0.0], [0.0], [0.0], [0.7176470756530762], [0.7411764860153198], [0.05882352963089943], [0.0], [0.0], [0.0], [0.0], [0.0], [0.0], [0.501960813999176], [0.9960784316062927], [0.4313725531101227], [0.0], [0.0], [0.0], [0.0], [0.0], [0.0], [0.0], [0.0], [0.0]], [[0.0], [0.0], [0.0], [0.0], [0.0], [0.0], [0.0], [0.22745098173618317], [0.9803921580314636], [0.7960784435272217], [0.3176470696926117], [0.0], [0.0], [0.0], [0.0], [0.0], [0.501960813999176], [0.9960784316062927], [0.37254902720451355], [0.03529411926865578], [0.4941176474094391], [0.0], [0.0], [0.0], [0.0], [0.0], [0.0], [0.0]], [[0.0], [0.0], [0.0], [0.0], [0.0], [0.0], [0.0], [0.0], [0.45098039507865906], [0.9960784316062927], [0.929411768913269], [0.3137255012989044], [0.0], [0.0], [0.0], [0.0], [0.501960813999176], [0.9960784316062927], [0.5647059082984924], [0.843137264251709], [0.5764706134796143], [0.0], [0.0], [0.0], [0.0], [0.0], [0.0], [0.0]], [[0.0], [0.0], [0.0], [0.0], [0.0], [0.0], [0.0], [0.0], [0.0], [0.4313725531101227], [0.886274516582489], [0.9960784316062927], [0.5490196347236633], [0.08235294371843338], [0.05882352963089943], [0.007843137718737125], [0.8235294222831726], [0.9960784316062927], [0.9960784316062927], [0.8196078538894653], [0.0784313753247261], [0.0], [0.0], [0.0], [0.0], [0.0], [0.0], [0.0]], [[0.0], [0.0], [0.0], [0.0], [0.0], [0.0], [0.0], [0.0], [0.0], [0.0], [0.10980392247438431], [0.4627451002597809], [0.9411764740943909], [0.9960784316062927], [0.9843137264251709], [0.7803921699523926], [0.9960784316062927], [0.9960784316062927], [0.7803921699523926], [0.0784313753247261], [0.0], [0.0], [0.0], [0.0], [0.0], [0.0], [0.0], [0.0]], [[0.0], [0.0], [0.0], [0.0], [0.0], [0.0], [0.0], [0.0], [0.0], [0.0], [0.0], [0.0], [0.10588235408067703], [0.47843137383461], [0.501960813999176], [0.49803921580314636], [0.9019607901573181], [0.9960784316062927], [0.062745101749897], [0.0], [0.0], [0.0], [0.0], [0.0], [0.0], [0.0], [0.0], [0.0]], [[0.0], [0.0], [0.0], [0.0], [0.0], [0.0], [0.0], [0.0], [0.0], [0.0], [0.0], [0.0], [0.0], [0.0], [0.0], [0.0], [0.8117647171020508], [0.9333333373069763], [0.0470588244497776], [0.0], [0.0], [0.0], [0.0], [0.0], [0.0], [0.0], [0.0], [0.0]], [[0.0], [0.0], [0.0], [0.0], [0.0], [0.0], [0.0], [0.0], [0.0], [0.0], [0.0], [0.0], [0.0], [0.0], [0.0], [0.0], [0.8117647171020508], [0.7450980544090271], [0.0], [0.0], [0.0], [0.0], [0.0], [0.0], [0.0], [0.0], [0.0], [0.0]], [[0.0], [0.0], [0.0], [0.0], [0.0], [0.0], [0.0], [0.0], [0.0], [0.0], [0.0], [0.0], [0.0], [0.0], [0.0], [0.24313725531101227], [0.9960784316062927], [0.41960784792900085], [0.0], [0.0], [0.0], [0.0], [0.0], [0.0], [0.0], [0.0], [0.0], [0.0]], [[0.0], [0.0], [0.0], [0.0], [0.0], [0.0], [0.0], [0.0], [0.0], [0.0], [0.0], [0.0], [0.0], [0.0], [0.0], [0.6705882549285889], [0.9960784316062927], [0.125490203499794], [0.0], [0.0], [0.0], [0.0], [0.0], [0.0], [0.0], [0.0], [0.0], [0.0]], [[0.0], [0.0], [0.0], [0.0], [0.0], [0.0], [0.0], [0.0], [0.0], [0.0], [0.0], [0.0], [0.0], [0.0], [0.0313725508749485], [0.8705882430076599], [0.9019607901573181], [0.062745101749897], [0.0], [0.0], [0.0], [0.0], [0.0], [0.0], [0.0], [0.0], [0.0], [0.0]], [[0.0], [0.0], [0.0], [0.0], [0.0], [0.0], [0.0], [0.0], [0.0], [0.0], [0.0], [0.0], [0.0], [0.0], [0.239215686917305], [0.9960784316062927], [0.4588235318660736], [0.0], [0.0], [0.0], [0.0], [0.0], [0.0], [0.0], [0.0], [0.0], [0.0], [0.0]], [[0.0], [0.0], [0.0], [0.0], [0.0], [0.0], [0.0], [0.0], [0.0], [0.0], [0.0], [0.0], [0.0], [0.0], [0.27843138575553894], [0.95686274766922], [0.12941177189350128], [0.0], [0.0], [0.0], [0.0], [0.0], [0.0], [0.0], [0.0], [0.0], [0.0], [0.0]], [[0.0], [0.0], [0.0], [0.0], [0.0], [0.0], [0.0], [0.0], [0.0], [0.0], [0.0], [0.0], [0.0], [0.0], [0.0], [0.0], [0.0], [0.0], [0.0], [0.0], [0.0], [0.0], [0.0], [0.0], [0.0], [0.0], [0.0], [0.0]], [[0.0], [0.0], [0.0], [0.0], [0.0], [0.0], [0.0], [0.0], [0.0], [0.0], [0.0], [0.0], [0.0], [0.0], [0.0], [0.0], [0.0], [0.0], [0.0], [0.0], [0.0], [0.0], [0.0], [0.0], [0.0], [0.0], [0.0], [0.0]]]]}]}'"
      ]
     },
     "execution_count": 192,
     "metadata": {},
     "output_type": "execute_result"
    }
   ],
   "source": [
    "json.dumps(scoring_data)"
   ]
  },
  {
   "cell_type": "code",
   "execution_count": 193,
   "metadata": {
    "id": "632a0334-2022-42ab-8b25-e6267cdebb38",
    "tags": []
   },
   "outputs": [
    {
     "name": "stdout",
     "output_type": "stream",
     "text": [
      "{\n",
      "  \"predictions\": [\n",
      "    {\n",
      "      \"id\": \"dense_1\",\n",
      "      \"fields\": [\n",
      "        \"prediction\",\n",
      "        \"prediction_classes\",\n",
      "        \"probability\"\n",
      "      ],\n",
      "      \"values\": [\n",
      "        [\n",
      "          [\n",
      "            0.0863162949681282,\n",
      "            0.05858057737350464,\n",
      "            0.08828134089708328,\n",
      "            0.08890403062105179,\n",
      "            0.14057880640029907,\n",
      "            0.07244487851858139,\n",
      "            0.10328609496355057,\n",
      "            0.11191179603338242,\n",
      "            0.09308787435293198,\n",
      "            0.15660829842090607\n",
      "          ],\n",
      "          9,\n",
      "          [\n",
      "            0.0863162949681282,\n",
      "            0.05858057737350464,\n",
      "            0.08828134089708328,\n",
      "            0.08890403062105179,\n",
      "            0.14057880640029907,\n",
      "            0.07244487851858139,\n",
      "            0.10328609496355057,\n",
      "            0.11191179603338242,\n",
      "            0.09308787435293198,\n",
      "            0.15660829842090607\n",
      "          ]\n",
      "        ]\n",
      "      ]\n",
      "    }\n",
      "  ]\n",
      "}\n"
     ]
    }
   ],
   "source": [
    "print(json.dumps(predictions, indent=2))"
   ]
  },
  {
   "cell_type": "code",
   "execution_count": 194,
   "metadata": {
    "id": "a42a34a4-0e46-4f29-a062-04b766ec5fec",
    "tags": []
   },
   "outputs": [
    {
     "data": {
      "text/html": [
       "<HTML>\n",
       "        <body>\n",
       "            <h3>Data Set 7811a00f-8d34-4591-8b22-1d12c3f118b1 Records</h3>\n",
       "            <table style='border: 1px solid #dddddd; font-family: Courier'>\n",
       "                <th style='border: 1px solid #dddddd'>asset_revision</th><th style='border: 1px solid #dddddd'>scoring_id</th><th style='border: 1px solid #dddddd'>scoring_timestamp</th><th style='border: 1px solid #dddddd'>prediction_probability</th><th style='border: 1px solid #dddddd'>prediction</th><th style='border: 1px solid #dddddd'>scoring_input</th><th style='border: 1px solid #dddddd'>deployment_id</th><th style='border: 1px solid #dddddd'>probability</th><th style='border: 1px solid #dddddd'>prediction_classes</th>\n",
       "                <tr><td style='border: 1px solid #dddddd'></td><td style='border: 1px solid #dddddd'>a53d4a248b19bd1a1d0fc79c2ff3210f-1</td><td style='border: 1px solid #dddddd'>2021-12-22T23:15:44.873940Z</td><td style='border: 1px solid #dddddd'>0.15660829842090607</td><td style='border: 1px solid #dddddd'>[0.0863162949681282, 0.05858057737350464, 0.08828134089708328, 0.08890403062105179, 0.14057880640029907, 0.07244487851858139, 0.10328609496355057, 0.11191179603338242, 0.09308787435293198, 0.15660829842090607]</td><td style='border: 1px solid #dddddd'>[[[0.0], [0.0], [0.0], [0.0], [0.0], [0.0], [0.0], [0.0], [0.0], [0.0], [0.0], [0.0], [0.0], [0.0], [0.0], [0.0], [0.0], [0.0], [0.0], [0.0], [0.0], [0.0], [0.0], [0.0], [0.0], [0.0], [0.0], [0.0]], [[0.0], [0.0], [0.0], [0.0], [0.0], [0.0], [0.0], [0.0], [0.0], [0.0], [0.0], [0.0], [0.0], [0.0], [0.0], [0.0], [0.0], [0.0], [0.0], [0.0], [0.0], [0.0], [0.0], [0.0], [0.0], [0.0], [0.0], [0.0]], [[0.0], [0.0], [0.0], [0.0], [0.0], [0.0], [0.0], [0.0], [0.0], [0.0], [0.0], [0.0], [0.0], [0.0], [0.0], [0.0], [0.0], [0.0], [0.0], [0.0], [0.0], [0.0], [0.0], [0.0], [0.0], [0.0], [0.0], [0.0]], [[0.0], [0.0], [0.0], [0.0], [0.0], [0.0], [0.0], [0.0], [0.0], [0.0], [0.0], [0.0], [0.0], [0.0], [0.0], [0.0], [0.0], [0.0], [0.0], [0.0], [0.0], [0.0], [0.0], [0.0], [0.0], [0.0], [0.0], [0.0]], [[0.0], [0.0], [0.0], [0.0], [0.0], [0.0], [0.0], [0.0], [0.0], [0.0], [0.0], [0.0], [0.0], [0.0], [0.0], [0.0], [0.0], [0.0], [0.0], [0.0], [0.0], [0.0], [0.0], [0.0], [0.0], [0.0], [0.0], [0.0]], [[0.0], [0.0], [0.0], [0.0], [0.0], [0.0], [0.0], [0.0], [0.0], [0.0], [0.0], [0.0], [0.0], [0.0], [0.0], [0.0], [0.0], [0.0], [0.0], [0.0], [0.0], [0.0], [0.0], [0.0], [0.0], [0.0], [0.0], [0.0]], [[0.0], [0.0], [0.0], [0.0], [0.0], [0.0], [0.0], [0.0], [0.0], [0.0235294122248888], [0.5098039507865906], [0.9411764740943909], [0.9960784316062927], [0.9019607901573181], [0.6666666865348816], [0.13333334028720856], [0.0], [0.0], [0.0], [0.0], [0.0], [0.0], [0.0], [0.0], [0.0], [0.0], [0.0], [0.0]], [[0.0], [0.0], [0.0], [0.0], [0.0], [0.0], [0.0], [0.0], [0.03921568766236305], [0.4745098054409027], [0.9960784316062927], [0.8352941274642944], [0.5568627715110779], [0.7529411911964417], [0.9607843160629272], [0.9647058844566345], [0.21960784494876862], [0.0], [0.0], [0.0], [0.0], [0.0], [0.0], [0.0], [0.0], [0.0], [0.0], [0.0]], [[0.0], [0.0], [0.0], [0.0], [0.0], [0.0], [0.0], [0.0], [0.47058823704719543], [1.0], [0.6784313917160034], [0.03529411926865578], [0.0], [0.0], [0.2666666805744171], [0.9490196108818054], [0.9607843160629272], [0.16078431904315948], [0.0], [0.0], [0.0], [0.0], [0.0], [0.0], [0.0], [0.0], [0.0], [0.0]], [[0.0], [0.0], [0.0], [0.0], [0.0], [0.0], [0.0], [0.062745101749897], [0.9137254953384399], [0.8666666746139526], [0.0313725508749485], [0.0], [0.0], [0.0], [0.0], [0.2705882489681244], [0.9490196108818054], [0.8470588326454163], [0.46666666865348816], [0.0], [0.0], [0.0], [0.0], [0.0], [0.0], [0.0], [0.0], [0.0]], [[0.0], [0.0], [0.0], [0.0], [0.0], [0.0], [0.0], [0.250980406999588], [0.9960784316062927], [0.4313725531101227], [0.0], [0.0], [0.0], [0.0], [0.0], [0.0], [0.615686297416687], [0.9960784316062927], [0.9960784316062927], [0.0], [0.0], [0.0], [0.0], [0.0], [0.0], [0.0], [0.0], [0.0]], [[0.0], [0.0], [0.0], [0.0], [0.0], [0.0], [0.0], [0.46666666865348816], [0.9803921580314636], [0.09803921729326248], [0.0], [0.0], [0.0], [0.0], [0.0], [0.0], [0.501960813999176], [0.9960784316062927], [0.7843137383460999], [0.0], [0.0], [0.0], [0.0], [0.0], [0.0], [0.0], [0.0], [0.0]], [[0.0], [0.0], [0.0], [0.0], [0.0], [0.0], [0.0], [0.7960784435272217], [0.6823529601097107], [0.0], [0.0], [0.0], [0.0], [0.0], [0.0], [0.0], [0.501960813999176], [0.9960784316062927], [0.6823529601097107], [0.0], [0.0], [0.0], [0.0], [0.0], [0.0], [0.0], [0.0], [0.0]], [[0.0], [0.0], [0.0], [0.0], [0.0], [0.0], [0.0], [0.7176470756530762], [0.7411764860153198], [0.05882352963089943], [0.0], [0.0], [0.0], [0.0], [0.0], [0.0], [0.501960813999176], [0.9960784316062927], [0.4313725531101227], [0.0], [0.0], [0.0], [0.0], [0.0], [0.0], [0.0], [0.0], [0.0]], [[0.0], [0.0], [0.0], [0.0], [0.0], [0.0], [0.0], [0.22745098173618317], [0.9803921580314636], [0.7960784435272217], [0.3176470696926117], [0.0], [0.0], [0.0], [0.0], [0.0], [0.501960813999176], [0.9960784316062927], [0.37254902720451355], [0.03529411926865578], [0.4941176474094391], [0.0], [0.0], [0.0], [0.0], [0.0], [0.0], [0.0]], [[0.0], [0.0], [0.0], [0.0], [0.0], [0.0], [0.0], [0.0], [0.45098039507865906], [0.9960784316062927], [0.929411768913269], [0.3137255012989044], [0.0], [0.0], [0.0], [0.0], [0.501960813999176], [0.9960784316062927], [0.5647059082984924], [0.843137264251709], [0.5764706134796143], [0.0], [0.0], [0.0], [0.0], [0.0], [0.0], [0.0]], [[0.0], [0.0], [0.0], [0.0], [0.0], [0.0], [0.0], [0.0], [0.0], [0.4313725531101227], [0.886274516582489], [0.9960784316062927], [0.5490196347236633], [0.08235294371843338], [0.05882352963089943], [0.007843137718737125], [0.8235294222831726], [0.9960784316062927], [0.9960784316062927], [0.8196078538894653], [0.0784313753247261], [0.0], [0.0], [0.0], [0.0], [0.0], [0.0], [0.0]], [[0.0], [0.0], [0.0], [0.0], [0.0], [0.0], [0.0], [0.0], [0.0], [0.0], [0.10980392247438431], [0.4627451002597809], [0.9411764740943909], [0.9960784316062927], [0.9843137264251709], [0.7803921699523926], [0.9960784316062927], [0.9960784316062927], [0.7803921699523926], [0.0784313753247261], [0.0], [0.0], [0.0], [0.0], [0.0], [0.0], [0.0], [0.0]], [[0.0], [0.0], [0.0], [0.0], [0.0], [0.0], [0.0], [0.0], [0.0], [0.0], [0.0], [0.0], [0.10588235408067703], [0.47843137383461], [0.501960813999176], [0.49803921580314636], [0.9019607901573181], [0.9960784316062927], [0.062745101749897], [0.0], [0.0], [0.0], [0.0], [0.0], [0.0], [0.0], [0.0], [0.0]], [[0.0], [0.0], [0.0], [0.0], [0.0], [0.0], [0.0], [0.0], [0.0], [0.0], [0.0], [0.0], [0.0], [0.0], [0.0], [0.0], [0.8117647171020508], [0.9333333373069763], [0.0470588244497776], [0.0], [0.0], [0.0], [0.0], [0.0], [0.0], [0.0], [0.0], [0.0]], [[0.0], [0.0], [0.0], [0.0], [0.0], [0.0], [0.0], [0.0], [0.0], [0.0], [0.0], [0.0], [0.0], [0.0], [0.0], [0.0], [0.8117647171020508], [0.7450980544090271], [0.0], [0.0], [0.0], [0.0], [0.0], [0.0], [0.0], [0.0], [0.0], [0.0]], [[0.0], [0.0], [0.0], [0.0], [0.0], [0.0], [0.0], [0.0], [0.0], [0.0], [0.0], [0.0], [0.0], [0.0], [0.0], [0.24313725531101227], [0.9960784316062927], [0.41960784792900085], [0.0], [0.0], [0.0], [0.0], [0.0], [0.0], [0.0], [0.0], [0.0], [0.0]], [[0.0], [0.0], [0.0], [0.0], [0.0], [0.0], [0.0], [0.0], [0.0], [0.0], [0.0], [0.0], [0.0], [0.0], [0.0], [0.6705882549285889], [0.9960784316062927], [0.125490203499794], [0.0], [0.0], [0.0], [0.0], [0.0], [0.0], [0.0], [0.0], [0.0], [0.0]], [[0.0], [0.0], [0.0], [0.0], [0.0], [0.0], [0.0], [0.0], [0.0], [0.0], [0.0], [0.0], [0.0], [0.0], [0.0313725508749485], [0.8705882430076599], [0.9019607901573181], [0.062745101749897], [0.0], [0.0], [0.0], [0.0], [0.0], [0.0], [0.0], [0.0], [0.0], [0.0]], [[0.0], [0.0], [0.0], [0.0], [0.0], [0.0], [0.0], [0.0], [0.0], [0.0], [0.0], [0.0], [0.0], [0.0], [0.239215686917305], [0.9960784316062927], [0.4588235318660736], [0.0], [0.0], [0.0], [0.0], [0.0], [0.0], [0.0], [0.0], [0.0], [0.0], [0.0]], [[0.0], [0.0], [0.0], [0.0], [0.0], [0.0], [0.0], [0.0], [0.0], [0.0], [0.0], [0.0], [0.0], [0.0], [0.27843138575553894], [0.95686274766922], [0.12941177189350128], [0.0], [0.0], [0.0], [0.0], [0.0], [0.0], [0.0], [0.0], [0.0], [0.0], [0.0]], [[0.0], [0.0], [0.0], [0.0], [0.0], [0.0], [0.0], [0.0], [0.0], [0.0], [0.0], [0.0], [0.0], [0.0], [0.0], [0.0], [0.0], [0.0], [0.0], [0.0], [0.0], [0.0], [0.0], [0.0], [0.0], [0.0], [0.0], [0.0]], [[0.0], [0.0], [0.0], [0.0], [0.0], [0.0], [0.0], [0.0], [0.0], [0.0], [0.0], [0.0], [0.0], [0.0], [0.0], [0.0], [0.0], [0.0], [0.0], [0.0], [0.0], [0.0], [0.0], [0.0], [0.0], [0.0], [0.0], [0.0]]]</td><td style='border: 1px solid #dddddd'>1a728d58-8e70-42a0-b6ee-63d5f7ef4791</td><td style='border: 1px solid #dddddd'>[0.0863162949681282, 0.05858057737350464, 0.08828134089708328, 0.08890403062105179, 0.14057880640029907, 0.07244487851858139, 0.10328609496355057, 0.11191179603338242, 0.09308787435293198, 0.15660829842090607]</td><td style='border: 1px solid #dddddd'>9</td></tr>\n",
       "            </table>\n",
       "        </body>\n",
       "        </HTML>"
      ],
      "text/plain": [
       "<IPython.core.display.HTML object>"
      ]
     },
     "metadata": {},
     "output_type": "display_data"
    }
   ],
   "source": [
    "wos_client.data_sets.show_records(payload_data_set_id)"
   ]
  },
  {
   "cell_type": "markdown",
   "metadata": {
    "id": "9da5502a-4c0e-4599-94a6-94cc73228107"
   },
   "source": [
    "## 4. Custom Monitors and Metrics\n",
    "### Register custom monitor"
   ]
  },
  {
   "cell_type": "code",
   "execution_count": 195,
   "metadata": {
    "id": "68b36d89-e575-414d-9e59-3473dcc8e948",
    "tags": []
   },
   "outputs": [],
   "source": [
    "def get_definition(monitor_name):\n",
    "    monitor_definitions = wos_client.monitor_definitions.list().result.monitor_definitions\n",
    "    \n",
    "    for definition in monitor_definitions:\n",
    "        if monitor_name == definition.entity.name:\n",
    "            return definition\n",
    "    \n",
    "    return None"
   ]
  },
  {
   "cell_type": "code",
   "execution_count": 197,
   "metadata": {
    "id": "e8a92e7c-f1a9-4a82-b96f-db9a1eb548da",
    "tags": []
   },
   "outputs": [
    {
     "name": "stdout",
     "output_type": "stream",
     "text": [
      "monitor found\n"
     ]
    }
   ],
   "source": [
    "monitor_name = 'Pixel Level Metrics'\n",
    "metrics = [MonitorMetricRequest(name='Pixel Accuracy',\n",
    "                                thresholds=[MetricThreshold(type=MetricThresholdTypes.LOWER_LIMIT, default=0.8)]),\n",
    "          MonitorMetricRequest(name='Dice Score',\n",
    "                                thresholds=[MetricThreshold(type=MetricThresholdTypes.LOWER_LIMIT, default=0.75)]),\n",
    "          MonitorMetricRequest(name='IoU',\n",
    "                                thresholds=[MetricThreshold(type=MetricThresholdTypes.LOWER_LIMIT, default=0.6)])]\n",
    "tags = []#[MonitorTagRequest(name='region', description='customer geographical region')]\n",
    "\n",
    "existing_definition = get_definition(monitor_name)\n",
    "\n",
    "if existing_definition is None:\n",
    "    custom_monitor_details = wos_client.monitor_definitions.add(name=monitor_name, metrics=metrics, tags=tags, background_mode=False).result\n",
    "else:\n",
    "    print('monitor found')\n",
    "    custom_monitor_details = existing_definition\n",
    "\n"
   ]
  },
  {
   "cell_type": "code",
   "execution_count": 198,
   "metadata": {
    "id": "20fbef53-4557-4bf0-88b2-45aded145b45",
    "tags": []
   },
   "outputs": [
    {
     "data": {
      "text/html": [
       "<HTML>\n",
       "        <body>\n",
       "            <h3>Monitor definitions</h3>\n",
       "            <table style='border: 1px solid #dddddd; font-family: Courier'>\n",
       "                <th style='border: 1px solid #dddddd'>monitor id</th><th style='border: 1px solid #dddddd'>monitor name</th><th style='border: 1px solid #dddddd'>metrics names</th>\n",
       "                <tr><td style='border: 1px solid #dddddd'>pixel_level_metrics</td><td style='border: 1px solid #dddddd'>Pixel Level Metrics</td><td style='border: 1px solid #dddddd'>['Pixel Accuracy', 'Dice Score', 'IoU']</td></tr><tr><td style='border: 1px solid #dddddd'>custom_monitor_test</td><td style='border: 1px solid #dddddd'>custom_monitor_test</td><td style='border: 1px solid #dddddd'>['sensitivity', 'specificity']</td></tr><tr><td style='border: 1px solid #dddddd'>assurance</td><td style='border: 1px solid #dddddd'>Assurance</td><td style='border: 1px solid #dddddd'>['Uncertainty', 'Confidence']</td></tr><tr><td style='border: 1px solid #dddddd'>fairness</td><td style='border: 1px solid #dddddd'>Fairness</td><td style='border: 1px solid #dddddd'>['Fairness value', 'Average Odds Difference metric value', 'False Discovery Rate Difference metric value', 'Error Rate Difference metric value', 'False Negative Rate Difference metric value', 'False Omission Rate Difference metric value', 'False Positive Rate Difference metric value', 'True Positive Rate Difference metric value']</td></tr><tr><td style='border: 1px solid #dddddd'>performance</td><td style='border: 1px solid #dddddd'>Performance</td><td style='border: 1px solid #dddddd'>['Number of records']</td></tr><tr><td style='border: 1px solid #dddddd'>explainability</td><td style='border: 1px solid #dddddd'>Explainability</td><td style='border: 1px solid #dddddd'>[]</td></tr><tr><td style='border: 1px solid #dddddd'>mrm</td><td style='border: 1px solid #dddddd'>Model risk management monitoring</td><td style='border: 1px solid #dddddd'>['Tests run', 'Tests passed', 'Tests failed', 'Tests skipped', 'Fairness score', 'Quality score', 'Drift score']</td></tr><tr><td style='border: 1px solid #dddddd'>correlations</td><td style='border: 1px solid #dddddd'>Correlations</td><td style='border: 1px solid #dddddd'>['Maximum positive correlation coefficient', 'Maximum negative correlation coefficient', 'Mean absolute correlation coefficient', 'Significant correlation coefficients count']</td></tr><tr><td style='border: 1px solid #dddddd'>drift</td><td style='border: 1px solid #dddddd'>Drift</td><td style='border: 1px solid #dddddd'>['Drop in accuracy', 'Predicted accuracy', 'Drop in data consistency']</td></tr><tr><td style='border: 1px solid #dddddd'>quality</td><td style='border: 1px solid #dddddd'>Quality</td><td style='border: 1px solid #dddddd'>['Area under ROC', 'Area under PR', 'Proportion explained variance', 'Mean absolute error', 'Mean squared error', 'R squared', 'Root of mean squared error', 'Accuracy', 'Weighted True Positive Rate (wTPR)', 'True positive rate (TPR)', 'Weighted False Positive Rate (wFPR)', 'False positive rate (FPR)', 'Weighted recall', 'Recall', 'Weighted precision', 'Precision', 'Weighted F1-Measure', 'F1-Measure', 'Logarithmic loss']</td></tr>\n",
       "            </table>\n",
       "        </body>\n",
       "        </HTML>"
      ],
      "text/plain": [
       "<IPython.core.display.HTML object>"
      ]
     },
     "metadata": {},
     "output_type": "display_data"
    }
   ],
   "source": [
    "wos_client.monitor_definitions.show()"
   ]
  },
  {
   "cell_type": "code",
   "execution_count": 199,
   "metadata": {
    "id": "37ba8fbc-8b70-497e-87ca-01813e804abd",
    "tags": []
   },
   "outputs": [
    {
     "name": "stdout",
     "output_type": "stream",
     "text": [
      "pixel_level_metrics\n"
     ]
    }
   ],
   "source": [
    "custom_monitor_id = custom_monitor_details.metadata.id\n",
    "print(custom_monitor_id)"
   ]
  },
  {
   "cell_type": "code",
   "execution_count": 200,
   "metadata": {
    "id": "e8865483-594a-4dd0-be7a-d947e8746a91",
    "tags": []
   },
   "outputs": [
    {
     "name": "stdout",
     "output_type": "stream",
     "text": [
      "Monitor definition details: {\n",
      "  \"metadata\": {\n",
      "    \"id\": \"pixel_level_metrics\",\n",
      "    \"crn\": \"crn:v1:bluemix:public:aiopenscale:us-south:a/na:00000000-0000-0000-0000-000000000000:monitor_definition:pixel_level_metrics\",\n",
      "    \"url\": \"/v2/monitor_definitions/pixel_level_metrics\",\n",
      "    \"created_at\": \"2021-12-22T18:51:48.860000Z\",\n",
      "    \"created_by\": \"wendy\"\n",
      "  },\n",
      "  \"entity\": {\n",
      "    \"name\": \"Pixel Level Metrics\",\n",
      "    \"metrics\": [\n",
      "      {\n",
      "        \"name\": \"Pixel Accuracy\",\n",
      "        \"thresholds\": [\n",
      "          {\n",
      "            \"type\": \"lower_limit\",\n",
      "            \"default\": 0.8\n",
      "          }\n",
      "        ],\n",
      "        \"expected_direction\": \"increasing\",\n",
      "        \"id\": \"pixel_accuracy\"\n",
      "      },\n",
      "      {\n",
      "        \"name\": \"Dice Score\",\n",
      "        \"thresholds\": [\n",
      "          {\n",
      "            \"type\": \"lower_limit\",\n",
      "            \"default\": 0.75\n",
      "          }\n",
      "        ],\n",
      "        \"expected_direction\": \"increasing\",\n",
      "        \"id\": \"dice_score\"\n",
      "      },\n",
      "      {\n",
      "        \"name\": \"IoU\",\n",
      "        \"thresholds\": [\n",
      "          {\n",
      "            \"type\": \"lower_limit\",\n",
      "            \"default\": 0.6\n",
      "          }\n",
      "        ],\n",
      "        \"expected_direction\": \"increasing\",\n",
      "        \"id\": \"iou\"\n",
      "      }\n",
      "    ],\n",
      "    \"tags\": []\n",
      "  }\n",
      "}\n"
     ]
    }
   ],
   "source": [
    "custom_monitor_details = wos_client.monitor_definitions.get(monitor_definition_id=custom_monitor_id).result\n",
    "print('Monitor definition details:', custom_monitor_details)"
   ]
  },
  {
   "cell_type": "markdown",
   "metadata": {
    "id": "39a8adbf-3a61-4ada-b78f-f45be1b2d19c"
   },
   "source": [
    "### Enable custom monitor for subscription"
   ]
  },
  {
   "cell_type": "code",
   "execution_count": 201,
   "metadata": {
    "id": "899ec898-c105-4abb-af3f-23b082f64f7c",
    "tags": []
   },
   "outputs": [
    {
     "name": "stdout",
     "output_type": "stream",
     "text": [
      "\n",
      "\n",
      "===================================================================================\n",
      "\n",
      " Waiting for end of monitor instance creation 6c35350a-a54f-4721-9b92-8f65f3bd9aa9 \n",
      "\n",
      "===================================================================================\n",
      "\n",
      "\n",
      "\n",
      "active\n",
      "\n",
      "---------------------------------------\n",
      " Monitor instance successfully created \n",
      "---------------------------------------\n",
      "\n",
      "\n"
     ]
    }
   ],
   "source": [
    "target = Target(\n",
    "        target_type=TargetTypes.SUBSCRIPTION,\n",
    "        target_id=subscription_id\n",
    "    )\n",
    "\n",
    "thresholds = [MetricThresholdOverride(metric_id='iou', type = MetricThresholdTypes.LOWER_LIMIT, value=0.9)]\n",
    "\n",
    "custom_monitor_instance_details = wos_client.monitor_instances.create(\n",
    "            data_mart_id=data_mart_id,\n",
    "            background_mode=False,\n",
    "            monitor_definition_id=custom_monitor_id,\n",
    "            target=target\n",
    ").result"
   ]
  },
  {
   "cell_type": "code",
   "execution_count": 202,
   "metadata": {
    "id": "821d1942-3bf0-4c8c-9b88-0674611b5a35",
    "tags": []
   },
   "outputs": [],
   "source": [
    "custom_monitor_instance_id = custom_monitor_instance_details.metadata.id"
   ]
  },
  {
   "cell_type": "code",
   "execution_count": 203,
   "metadata": {
    "id": "e9c6ff6b-5cd4-4e83-8c1c-c5ebdef656c8",
    "tags": []
   },
   "outputs": [
    {
     "name": "stdout",
     "output_type": "stream",
     "text": [
      "{\n",
      "  \"metadata\": {\n",
      "    \"id\": \"6c35350a-a54f-4721-9b92-8f65f3bd9aa9\",\n",
      "    \"crn\": \"crn:v1:bluemix:public:aiopenscale:us-south:a/na:00000000-0000-0000-0000-000000000000:monitor_instance:6c35350a-a54f-4721-9b92-8f65f3bd9aa9\",\n",
      "    \"url\": \"/v2/monitor_instances/6c35350a-a54f-4721-9b92-8f65f3bd9aa9\",\n",
      "    \"created_at\": \"2021-12-22T23:19:23.558000Z\",\n",
      "    \"created_by\": \"wendy\"\n",
      "  },\n",
      "  \"entity\": {\n",
      "    \"data_mart_id\": \"00000000-0000-0000-0000-000000000000\",\n",
      "    \"monitor_definition_id\": \"pixel_level_metrics\",\n",
      "    \"target\": {\n",
      "      \"target_type\": \"subscription\",\n",
      "      \"target_id\": \"9c6845ac-5d18-41bf-a205-a7e4f44fad80\"\n",
      "    },\n",
      "    \"thresholds\": [\n",
      "      {\n",
      "        \"metric_id\": \"pixel_accuracy\",\n",
      "        \"type\": \"lower_limit\",\n",
      "        \"value\": 0.8\n",
      "      },\n",
      "      {\n",
      "        \"metric_id\": \"dice_score\",\n",
      "        \"type\": \"lower_limit\",\n",
      "        \"value\": 0.75\n",
      "      },\n",
      "      {\n",
      "        \"metric_id\": \"iou\",\n",
      "        \"type\": \"lower_limit\",\n",
      "        \"value\": 0.6\n",
      "      }\n",
      "    ],\n",
      "    \"status\": {\n",
      "      \"state\": \"active\"\n",
      "    }\n",
      "  }\n",
      "}\n"
     ]
    }
   ],
   "source": [
    "custom_monitor_instance_details = wos_client.monitor_instances.get(custom_monitor_instance_id).result\n",
    "print(custom_monitor_instance_details)"
   ]
  },
  {
   "cell_type": "markdown",
   "metadata": {
    "id": "966a3068-0c19-483a-b922-7f23e49768d2"
   },
   "source": [
    "### Storing custom metrics"
   ]
  },
  {
   "cell_type": "code",
   "execution_count": 204,
   "metadata": {
    "id": "81ed0c91-f6c3-4e11-b715-c9e2803025ef",
    "tags": []
   },
   "outputs": [
    {
     "name": "stdout",
     "output_type": "stream",
     "text": [
      "{\n",
      "  \"timestamp\": \"2021-12-22T23:19:34.310757Z\",\n",
      "  \"run_id\": \"11122223333111abc\",\n",
      "  \"metrics\": [\n",
      "    {\n",
      "      \"pixel_accuracy\": 0.78,\n",
      "      \"dice_score\": 0.67,\n",
      "      \"iou\": 0.5\n",
      "    }\n",
      "  ]\n",
      "}\n"
     ]
    }
   ],
   "source": [
    "from datetime import datetime, timezone, timedelta\n",
    "from ibm_watson_openscale.base_classes.watson_open_scale_v2 import MonitorMeasurementRequest\n",
    "custom_monitoring_run_id = \"11122223333111abc\"\n",
    "measurement_request = [MonitorMeasurementRequest(timestamp=datetime.now(timezone.utc), \n",
    "                                                 metrics=[{\"pixel_accuracy\": 0.78, \"dice_score\": 0.67, 'iou': 0.5}], run_id=custom_monitoring_run_id)]\n",
    "print(measurement_request[0])"
   ]
  },
  {
   "cell_type": "code",
   "execution_count": 205,
   "metadata": {
    "id": "5bc141d6-b004-44e5-b939-1db423a62363",
    "tags": []
   },
   "outputs": [
    {
     "name": "stdout",
     "output_type": "stream",
     "text": [
      "[{'measurement_id': '4b95ea86-cbd3-4ce8-a7cd-64160cf34927', 'metrics': [{'dice_score': 0.67, 'iou': 0.5, 'pixel_accuracy': 0.78}], 'run_id': '11122223333111abc', 'timestamp': '2021-12-22T23:19:34.310757Z'}]\n"
     ]
    }
   ],
   "source": [
    "published_measurement_response = wos_client.monitor_instances.measurements.add(\n",
    "    monitor_instance_id=custom_monitor_instance_id,\n",
    "    monitor_measurement_request=measurement_request).result\n",
    "published_measurement_id = published_measurement_response[0][\"measurement_id\"]\n",
    "print(published_measurement_response)"
   ]
  },
  {
   "cell_type": "code",
   "execution_count": 206,
   "metadata": {
    "id": "d9cf9177-066b-4eae-899e-aafcfd035215",
    "tags": []
   },
   "outputs": [
    {
     "name": "stdout",
     "output_type": "stream",
     "text": [
      "{\n",
      "  \"metadata\": {\n",
      "    \"id\": \"4b95ea86-cbd3-4ce8-a7cd-64160cf34927\",\n",
      "    \"crn\": \"\",\n",
      "    \"url\": \"/v2/monitor_instances/6c35350a-a54f-4721-9b92-8f65f3bd9aa9/measurements/4b95ea86-cbd3-4ce8-a7cd-64160cf34927\",\n",
      "    \"created_at\": \"2021-12-22T23:19:35.662000Z\",\n",
      "    \"created_by\": \"\"\n",
      "  },\n",
      "  \"entity\": {\n",
      "    \"timestamp\": \"2021-12-22T23:19:34.310757Z\",\n",
      "    \"run_id\": \"11122223333111abc\",\n",
      "    \"values\": [\n",
      "      {\n",
      "        \"metrics\": [\n",
      "          {\n",
      "            \"id\": \"pixel_accuracy\",\n",
      "            \"value\": 0.78,\n",
      "            \"lower_limit\": 0.8\n",
      "          },\n",
      "          {\n",
      "            \"id\": \"iou\",\n",
      "            \"value\": 0.5,\n",
      "            \"lower_limit\": 0.6\n",
      "          },\n",
      "          {\n",
      "            \"id\": \"dice_score\",\n",
      "            \"value\": 0.67,\n",
      "            \"lower_limit\": 0.75\n",
      "          }\n",
      "        ],\n",
      "        \"tags\": []\n",
      "      }\n",
      "    ],\n",
      "    \"issue_count\": 3,\n",
      "    \"target\": {\n",
      "      \"target_type\": \"subscription\",\n",
      "      \"target_id\": \"9c6845ac-5d18-41bf-a205-a7e4f44fad80\"\n",
      "    },\n",
      "    \"monitor_instance_id\": \"6c35350a-a54f-4721-9b92-8f65f3bd9aa9\",\n",
      "    \"monitor_definition_id\": \"pixel_level_metrics\"\n",
      "  }\n",
      "}\n"
     ]
    }
   ],
   "source": [
    "import time\n",
    "time.sleep(5)\n",
    "published_measurement = wos_client.monitor_instances.measurements.get(monitor_instance_id=custom_monitor_instance_id, measurement_id=published_measurement_id).result\n",
    "print(published_measurement)"
   ]
  },
  {
   "cell_type": "code",
   "execution_count": null,
   "metadata": {
    "id": "0a69775e-c0cc-4169-acd5-ec6644fe1dd3"
   },
   "outputs": [],
   "source": []
  }
 ],
 "metadata": {
  "kernelspec": {
   "display_name": "Python 3.7 + GPU with applications",
   "language": "python",
   "name": "python3"
  },
  "language_info": {
   "codemirror_mode": {
    "name": "ipython",
    "version": 3
   },
   "file_extension": ".py",
   "mimetype": "text/x-python",
   "name": "python",
   "nbconvert_exporter": "python",
   "pygments_lexer": "ipython3",
   "version": "3.7.11"
  }
 },
 "nbformat": 4,
 "nbformat_minor": 4
}
