{
 "cells": [
  {
   "cell_type": "markdown",
   "id": "wooden-consideration",
   "metadata": {
    "id": "b491e6b5-d824-4a27-90ba-b681a90f91a4"
   },
   "source": [
    "# TODO\n",
    "\n",
    "1. Can't use `dlim` directly in a JupyterLab-based linux command without full path, even though its location is in `$PATH`. \n",
    "2. Some dlim commands require confirmation (i.e., user input) so running from JupyterLab is problematic."
   ]
  },
  {
   "cell_type": "markdown",
   "id": "animated-associate",
   "metadata": {
    "id": "517c63e9-9974-44c2-a713-dabd16d6921f"
   },
   "source": [
    "# Deploy model on WMLA\n",
    "\n",
    "- Requires WMLA CLI `dlim` (patch from dev team)\n",
    "- Suggestion to place in `$HOME/bin`\n",
    "- Make executable `chmod a+x $HOME/bin/dlim`\n",
    "- Suggestion to place on path `export PATH=\"$PATH:$HOME/bin\"`\n",
    "- Sample usage `dlim model list --rest-server $REST_SERVER --jwt-token $USER_ACCESS_TOKEN`"
   ]
  },
  {
   "cell_type": "markdown",
   "id": "damaged-forest",
   "metadata": {
    "id": "ccd0f200-bd71-4a9f-80ad-e282bac3548f"
   },
   "source": [
    "# 1. Setup"
   ]
  },
  {
   "cell_type": "code",
   "execution_count": 5,
   "id": "naval-opera",
   "metadata": {
    "id": "e3636d47-8b80-4044-bf7d-a31595066177",
    "tags": []
   },
   "outputs": [],
   "source": [
    "import os\n",
    "import json\n",
    "import requests"
   ]
  },
  {
   "cell_type": "code",
   "execution_count": 127,
   "id": "suffering-nerve",
   "metadata": {
    "id": "34546bbb-15dd-4f32-81ca-6c9fd8a67fc7",
    "tags": []
   },
   "outputs": [],
   "source": [
    "# REST_SERVER required by dlim CLI tool\n",
    "!HOST=https://wmla-console-cpd-wmla.apps.cpd.mskcc.org \n",
    "!REST_SERVER=https://wmla-console-cpd-wmla.apps.cpd.mskcc.org/dlim/v1/"
   ]
  },
  {
   "cell_type": "markdown",
   "id": "painful-atmosphere",
   "metadata": {
    "id": "6b9f13f9-b550-4472-9e19-4fbe8d5af784"
   },
   "source": [
    "# 2. Set up WMLA deployment dependencies"
   ]
  },
  {
   "cell_type": "markdown",
   "id": "apart-darkness",
   "metadata": {
    "id": "fb83ee40-8f28-4737-abdf-a0675ab4412b"
   },
   "source": [
    "## 2.1 Create working directory"
   ]
  },
  {
   "cell_type": "code",
   "execution_count": 141,
   "id": "controlling-understanding",
   "metadata": {
    "id": "ce332ae3-165d-47a3-ba07-7de159f73357",
    "tags": []
   },
   "outputs": [
    {
     "name": "stdout",
     "output_type": "stream",
     "text": [
      "env: DEPLOY_NAME=pingpong1\n",
      "env: DIR_DEPLOY_SUBMISSION=/userfs/deploy_submissions/pingpong1\n"
     ]
    }
   ],
   "source": [
    "# Deployment name\n",
    "%env DEPLOY_NAME=pingpong1\n",
    "%env DIR_DEPLOY_SUBMISSION=/userfs/deploy_submissions/pingpong1\n",
    "\n",
    "!rm -rf $DIR_DEPLOY_SUBMISSION\n",
    "!mkdir -p $DIR_DEPLOY_SUBMISSION"
   ]
  },
  {
   "cell_type": "markdown",
   "id": "frank-communist",
   "metadata": {
    "id": "09203ec4-0c12-41fd-8fb8-e4ef4a3e919c"
   },
   "source": [
    "## 2.2 Create model JSON file"
   ]
  },
  {
   "cell_type": "code",
   "execution_count": 143,
   "id": "spread-heaven",
   "metadata": {
    "id": "5a024a7b-b7ac-4bd1-a4b7-a7f765932555",
    "tags": []
   },
   "outputs": [],
   "source": [
    "model_profile = {\n",
    "    \"name\" : os.environ['DEPLOY_NAME'],\n",
    "    \"tag\" : \"test\",\n",
    "    \"weight_path\" : \"N/A\",\n",
    "    \"runtime\" : \"python\",\n",
    "    \"kernel_path\" : \"kernel.py\",\n",
    "    \"schema_version\" : \"1\"\n",
    "}\n",
    "\n",
    "# Save to working directory\n",
    "with open(f'{os.environ[\"DIR_DEPLOY_SUBMISSION\"]}/model.json','w') as f:\n",
    "    json.dump(model_profile, f)"
   ]
  },
  {
   "cell_type": "markdown",
   "id": "committed-marble",
   "metadata": {
    "id": "dfd334fc-89a4-44e9-8788-a23a39f29dc6"
   },
   "source": [
    "## 2.3 Create README file"
   ]
  },
  {
   "cell_type": "code",
   "execution_count": 145,
   "id": "romantic-salem",
   "metadata": {
    "id": "5823d2ea-f1ce-4d48-a975-424d0fa6a387",
    "tags": []
   },
   "outputs": [],
   "source": [
    "with open(f'{os.environ[\"DIR_DEPLOY_SUBMISSION\"]}/README.md','w') as f:\n",
    "    f.write('Test.')"
   ]
  },
  {
   "cell_type": "markdown",
   "id": "occasional-enemy",
   "metadata": {
    "id": "a48db1c5-cbad-4f2f-b7e6-1101aed2dda8"
   },
   "source": [
    "## 2.4 Create kernel file"
   ]
  },
  {
   "cell_type": "code",
   "execution_count": 150,
   "id": "looking-inspiration",
   "metadata": {
    "id": "3ed42803-6199-4d45-9ee1-ffcec134b1d5",
    "tags": []
   },
   "outputs": [],
   "source": [
    "kernel_file = \"\"\"#!/usr/bin/env python\n",
    "\n",
    "import redhareapiversion\n",
    "from redhareapi import Kernel\n",
    "import json\n",
    "\n",
    "class TestKernel(Kernel):\n",
    "\n",
    "    def on_task_invoke(self, task_context):\n",
    "        try:\n",
    "            Kernel.log_debug(\"on_task_invoke\")\n",
    "            # using loop to handle batch-size\n",
    "            while task_context != None:\n",
    "                Kernel.log_debug(\"task id: %s \" % task_context.get_id())\n",
    "                input_data = json.loads(task_context.get_input_data())\n",
    "                if 'seq' in input_data:\n",
    "                    Kernel.log_debug(\"sequence number: %s \" % input_data['seq'])\n",
    "                task_context.set_output_data(json.dumps(input_data))\n",
    "                task_context = task_context.next()\n",
    "        except Exception as e:\n",
    "            Kernel.log_error(str(e))\n",
    "\n",
    "if __name__ == '__main__':\n",
    "    ppkernel = TestKernel()\n",
    "    ppkernel.run()\"\"\"\n",
    "\n",
    "print(kernel_file, file=open(f'{os.environ[\"DIR_DEPLOY_SUBMISSION\"]}/kernel.py', 'w'))"
   ]
  },
  {
   "cell_type": "markdown",
   "id": "arranged-growth",
   "metadata": {
    "id": "7be48eec-dce2-484a-a541-e8f77e8f8cd1"
   },
   "source": [
    "## 2.5 Submit deployment"
   ]
  },
  {
   "cell_type": "code",
   "execution_count": 155,
   "id": "nonprofit-retreat",
   "metadata": {
    "id": "cccae08e-07e9-41f3-b35e-25396d685267",
    "tags": []
   },
   "outputs": [
    {
     "name": "stdout",
     "output_type": "stream",
     "text": [
      "rm: refusing to remove '.' or '..' directory: skipping '/userfs/deploy_submissions/pingpong1/.'\n",
      "rm: refusing to remove '.' or '..' directory: skipping '/userfs/deploy_submissions/pingpong1/..'\n"
     ]
    }
   ],
   "source": [
    "# Remove hidden files\n",
    "!rm -rf $DIR_DEPLOY_SUBMISSION/.*"
   ]
  },
  {
   "cell_type": "code",
   "execution_count": 157,
   "id": "alive-pavilion",
   "metadata": {
    "id": "1d5d2fa7-de8a-4385-ba90-1e1f27b672c4",
    "tags": []
   },
   "outputs": [
    {
     "name": "stdout",
     "output_type": "stream",
     "text": [
      "Uploading...\n",
      "</userfs/deploy_submissions/pingpong1/README.md> uploaded to server.\n",
      "</userfs/deploy_submissions/pingpong1/kernel.py> uploaded to server.\n",
      "</userfs/deploy_submissions/pingpong1/model.json> uploaded to server.\n",
      "Registering...\n",
      "Model <pingpong1> is deployed successfully\n"
     ]
    }
   ],
   "source": [
    "!$HOME/bin/dlim model deploy -p $DIR_DEPLOY_SUBMISSION --rest-server $REST_SERVER --jwt-token $USER_ACCESS_TOKEN"
   ]
  },
  {
   "cell_type": "code",
   "execution_count": 158,
   "id": "military-incident",
   "metadata": {
    "id": "d738fbd2-01c7-4cda-ac62-e3ab3544f656",
    "tags": []
   },
   "outputs": [
    {
     "name": "stdout",
     "output_type": "stream",
     "text": [
      "NAME                      REST URI\n",
      "deepliif-deployment-test  -\n",
      "ping-pong-test-1          -\n",
      "pingpong                  https://wmla-inference-cpd-wmla.apps.cpd.mskcc.org/dlim/v1/inference/pingpong\n",
      "pingpong1                 -\n"
     ]
    }
   ],
   "source": [
    "## ensure we see deployment\n",
    "!$HOME/bin/dlim model list --rest-server $REST_SERVER --jwt-token $USER_ACCESS_TOKEN"
   ]
  },
  {
   "cell_type": "code",
   "execution_count": 159,
   "id": "later-buying",
   "metadata": {
    "id": "4bd2fd19-e8f4-4196-bef9-c73e6ee8abe0",
    "tags": []
   },
   "outputs": [
    {
     "name": "stdout",
     "output_type": "stream",
     "text": [
      "Name:\t\tpingpong1\n",
      "Tag:\t\ttest\n",
      "Model path:\t/opt/wml-edi/repo/pingpong1/pingpong1-20220126-230939\n",
      "Size:\t\t0.95KB\n",
      "Weight path:\tN/A\n",
      "Runtime:\tpython\n",
      "Kernel path:\tkernel.py\n",
      "Creator:\tnietor\n",
      "Create time:\tWed Jan 26 23:09:39 UTC 2022\n",
      "Update time:\tWed Jan 26 23:09:39 UTC 2022\n",
      "REST URI:\t-\n",
      "Attributes:\tNo attribute defined\n",
      "Environments:\tNo environment variable defined\n",
      "Schema version:\t1\n"
     ]
    }
   ],
   "source": [
    "!$HOME/bin/dlim model view $DEPLOY_NAME --rest-server $REST_SERVER --jwt-token $USER_ACCESS_TOKEN"
   ]
  },
  {
   "cell_type": "code",
   "execution_count": 160,
   "id": "steady-throat",
   "metadata": {
    "id": "6f6bcc9c-0683-4a41-bfd4-c278fe082a14",
    "tags": []
   },
   "outputs": [
    {
     "name": "stdout",
     "output_type": "stream",
     "text": [
      "Name:                       pingpong1\n",
      "Replica:                    1\n",
      "Create Time:                Wed Jan 26 23:09:39 2022 GMT\n",
      "Last Update Time:           Wed Jan 26 23:09:39 2022 GMT\n",
      "Schedule Interval:          3\n",
      "Kernel Min:                 1\n",
      "Kernel Max:                 100\n",
      "Kernel Delay Release Time:  60\n",
      "Task Execution Timeout:     60\n",
      "Task Batch Size:            1\n",
      "Task Parallel Size:         1\n",
      "Task Pipe Size:             1\n",
      "Stream Number per Group:    0\n",
      "Stream Discard Slow Tasks:  true\n",
      "Service Resource Group:     \n",
      "Service Consumer:           \n",
      "Service RG Requirement:     \n",
      "Kernel Resource Group:      \n",
      "Kernel Consumer:            \n",
      "Kernel RG Requirement:      \n",
      "Working Directory:          ${REDHARE_TOP}/work\n",
      "Logs Directory:             ${REDHARE_TOP}/logs\n",
      "Connection Timeout:         90\n",
      "GPU:                        no\n",
      "Environments:              \n",
      "-                           DLIM_MK_LOG_LEVEL = INFO\n"
     ]
    }
   ],
   "source": [
    "!$HOME/bin/dlim model viewprofile $DEPLOY_NAME --rest-server $REST_SERVER --jwt-token $USER_ACCESS_TOKEN"
   ]
  },
  {
   "cell_type": "markdown",
   "id": "further-fourth",
   "metadata": {
    "id": "0f2711b9-bad4-4cbe-8d51-cdd86213cdf1"
   },
   "source": [
    "## 2.6 Start deployment"
   ]
  },
  {
   "cell_type": "code",
   "execution_count": 161,
   "id": "optical-saint",
   "metadata": {
    "id": "93affa7a-1e6a-499f-917d-8297f4975b73",
    "tags": []
   },
   "outputs": [
    {
     "name": "stdout",
     "output_type": "stream",
     "text": [
      "Starting model \"pingpong1\", run \"dlim model view pingpong1 -s\" to ensure startup.\n"
     ]
    }
   ],
   "source": [
    "!$HOME/bin/dlim model start $DEPLOY_NAME --rest-server $REST_SERVER --jwt-token $USER_ACCESS_TOKEN"
   ]
  },
  {
   "cell_type": "code",
   "execution_count": 164,
   "id": "planned-farming",
   "metadata": {
    "id": "66978be1-93d4-4701-940c-0b55d6a2f061",
    "tags": []
   },
   "outputs": [
    {
     "name": "stdout",
     "output_type": "stream",
     "text": [
      "Name:             pingpong1\n",
      "State:            Started\n",
      "Serving replica:  1\n",
      "============================================================\n",
      "Serving service ID:   fe0b9f13-f486-4686-8808-6729d4de6649\n",
      "Service JobID:        edi-pingpong1-546c975c75-ppp52\n",
      "GPU Mode:             no\n",
      "Served clients:       0\n",
      "Pending requests:     0\n",
      "Requests per second:  0.00\n",
      "Data per second:      0.00\n",
      "Kernel started:       1\n"
     ]
    }
   ],
   "source": [
    "!$HOME/bin/dlim model view $DEPLOY_NAME -s --rest-server $REST_SERVER --jwt-token $USER_ACCESS_TOKEN"
   ]
  },
  {
   "cell_type": "markdown",
   "id": "cooked-sensitivity",
   "metadata": {
    "id": "93a9c07e-9499-4088-8c1b-7491cbeaeea2"
   },
   "source": [
    "## 2.6 Obtain REST URI"
   ]
  },
  {
   "cell_type": "code",
   "execution_count": 169,
   "id": "handy-organ",
   "metadata": {
    "id": "aec1ffae-95a3-4690-8ddb-037742ec4d65",
    "tags": []
   },
   "outputs": [
    {
     "name": "stdout",
     "output_type": "stream",
     "text": [
      "Name:\t\tpingpong1\n",
      "Tag:\t\ttest\n",
      "Model path:\t/opt/wml-edi/repo/pingpong1/pingpong1-20220126-230939\n",
      "Size:\t\t0.95KB\n",
      "Weight path:\tN/A\n",
      "Runtime:\tpython\n",
      "Kernel path:\tkernel.py\n",
      "Creator:\tnietor\n",
      "Create time:\tWed Jan 26 23:09:39 UTC 2022\n",
      "Update time:\tWed Jan 26 23:09:39 UTC 2022\n",
      "REST URI:\thttps://wmla-inference-cpd-wmla.apps.cpd.mskcc.org/dlim/v1/inference/pingpong1\n",
      "Attributes:\tNo attribute defined\n",
      "Environments:\tNo environment variable defined\n",
      "Schema version:\t1\n"
     ]
    }
   ],
   "source": [
    "!$HOME/bin/dlim model view $DEPLOY_NAME -a --rest-server $REST_SERVER --jwt-token $USER_ACCESS_TOKEN"
   ]
  },
  {
   "cell_type": "markdown",
   "id": "exotic-diagnosis",
   "metadata": {
    "id": "73141fd4-228c-4e14-9551-3a49518c3d5e"
   },
   "source": [
    "# 3. Score against deployment"
   ]
  },
  {
   "cell_type": "code",
   "execution_count": 179,
   "id": "lightweight-world",
   "metadata": {
    "id": "eb27c681-c21b-404e-8199-11d93d3bae57",
    "tags": []
   },
   "outputs": [],
   "source": [
    "headers = {'Authorization': f'Bearer {os.getenv(\"USER_ACCESS_TOKEN\")}'}\n",
    "data = {'data':'123'}\n",
    "url = f'https://wmla-inference-cpd-wmla.apps.cpd.mskcc.org/dlim/v1/inference/{os.environ[\"DEPLOY_NAME\"]}'"
   ]
  },
  {
   "cell_type": "code",
   "execution_count": 180,
   "id": "searching-sport",
   "metadata": {
    "id": "f5a31d15-15fe-4f87-bc37-8a5cde5ad3ab",
    "tags": []
   },
   "outputs": [
    {
     "name": "stderr",
     "output_type": "stream",
     "text": [
      "/opt/conda/envs/Python-3.8-CUDA/lib/python3.8/site-packages/urllib3/connectionpool.py:1013: InsecureRequestWarning: Unverified HTTPS request is being made to host 'wmla-inference-cpd-wmla.apps.cpd.mskcc.org'. Adding certificate verification is strongly advised. See: https://urllib3.readthedocs.io/en/1.26.x/advanced-usage.html#ssl-warnings\n",
      "  warnings.warn(\n"
     ]
    },
    {
     "data": {
      "text/plain": [
       "200"
      ]
     },
     "execution_count": 180,
     "metadata": {},
     "output_type": "execute_result"
    }
   ],
   "source": [
    "r = requests.post(url, headers=headers,\n",
    "                  json = data, verify = False)\n",
    "r.status_code"
   ]
  },
  {
   "cell_type": "code",
   "execution_count": 183,
   "id": "allied-variation",
   "metadata": {
    "id": "8587ee1e-7542-4add-85dd-436786f91d14",
    "tags": []
   },
   "outputs": [
    {
     "data": {
      "text/plain": [
       "{'data': '123'}"
      ]
     },
     "execution_count": 183,
     "metadata": {},
     "output_type": "execute_result"
    }
   ],
   "source": [
    "r.json()"
   ]
  },
  {
   "cell_type": "markdown",
   "id": "connected-performer",
   "metadata": {
    "id": "2364fe40-a0df-4c5e-8821-6614dc4da8d6"
   },
   "source": [
    "# 4. Clean up / Miscellaneous\n",
    "\n",
    "- **NOTE**: These commands require user input (i.e., confirmation) so cannot run from JupyterLab"
   ]
  },
  {
   "cell_type": "raw",
   "id": "racial-offset",
   "metadata": {
    "id": "e5d995cb-273c-47d3-9c67-a841436caf52",
    "tags": []
   },
   "source": [
    "# Stop a deployment\n",
    "!$HOME/bin/dlim model stop pingpong --rest-server $REST_SERVER --jwt-token $USER_ACCESS_TOKEN"
   ]
  },
  {
   "cell_type": "raw",
   "id": "understanding-convenience",
   "metadata": {
    "id": "0b8f719a-8f17-4c13-b725-ceee4418577b",
    "tags": []
   },
   "source": [
    "# Delete a deployment\n",
    "!$HOME/bin/dlim model undeploy pingpong --rest-server $REST_SERVER --jwt-token $USER_ACCESS_TOKEN"
   ]
  }
 ],
 "metadata": {
  "kernelspec": {
   "display_name": "Python 3.8 + GPU with applications",
   "language": "python",
   "name": "python3"
  },
  "language_info": {
   "codemirror_mode": {
    "name": "ipython",
    "version": 3
   },
   "file_extension": ".py",
   "mimetype": "text/x-python",
   "name": "python",
   "nbconvert_exporter": "python",
   "pygments_lexer": "ipython3",
   "version": "3.8.11"
  }
 },
 "nbformat": 4,
 "nbformat_minor": 5
}
