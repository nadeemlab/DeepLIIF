{
 "cells": [
  {
   "cell_type": "markdown",
   "id": "statutory-revelation",
   "metadata": {
    "id": "517c63e9-9974-44c2-a713-dabd16d6921f"
   },
   "source": [
    "# Setting up CLI tool\n",
    "\n",
    "## Do before running this Notebook:\n",
    "- Obtain WMLA CLI `dlim` CLI tool (patch from dev team)\n",
    "- Suggestion: place in `$HOME/bin`\n",
    "- Make executable `chmod a+x $HOME/bin/dlim`\n",
    "\n",
    "## Do in this Notebook\n",
    "- Place directory on `$PATH`: `os.environ['PATH'] = os.environ['PATH'] + f':{os.environ[\"HOME\"]}/bin'`\n",
    "\n",
    "## Sample usage\n",
    "```!dlim model list --rest-server $REST_SERVER --jwt-token $USER_ACCESS_TOKEN```"
   ]
  },
  {
   "cell_type": "markdown",
   "id": "outdoor-mathematics",
   "metadata": {
    "id": "ccd0f200-bd71-4a9f-80ad-e282bac3548f"
   },
   "source": [
    "# 1. Setup"
   ]
  },
  {
   "cell_type": "code",
   "execution_count": null,
   "id": "identified-universal",
   "metadata": {
    "id": "e3636d47-8b80-4044-bf7d-a31595066177",
    "tags": []
   },
   "outputs": [],
   "source": [
    "import os\n",
    "import json\n",
    "import requests"
   ]
  },
  {
   "cell_type": "code",
   "execution_count": null,
   "id": "crazy-today",
   "metadata": {
    "id": "d77e763f-cd7a-427a-a155-f10498d51304",
    "tags": []
   },
   "outputs": [],
   "source": [
    "# Set deployment name\n",
    "deploy_name = 'pingpong1'"
   ]
  },
  {
   "cell_type": "code",
   "execution_count": null,
   "id": "auburn-locking",
   "metadata": {
    "id": "34546bbb-15dd-4f32-81ca-6c9fd8a67fc7",
    "tags": []
   },
   "outputs": [],
   "source": [
    "# REST_SERVER required by dlim CLI tool\n",
    "os.environ['HOST'] = 'https://wmla-console-cpd-wmla.apps.cpd.mskcc.org'\n",
    "os.environ['REST_SERVER'] = os.environ['HOST'] + '/dlim/v1/'\n",
    "os.environ['INFERENCE_URL'] = 'https://wmla-inference-cpd-wmla.apps.cpd.mskcc.org/dlim/v1/inference'\n",
    "    \n",
    "# Add to path\n",
    "if not f\"{os.environ['HOME']}/bin\" in os.environ['HOME']:\n",
    "    os.environ['PATH'] = os.environ['PATH'] + f':{os.environ[\"HOME\"]}/bin'"
   ]
  },
  {
   "cell_type": "markdown",
   "id": "fitting-hearing",
   "metadata": {
    "id": "6b9f13f9-b550-4472-9e19-4fbe8d5af784"
   },
   "source": [
    "# 2. Set up WMLA deployment dependencies"
   ]
  },
  {
   "cell_type": "markdown",
   "id": "competitive-commission",
   "metadata": {
    "id": "fb83ee40-8f28-4737-abdf-a0675ab4412b"
   },
   "source": [
    "## 2.1 Create working directory"
   ]
  },
  {
   "cell_type": "code",
   "execution_count": null,
   "id": "tribal-sheffield",
   "metadata": {
    "id": "ce332ae3-165d-47a3-ba07-7de159f73357",
    "tags": []
   },
   "outputs": [],
   "source": [
    "os.environ['DEPLOY_NAME'] = deploy_name\n",
    "os.environ['DIR_DEPLOY_SUBMISSION'] = f'/userfs/deploy_submissions/{os.environ[\"DEPLOY_NAME\"]}'\n",
    "\n",
    "!rm -rf $DIR_DEPLOY_SUBMISSION\n",
    "!mkdir -p $DIR_DEPLOY_SUBMISSION"
   ]
  },
  {
   "cell_type": "markdown",
   "id": "secure-nation",
   "metadata": {
    "id": "09203ec4-0c12-41fd-8fb8-e4ef4a3e919c"
   },
   "source": [
    "## 2.2 Create model JSON file"
   ]
  },
  {
   "cell_type": "code",
   "execution_count": null,
   "id": "accepted-shield",
   "metadata": {
    "id": "5a024a7b-b7ac-4bd1-a4b7-a7f765932555",
    "tags": []
   },
   "outputs": [],
   "source": [
    "model_profile = {\n",
    "    \"name\" : os.environ['DEPLOY_NAME'],\n",
    "    \"tag\" : \"test\",\n",
    "    \"weight_path\" : \"N/A\",\n",
    "    \"runtime\" : \"python\",\n",
    "    \"kernel_path\" : \"kernel.py\",\n",
    "    \"schema_version\" : \"1\"\n",
    "}\n",
    "\n",
    "# Save to working directory\n",
    "with open(f'{os.environ[\"DIR_DEPLOY_SUBMISSION\"]}/model.json','w') as f:\n",
    "    json.dump(model_profile, f)"
   ]
  },
  {
   "cell_type": "markdown",
   "id": "limited-merit",
   "metadata": {
    "id": "dfd334fc-89a4-44e9-8788-a23a39f29dc6"
   },
   "source": [
    "## 2.3 Create README file"
   ]
  },
  {
   "cell_type": "code",
   "execution_count": null,
   "id": "lonely-marketplace",
   "metadata": {
    "id": "5823d2ea-f1ce-4d48-a975-424d0fa6a387",
    "tags": []
   },
   "outputs": [],
   "source": [
    "with open(f'{os.environ[\"DIR_DEPLOY_SUBMISSION\"]}/README.md','w') as f:\n",
    "    f.write('Test.')"
   ]
  },
  {
   "cell_type": "markdown",
   "id": "weird-brass",
   "metadata": {
    "id": "a48db1c5-cbad-4f2f-b7e6-1101aed2dda8"
   },
   "source": [
    "## 2.4 Create kernel file"
   ]
  },
  {
   "cell_type": "code",
   "execution_count": null,
   "id": "connected-times",
   "metadata": {
    "id": "3ed42803-6199-4d45-9ee1-ffcec134b1d5",
    "tags": []
   },
   "outputs": [],
   "source": [
    "kernel_file = \"\"\"#!/usr/bin/env python\n",
    "\n",
    "import redhareapiversion\n",
    "from redhareapi import Kernel\n",
    "import json\n",
    "\n",
    "class TestKernel(Kernel):\n",
    "\n",
    "    def on_task_invoke(self, task_context):\n",
    "        try:\n",
    "            Kernel.log_debug(\"on_task_invoke\")\n",
    "            # using loop to handle batch-size\n",
    "            while task_context != None:\n",
    "                Kernel.log_debug(\"task id: %s \" % task_context.get_id())\n",
    "                input_data = json.loads(task_context.get_input_data())\n",
    "                if 'seq' in input_data:\n",
    "                    Kernel.log_debug(\"sequence number: %s \" % input_data['seq'])\n",
    "                task_context.set_output_data(json.dumps(input_data))\n",
    "                task_context = task_context.next()\n",
    "        except Exception as e:\n",
    "            Kernel.log_error(str(e))\n",
    "\n",
    "if __name__ == '__main__':\n",
    "    ppkernel = TestKernel()\n",
    "    ppkernel.run()\"\"\"\n",
    "\n",
    "print(kernel_file, file=open(f'{os.environ[\"DIR_DEPLOY_SUBMISSION\"]}/kernel.py', 'w'))"
   ]
  },
  {
   "cell_type": "markdown",
   "id": "round-advice",
   "metadata": {
    "id": "7be48eec-dce2-484a-a541-e8f77e8f8cd1"
   },
   "source": [
    "## 2.5 Submit deployment"
   ]
  },
  {
   "cell_type": "code",
   "execution_count": null,
   "id": "greenhouse-glossary",
   "metadata": {
    "id": "cccae08e-07e9-41f3-b35e-25396d685267",
    "tags": []
   },
   "outputs": [],
   "source": [
    "# Remove hidden files\n",
    "!rm -rf $DIR_DEPLOY_SUBMISSION/.*"
   ]
  },
  {
   "cell_type": "code",
   "execution_count": null,
   "id": "institutional-defensive",
   "metadata": {
    "id": "1d5d2fa7-de8a-4385-ba90-1e1f27b672c4",
    "tags": []
   },
   "outputs": [],
   "source": [
    "!dlim model deploy -p $DIR_DEPLOY_SUBMISSION --rest-server $REST_SERVER --jwt-token $USER_ACCESS_TOKEN"
   ]
  },
  {
   "cell_type": "code",
   "execution_count": null,
   "id": "responsible-leather",
   "metadata": {
    "id": "d738fbd2-01c7-4cda-ac62-e3ab3544f656",
    "tags": []
   },
   "outputs": [],
   "source": [
    "## ensure we see deployment\n",
    "!dlim model list --rest-server $REST_SERVER --jwt-token $USER_ACCESS_TOKEN"
   ]
  },
  {
   "cell_type": "code",
   "execution_count": null,
   "id": "welcome-array",
   "metadata": {
    "id": "4bd2fd19-e8f4-4196-bef9-c73e6ee8abe0",
    "tags": []
   },
   "outputs": [],
   "source": [
    "!dlim model view $DEPLOY_NAME --rest-server $REST_SERVER --jwt-token $USER_ACCESS_TOKEN"
   ]
  },
  {
   "cell_type": "code",
   "execution_count": null,
   "id": "tutorial-colony",
   "metadata": {
    "id": "6f6bcc9c-0683-4a41-bfd4-c278fe082a14",
    "tags": []
   },
   "outputs": [],
   "source": [
    "!dlim model viewprofile $DEPLOY_NAME --rest-server $REST_SERVER --jwt-token $USER_ACCESS_TOKEN"
   ]
  },
  {
   "cell_type": "markdown",
   "id": "visible-while",
   "metadata": {
    "id": "0f2711b9-bad4-4cbe-8d51-cdd86213cdf1"
   },
   "source": [
    "## 2.6 Start deployment"
   ]
  },
  {
   "cell_type": "code",
   "execution_count": null,
   "id": "considerable-reservation",
   "metadata": {
    "id": "93affa7a-1e6a-499f-917d-8297f4975b73",
    "tags": []
   },
   "outputs": [],
   "source": [
    "!dlim model start $DEPLOY_NAME --rest-server $REST_SERVER --jwt-token $USER_ACCESS_TOKEN"
   ]
  },
  {
   "cell_type": "code",
   "execution_count": null,
   "id": "covered-technical",
   "metadata": {
    "id": "66978be1-93d4-4701-940c-0b55d6a2f061",
    "tags": []
   },
   "outputs": [],
   "source": [
    "!dlim model view $DEPLOY_NAME -s --rest-server $REST_SERVER --jwt-token $USER_ACCESS_TOKEN"
   ]
  },
  {
   "cell_type": "markdown",
   "id": "pressing-niagara",
   "metadata": {
    "id": "93a9c07e-9499-4088-8c1b-7491cbeaeea2"
   },
   "source": [
    "## 2.6 Obtain REST URI"
   ]
  },
  {
   "cell_type": "code",
   "execution_count": null,
   "id": "prerequisite-korea",
   "metadata": {
    "id": "aec1ffae-95a3-4690-8ddb-037742ec4d65",
    "tags": []
   },
   "outputs": [],
   "source": [
    "!dlim model view $DEPLOY_NAME -a --rest-server $REST_SERVER --jwt-token $USER_ACCESS_TOKEN"
   ]
  },
  {
   "cell_type": "markdown",
   "id": "looking-transition",
   "metadata": {
    "id": "73141fd4-228c-4e14-9551-3a49518c3d5e"
   },
   "source": [
    "# 3. Score against deployment"
   ]
  },
  {
   "cell_type": "code",
   "execution_count": null,
   "id": "written-sample",
   "metadata": {
    "id": "eb27c681-c21b-404e-8199-11d93d3bae57",
    "tags": []
   },
   "outputs": [],
   "source": [
    "headers = {'Authorization': f'Bearer {os.getenv(\"USER_ACCESS_TOKEN\")}'}\n",
    "data = {'data':'123'}\n",
    "url = f'{os.environ[\"INFERENCE_URL\"]}/{os.environ[\"DEPLOY_NAME\"]}'"
   ]
  },
  {
   "cell_type": "code",
   "execution_count": null,
   "id": "prescribed-yeast",
   "metadata": {
    "id": "f5a31d15-15fe-4f87-bc37-8a5cde5ad3ab",
    "tags": []
   },
   "outputs": [],
   "source": [
    "r = requests.post(url, headers=headers,\n",
    "                  json = data, verify = False)\n",
    "r.status_code"
   ]
  },
  {
   "cell_type": "code",
   "execution_count": null,
   "id": "vanilla-pipeline",
   "metadata": {
    "id": "8587ee1e-7542-4add-85dd-436786f91d14",
    "tags": []
   },
   "outputs": [],
   "source": [
    "r.json()"
   ]
  },
  {
   "cell_type": "markdown",
   "id": "partial-education",
   "metadata": {
    "id": "2364fe40-a0df-4c5e-8821-6614dc4da8d6"
   },
   "source": [
    "# 4. Clean up / Miscellaneous\n",
    "\n",
    "- **NOTE**: These commands require user input (i.e., confirmation) so cannot run from JupyterLab"
   ]
  },
  {
   "cell_type": "raw",
   "id": "worse-commission",
   "metadata": {
    "id": "e5d995cb-273c-47d3-9c67-a841436caf52",
    "tags": []
   },
   "source": [
    "# Stop a deployment\n",
    "!dlim model stop pingpong --rest-server $REST_SERVER --jwt-token $USER_ACCESS_TOKEN"
   ]
  },
  {
   "cell_type": "raw",
   "id": "endangered-format",
   "metadata": {
    "id": "0b8f719a-8f17-4c13-b725-ceee4418577b",
    "tags": []
   },
   "source": [
    "# Delete a deployment\n",
    "!dlim model undeploy pingpong --rest-server $REST_SERVER --jwt-token $USER_ACCESS_TOKEN"
   ]
  }
 ],
 "metadata": {
  "kernelspec": {
   "display_name": "Python 3.8 + GPU with applications",
   "language": "python",
   "name": "python3"
  },
  "language_info": {
   "codemirror_mode": {
    "name": "ipython",
    "version": 3
   },
   "file_extension": ".py",
   "mimetype": "text/x-python",
   "name": "python",
   "nbconvert_exporter": "python",
   "pygments_lexer": "ipython3",
   "version": "3.8.11"
  }
 },
 "nbformat": 4,
 "nbformat_minor": 5
}
