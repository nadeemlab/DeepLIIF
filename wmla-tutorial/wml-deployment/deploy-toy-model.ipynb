{
 "cells": [
  {
   "cell_type": "code",
   "execution_count": null,
   "id": "understood-cloud",
   "metadata": {
    "id": "66ff9c85-73e9-4da0-92d3-52b7d57d59fa",
    "tags": []
   },
   "outputs": [],
   "source": [
    "import sklearn.datasets as datasets\n",
    "from sklearn.model_selection import train_test_split\n",
    "from sklearn.linear_model import LinearRegression\n",
    "import sklearn.metrics as metrics\n",
    "import pickle\n",
    "import os\n",
    "import json\n",
    "import requests"
   ]
  },
  {
   "cell_type": "markdown",
   "id": "certain-printer",
   "metadata": {
    "id": "38534b55-c9bb-4d05-9dc8-6fb955f1ef50"
   },
   "source": [
    "# 0. Train a simple Linear Regression model"
   ]
  },
  {
   "cell_type": "code",
   "execution_count": null,
   "id": "powerful-consumption",
   "metadata": {
    "id": "46cecd2c-fcb5-48c9-82a5-d4fbc1e291ce",
    "tags": []
   },
   "outputs": [],
   "source": [
    "house = datasets.load_boston()\n",
    "train_x, test_x, train_y, test_y = train_test_split(house.data,\n",
    "                                                    house.target,\n",
    "                                                    test_size=0.2,\n",
    "                                                    random_state=42)\n",
    "lr = LinearRegression()\n",
    "lr.fit(train_x, train_y)"
   ]
  },
  {
   "cell_type": "markdown",
   "id": "median-nature",
   "metadata": {
    "id": "cd77bee3-8552-43e6-a048-38f33ab64887",
    "tags": []
   },
   "source": [
    "# 1. Deployment on WMLA"
   ]
  },
  {
   "cell_type": "markdown",
   "id": "given-bouquet",
   "metadata": {
    "id": "9bc3d7c5-dc3a-44ec-8f39-daa06aebb5ac"
   },
   "source": [
    "## 1.1 Basic setup\n",
    "\n",
    "**Make sure to set deployment name. If left unchanged, will overwrite files.**"
   ]
  },
  {
   "cell_type": "code",
   "execution_count": null,
   "id": "mobile-space",
   "metadata": {
    "id": "2b763e1a-d648-41b1-a1e4-113a3e50677b"
   },
   "outputs": [],
   "source": [
    "# Set deployment name\n",
    "deploy_name = 'toy-model'"
   ]
  },
  {
   "cell_type": "code",
   "execution_count": null,
   "id": "proved-bachelor",
   "metadata": {
    "id": "918aefac-af48-44ac-993a-048123434a28",
    "tags": []
   },
   "outputs": [],
   "source": [
    "# REST_SERVER required by dlim CLI tool\n",
    "os.environ['HOST'] = 'https://wmla-console-cpd-wmla.apps.cpd.mskcc.org'\n",
    "os.environ['REST_SERVER'] = os.environ['HOST'] + '/dlim/v1/'\n",
    "os.environ['INFERENCE_URL'] = 'https://wmla-inference-cpd-wmla.apps.cpd.mskcc.org/dlim/v1/inference'\n",
    "    \n",
    "# Add to path\n",
    "if not f\"{os.environ['HOME']}/bin\" in os.environ['HOME']:\n",
    "    os.environ['PATH'] = os.environ['PATH'] + f':{os.environ[\"HOME\"]}/bin'"
   ]
  },
  {
   "cell_type": "markdown",
   "id": "phantom-glucose",
   "metadata": {
    "id": "0919eb50-0643-40ed-9df5-908b4b5d5f24"
   },
   "source": [
    "## 1.2 Create working directory"
   ]
  },
  {
   "cell_type": "code",
   "execution_count": null,
   "id": "stretch-rotation",
   "metadata": {
    "id": "e8f6de22-5c96-4eb9-b422-392a2448ba3c"
   },
   "outputs": [],
   "source": [
    "os.environ['DEPLOY_NAME'] = deploy_name\n",
    "os.environ['DIR_DEPLOY_SUBMISSION'] = f'/userfs/deploy_submissions/{os.environ[\"DEPLOY_NAME\"]}'\n",
    "\n",
    "!rm -rf $DIR_DEPLOY_SUBMISSION\n",
    "!mkdir -p $DIR_DEPLOY_SUBMISSION"
   ]
  },
  {
   "cell_type": "markdown",
   "id": "forced-sailing",
   "metadata": {
    "id": "c8c7f891-68aa-4c78-9d60-28e448071048"
   },
   "source": [
    "## 1.3 Save model files to working directory"
   ]
  },
  {
   "cell_type": "code",
   "execution_count": null,
   "id": "pressing-wages",
   "metadata": {
    "id": "1f327c63-b9b2-4813-b2ec-f3a9aad44c90"
   },
   "outputs": [],
   "source": [
    "with open(f'{os.environ[\"DIR_DEPLOY_SUBMISSION\"]}/toy-model.pkl', 'wb') as f:\n",
    "    pickle.dump(lr, f)"
   ]
  },
  {
   "cell_type": "markdown",
   "id": "irish-float",
   "metadata": {
    "id": "330de30a-fab7-487b-824a-e4f6fa0c0dce"
   },
   "source": [
    "## 1.4 Save model.json file to working directory"
   ]
  },
  {
   "cell_type": "code",
   "execution_count": null,
   "id": "nearby-shoot",
   "metadata": {
    "id": "1785d483-bada-42ce-8926-9fd86b1dee10",
    "tags": []
   },
   "outputs": [],
   "source": [
    "model_profile = {\n",
    "    \"name\" : os.environ['DEPLOY_NAME'],\n",
    "    \"tag\" : \"test\",\n",
    "    \"weight_path\" : \"./\",\n",
    "    \"model_path\" : \"./\",\n",
    "    \"runtime\" : \"python\",\n",
    "    \"kernel_path\" : \"kernel.py\",\n",
    "    \"schema_version\" : \"1\"\n",
    "}\n",
    "\n",
    "# Save to working directory\n",
    "with open(f'{os.environ[\"DIR_DEPLOY_SUBMISSION\"]}/model.json','w') as f:\n",
    "    json.dump(model_profile, f)"
   ]
  },
  {
   "cell_type": "markdown",
   "id": "interim-border",
   "metadata": {
    "id": "ecf4e43c-1e9d-4fb8-9725-966f665794a6"
   },
   "source": [
    "## 1.5 Create README.md file"
   ]
  },
  {
   "cell_type": "code",
   "execution_count": null,
   "id": "egyptian-matthew",
   "metadata": {
    "id": "6ba8849b-e5b3-4695-ad22-e108717bb05a",
    "tags": []
   },
   "outputs": [],
   "source": [
    "with open(f'{os.environ[\"DIR_DEPLOY_SUBMISSION\"]}/README.md','w') as f:\n",
    "    f.write('Test.')"
   ]
  },
  {
   "cell_type": "markdown",
   "id": "amino-pierre",
   "metadata": {
    "id": "db8b85cb-7bfd-480c-bccf-043ac1c9d8e4"
   },
   "source": [
    "## 1.6 Save kernel.py file to working directory"
   ]
  },
  {
   "cell_type": "code",
   "execution_count": null,
   "id": "apart-ocean",
   "metadata": {
    "id": "f75c08ae-5ae6-400e-9e78-f835cc986cda",
    "tags": []
   },
   "outputs": [],
   "source": [
    "kernel_file = \"\"\"#!/usr/bin/env python\n",
    "\n",
    "import redhareapiversion\n",
    "from redhareapi import Kernel\n",
    "import json\n",
    "import time\n",
    "import os\n",
    "from io import BytesIO\n",
    "import pickle\n",
    "\n",
    "class MatchKernel(Kernel):\n",
    "    def on_kernel_start(self, kernel_context):\n",
    "        try:\n",
    "            Kernel.log_info(\"kernel input: \" + kernel_context.get_model_description())\n",
    "            model_desc = json.loads(kernel_context.get_model_description())\n",
    "            model_file = os.path.join(model_desc['model_path'], 'toy-model.pkl')\n",
    "            with open(model_file, 'rb') as f:\n",
    "                self.model = pickle.load(f)\n",
    "        except Exception as e:\n",
    "            Kernel.log_error(str(e))\n",
    "    \n",
    "    def on_task_invoke(self, task_context):\n",
    "        try:\n",
    "            in_invoke_time = time.time()\n",
    "            Kernel.log_info(\"on_task_invoke\")\n",
    "            while task_context != None:\n",
    "                input_data = json.loads(task_context.get_input_data())\n",
    "                req_id = input_data['id']\n",
    "                #d = input_data['inputs'][0]\n",
    "                data = input_data['data']\n",
    "                outs = self.model.predict(data)\n",
    "                output_data = {'name':'output0',\n",
    "                               'data':outs.tolist()}\n",
    "                task_context.set_output_data(json.dumps({\"id\":req_id,\n",
    "                                                         \"outputs\":[output_data]}))\n",
    "                task_context = task_context.next()\n",
    "            done_invoke_time = time.time()\n",
    "            Kernel.log_info(\"Inference cost time: %.4f\" % (done_invoke_time - in_invoke_time))\n",
    "        except Exception as e:\n",
    "            Kernel.log_error(\"Do task invoke failed: {}\".format(e))\n",
    "    \n",
    "    def on_kernel_shutdown(self):\n",
    "        Kernel.log_info('on_kernel_shutdown')\n",
    "        \n",
    "if __name__ == '__main__':\n",
    "    obj_kernel = MatchKernel()\n",
    "    obj_kernel.run()\"\"\"\n",
    "\n",
    "print(kernel_file, file=open(f'{os.environ[\"DIR_DEPLOY_SUBMISSION\"]}/kernel.py', 'w'))"
   ]
  },
  {
   "cell_type": "markdown",
   "id": "creative-start",
   "metadata": {
    "id": "cbb1f6e3-0f8e-4a00-9f0b-e8d806c6e919"
   },
   "source": [
    "## 1.7 Submit deployment"
   ]
  },
  {
   "cell_type": "code",
   "execution_count": null,
   "id": "finnish-denmark",
   "metadata": {
    "id": "e9a8ce2a-1d99-4387-b44e-824fe0d877cb",
    "tags": []
   },
   "outputs": [],
   "source": [
    "# Remove hidden files\n",
    "!rm -rf $DIR_DEPLOY_SUBMISSION/.*"
   ]
  },
  {
   "cell_type": "code",
   "execution_count": null,
   "id": "miniature-conservation",
   "metadata": {
    "id": "e966d0e7-5ed6-4f90-8438-c6c5ece57464",
    "tags": []
   },
   "outputs": [],
   "source": [
    "!dlim model deploy -p $DIR_DEPLOY_SUBMISSION --rest-server $REST_SERVER --jwt-token $USER_ACCESS_TOKEN"
   ]
  },
  {
   "cell_type": "markdown",
   "id": "adolescent-silly",
   "metadata": {
    "id": "756a6c93-c8ae-4583-916f-314f5d1746da"
   },
   "source": [
    "### 1.7.1 Start deployment"
   ]
  },
  {
   "cell_type": "code",
   "execution_count": null,
   "id": "electoral-calcium",
   "metadata": {
    "id": "684eafa4-f8b9-4cfb-bcd1-167e8e33ee08",
    "tags": []
   },
   "outputs": [],
   "source": [
    "!dlim model start $DEPLOY_NAME --rest-server $REST_SERVER --jwt-token $USER_ACCESS_TOKEN"
   ]
  },
  {
   "cell_type": "code",
   "execution_count": null,
   "id": "visible-headquarters",
   "metadata": {
    "id": "1e39f0aa-5ee0-47a4-a082-c24e2ac4c798",
    "tags": []
   },
   "outputs": [],
   "source": [
    "# View status\n",
    "!dlim model view $DEPLOY_NAME -a --rest-server $REST_SERVER --jwt-token $USER_ACCESS_TOKEN"
   ]
  },
  {
   "cell_type": "markdown",
   "id": "biological-colors",
   "metadata": {
    "id": "73c5fd29-9b66-4cca-b431-cd96bf7dea62"
   },
   "source": [
    "## 2. Test scoring"
   ]
  },
  {
   "cell_type": "code",
   "execution_count": null,
   "id": "gross-dividend",
   "metadata": {
    "id": "7ed0679e-9bd5-4465-9f15-e8ca92d7937e",
    "tags": []
   },
   "outputs": [],
   "source": [
    "headers = {'Authorization': f'Bearer {os.getenv(\"USER_ACCESS_TOKEN\")}'}\n",
    "data = {'id':'test_data','data':test_x.tolist()}\n",
    "url = f'{os.environ[\"INFERENCE_URL\"]}/{os.environ[\"DEPLOY_NAME\"]}'"
   ]
  },
  {
   "cell_type": "code",
   "execution_count": null,
   "id": "residential-subscription",
   "metadata": {
    "id": "e3fac4c3-249c-40d4-8bb4-0102e635e5b2",
    "tags": []
   },
   "outputs": [],
   "source": [
    "r = requests.post(url, headers=headers,\n",
    "                  json = data, verify = False)\n",
    "r.status_code"
   ]
  },
  {
   "cell_type": "code",
   "execution_count": null,
   "id": "altered-proposal",
   "metadata": {
    "id": "691e4999-9e78-409c-bce6-a69ce6085ef0",
    "tags": []
   },
   "outputs": [],
   "source": [
    "json.dumps(data)"
   ]
  }
 ],
 "metadata": {
  "kernelspec": {
   "display_name": "Python 3.8 + GPU with applications",
   "language": "python",
   "name": "python3"
  },
  "language_info": {
   "codemirror_mode": {
    "name": "ipython",
    "version": 3
   },
   "file_extension": ".py",
   "mimetype": "text/x-python",
   "name": "python",
   "nbconvert_exporter": "python",
   "pygments_lexer": "ipython3",
   "version": "3.8.11"
  }
 },
 "nbformat": 4,
 "nbformat_minor": 5
}
