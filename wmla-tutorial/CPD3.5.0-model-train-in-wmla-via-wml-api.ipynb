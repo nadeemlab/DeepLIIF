{
 "cells": [
  {
   "cell_type": "markdown",
   "metadata": {
    "id": "27bf73c7-9e2d-48bd-80e6-082010befc41"
   },
   "source": [
    "# Using PyTorch to recognize hand-written digits with Watson Machine Learning REST API"
   ]
  },
  {
   "cell_type": "markdown",
   "metadata": {
    "id": "45a6ce79-16a7-4be1-9275-626aca8be1c0"
   },
   "source": [
    "#### Notebook created by Jan Soltysik and updated by Kelvin Lui, November 2020\n",
    "\n",
    "This notebook contains steps and code to demonstrate support of PyTorch Deep Learning experiments in the Watson Machine Learning service on Cloud Pak for Data 3.5. It introduces commands for getting data, training experiments, persisting pipelines, publishing models, deploying models and scoring.\n",
    "\n",
    "Some familiarity with cURL is helpful. This notebook uses cURL examples.\n",
    "\n",
    "\n",
    "## Learning goals\n",
    "\n",
    "The learning goals of this notebook are:\n",
    "\n",
    "Working with Watson Machine Learning experiments to offload and accelerate deep learning model training with Watson Machine Learning Accelerator. \n",
    "Downloading computed models from Watson Machine Learning Accelerator to Watson Machine Learning.\n",
    "Online deployment and scoring of a trained model using Watson Machine Learning. \n",
    "\n",
    "## Contents\n",
    "\n",
    "This notebook contains the following parts:\n",
    "\n",
    "1.\t[Set up the environment](#setup)   \n",
    "2.  [Model definition](#model_definition)  \n",
    "3.\t[Experiment Run](#run)  \n",
    "4.\t[Historical runs](#runs)  \n",
    "5.\t[Deploy and Score](#deploy_and_score)  \n",
    "6.\t[Cleaning](#cleaning)   \n",
    "7.\t[Summary and next steps](#summary)"
   ]
  },
  {
   "cell_type": "markdown",
   "metadata": {
    "id": "631ee96d-252f-423f-a14c-d1a44cb2dfe1"
   },
   "source": [
    "<a id=\"setup\"></a>\n",
    "## 1. Set up the environment\n",
    "\n",
    "Before you use the sample code in this notebook, you must perform the following setup tasks:\n",
    "\n",
    "-  Contact with your Cloud Pack for Data administrator and ask them for your account credentials"
   ]
  },
  {
   "cell_type": "markdown",
   "metadata": {
    "id": "0a5abdfa-42a7-4f67-8455-50c22098d125"
   },
   "source": [
    "### Connection to WML\n",
    "\n",
    "Authenticate the Watson Machine Learning service on IBM Cloud Pack for Data. You need to provide the following: the platform `url`, your `username` and `password`."
   ]
  },
  {
   "cell_type": "code",
   "execution_count": 4,
   "metadata": {
    "id": "fd00f6b7-8856-4955-a8d5-391248ca2f69",
    "tags": []
   },
   "outputs": [
    {
     "name": "stdout",
     "output_type": "stream",
     "text": [
      "env: USERNAME=wendy\n",
      "env: PASSWORD=Passw0rd2021\n",
      "env: DATAPLATFORM_URL=https://daell-wmla.datascienceelite.com\n",
      "env: SPACE_ID=\n"
     ]
    }
   ],
   "source": [
    "%env USERNAME=wendy\n",
    "%env PASSWORD=Passw0rd2021\n",
    "%env DATAPLATFORM_URL=https://daell-wmla.datascienceelite.com\n",
    "\n",
    "%env SPACE_ID="
   ]
  },
  {
   "cell_type": "markdown",
   "metadata": {
    "id": "fcf8e2f9-2ea7-45ae-8c0a-7ef952b2f9ff"
   },
   "source": [
    "<a id=\"wml_token\"></a>\n",
    "### Getting WML authorization token for further cURL calls"
   ]
  },
  {
   "cell_type": "markdown",
   "metadata": {
    "id": "82d7b22d-57a5-41a6-a6e8-f99ce6f04704"
   },
   "source": [
    "<a href=\"https://cloud.ibm.com/docs/cloud-object-storage?topic=cloud-object-storage-curl#curl-token\" target=\"_blank\" rel=\"noopener no referrer\">Example of cURL call to get WML token</a>"
   ]
  },
  {
   "cell_type": "code",
   "execution_count": 5,
   "metadata": {
    "id": "3eebf659-390a-43a8-b6dd-594b0c9d8e88",
    "tags": []
   },
   "outputs": [],
   "source": [
    "%%bash --out token\n",
    "\n",
    "curl -sk -X GET \\\n",
    "    --user $USERNAME:$PASSWORD \\\n",
    "    --header \"Accept: application/json\" \\\n",
    "    \"$DATAPLATFORM_URL/v1/preauth/validateAuth\" \\\n",
    "    | cut -d '\"' -f 44"
   ]
  },
  {
   "cell_type": "code",
   "execution_count": 6,
   "metadata": {
    "id": "36c303cf-d6a5-4ffb-be3d-4758f3b1ad55",
    "tags": []
   },
   "outputs": [
    {
     "name": "stdout",
     "output_type": "stream",
     "text": [
      "env: TOKEN=sub\n"
     ]
    }
   ],
   "source": [
    "%env TOKEN=$token "
   ]
  },
  {
   "cell_type": "markdown",
   "metadata": {
    "id": "34a22973-653e-4449-aacd-b452637bb488"
   },
   "source": [
    "<a id=\"space_creation\"></a>\n",
    "### Space creation\n",
    "**Tip:** If you do not have `space` already created, convert the three cells below to `code` and run them.\n",
    "\n",
    "First, create a `space` that will be used for all of your cURL calls. \n",
    "If you do not have a `space` already created, use the cURL call below to create one."
   ]
  },
  {
   "cell_type": "markdown",
   "metadata": {
    "id": "a0b670cd-3aab-4bea-b299-f0af7f925b7e"
   },
   "source": [
    "<a href=\"https://cpd-spaces-api.eu-gb.cf.appdomain.cloud/#/Spaces/spaces_create\" \n",
    "target=\"_blank\" rel=\"noopener no referrer\">Space creation</a>"
   ]
  },
  {
   "cell_type": "code",
   "execution_count": 6,
   "metadata": {
    "id": "5eb0a050-414f-4ca3-9219-b864301e0f08"
   },
   "outputs": [],
   "source": [
    "%%bash --out space_id\n",
    "\n",
    "curl -sk -X POST \\\n",
    "    --header \"Authorization: Bearer $TOKEN\" \\\n",
    "    --header \"Content-Type: application/json\" \\\n",
    "    --header \"Accept: application/json\" \\\n",
    "    --data '{\"name\": \"curl_DL_1\"}' \\\n",
    "    \"$DATAPLATFORM_URL/v2/spaces\" \\\n",
    "     | grep '\"id\": ' | awk -F '\"' '{ print $4 }'"
   ]
  },
  {
   "cell_type": "code",
   "execution_count": 7,
   "metadata": {
    "id": "eec15d1f-4f84-499c-85f8-81459e561b56"
   },
   "outputs": [
    {
     "name": "stdout",
     "output_type": "stream",
     "text": [
      "env: SPACE_ID=3bc745cb-ba43-49ed-992c-b3454f4f3e6d\n"
     ]
    }
   ],
   "source": [
    "space_id = space_id.split('\\n')[1]\n",
    "%env SPACE_ID=$space_id"
   ]
  },
  {
   "cell_type": "markdown",
   "metadata": {
    "id": "766d4099-0638-45d7-98ca-85b4929adf9d"
   },
   "source": [
    "Space creation is asynchronous. This means that you need to check space creation status after creation call.\n",
    "Make sure that your newly created space is `active`."
   ]
  },
  {
   "cell_type": "markdown",
   "metadata": {
    "id": "2b05e974-67a8-4e6d-aa37-a172e0c4042d"
   },
   "source": [
    "<a href=\"https://cpd-spaces-api.eu-gb.cf.appdomain.cloud/#/Spaces/spaces_get\" \n",
    "target=\"_blank\" rel=\"noopener no referrer\">Get space information</a>"
   ]
  },
  {
   "cell_type": "code",
   "execution_count": 8,
   "metadata": {
    "id": "51d3fb11-627c-425c-8778-07b049647d7d"
   },
   "outputs": [
    {
     "name": "stdout",
     "output_type": "stream",
     "text": [
      "{\n",
      "  \"entity\": {\n",
      "    \"compute\": [{\n",
      "      \"crn\": \"crn:v1:cpd:private:pm-20:private:a/cpduser:99999999-9999-9999-9999-999999999999::\",\n",
      "      \"guid\": \"99999999-9999-9999-9999-999999999999\",\n",
      "      \"name\": \"Watson Machine Learning\",\n",
      "      \"type\": \"machine_learning\"\n",
      "    }],\n",
      "    \"name\": \"curl_DL_1\",\n",
      "    \"scope\": {\n",
      "      \"bss_account_id\": \"cpdaccount\"\n",
      "    },\n",
      "    \"status\": {\n",
      "      \"state\": \"preparing\"\n",
      "    }\n",
      "  },\n",
      "  \"metadata\": {\n",
      "    \"created_at\": \"2020-11-19T17:46:54.832Z\",\n",
      "    \"creator_id\": \"1000330999\",\n",
      "    \"id\": \"3bc745cb-ba43-49ed-992c-b3454f4f3e6d\",\n",
      "    \"updated_at\": \"2020-11-19T17:46:56.043Z\",\n",
      "    \"url\": \"/v2/spaces/3bc745cb-ba43-49ed-992c-b3454f4f3e6d\"\n",
      "  }\n",
      "}"
     ]
    }
   ],
   "source": [
    "%%bash\n",
    "\n",
    "curl -sk -X GET \\\n",
    "    --header \"Authorization: Bearer $TOKEN\" \\\n",
    "    --header \"Content-Type: application/json\" \\\n",
    "    --header \"Accept: application/json\" \\\n",
    "    \"$DATAPLATFORM_URL/v2/spaces/$SPACE_ID\""
   ]
  },
  {
   "cell_type": "markdown",
   "metadata": {
    "id": "7a57ccf7-2087-417b-bb1c-847e45697563"
   },
   "source": [
    "<a id=\"model_definition\"></a>\n",
    "## 2. Model definition \n",
    "\n",
    "This section provides samples about how to store model definition via cURL calls."
   ]
  },
  {
   "cell_type": "markdown",
   "metadata": {
    "id": "c6d12f4d-aaac-4e76-8ced-c89a4b82f1b7"
   },
   "source": [
    "<a href=\"https://watson-ml-v4-api.mybluemix.net/wml-restapi-cloud.html#/Model%20Definitions/model_definitions_create\" \n",
    "target=\"_blank\" rel=\"noopener no referrer\">Store a model definition for Deep Learning experiment</a>"
   ]
  },
  {
   "cell_type": "code",
   "execution_count": 9,
   "metadata": {
    "id": "56ef0bef-ef08-4781-8fee-ea051ddb0a30"
   },
   "outputs": [],
   "source": [
    "%%bash --out model_definition_payload\n",
    "\n",
    "MODEL_DEFINITION_PAYLOAD='{\"name\": \"PyTorch Hand-written Digit Recognition\", \"space_id\": \"'\"$SPACE_ID\"'\", \"description\": \"PyTorch Hand-written Digit Recognition\", \"tags\": [\"DL\", \"PyTorch\"], \"version\": \"v1\", \"platform\": {\"name\": \"python\", \"versions\": [\"3.7\"]}, \"command\": \"pytorch_v_1.1_mnist_onnx.py --epochs 10 --debug-level debug\"}'\n",
    "echo $MODEL_DEFINITION_PAYLOAD | python -m json.tool"
   ]
  },
  {
   "cell_type": "code",
   "execution_count": 10,
   "metadata": {
    "id": "2db32688-9b5d-4d01-ab81-8a1f0895d834"
   },
   "outputs": [
    {
     "name": "stdout",
     "output_type": "stream",
     "text": [
      "env: MODEL_DEFINITION_PAYLOAD={\n",
      "    \"name\": \"PyTorch Hand-written Digit Recognition\",\n",
      "    \"space_id\": \"3bc745cb-ba43-49ed-992c-b3454f4f3e6d\",\n",
      "    \"description\": \"PyTorch Hand-written Digit Recognition\",\n",
      "    \"tags\": [\n",
      "        \"DL\",\n",
      "        \"PyTorch\"\n",
      "    ],\n",
      "    \"version\": \"v1\",\n",
      "    \"platform\": {\n",
      "        \"name\": \"python\",\n",
      "        \"versions\": [\n",
      "            \"3.7\"\n",
      "        ]\n",
      "    },\n",
      "    \"command\": \"pytorch_v_1.1_mnist_onnx.py --epochs 10 --debug-level debug\"\n",
      "}\n"
     ]
    }
   ],
   "source": [
    "%env MODEL_DEFINITION_PAYLOAD=$model_definition_payload"
   ]
  },
  {
   "cell_type": "code",
   "execution_count": 11,
   "metadata": {
    "id": "adcf7c9e-29e3-4a4d-bb37-ff15f81c5844"
   },
   "outputs": [],
   "source": [
    "%%bash --out model_definition_id\n",
    "\n",
    "curl -sk -X POST \\\n",
    "    --header \"Authorization: Bearer $TOKEN\" \\\n",
    "    --header \"Content-Type: application/json\" \\\n",
    "    --header \"Accept: application/json\" \\\n",
    "    --data \"$MODEL_DEFINITION_PAYLOAD\" \\\n",
    "    \"$DATAPLATFORM_URL/ml/v4/model_definitions?version=2020-08-01\"| grep '\"id\": ' | awk -F '\"' '{ print $4 }'"
   ]
  },
  {
   "cell_type": "code",
   "execution_count": 12,
   "metadata": {
    "id": "6827c6e0-4f2b-48c7-8728-696f560bf3fe"
   },
   "outputs": [
    {
     "name": "stdout",
     "output_type": "stream",
     "text": [
      "env: MODEL_DEFINITION_ID=ea1d5f5e-5749-44f6-9f55-33f3b9285676\n"
     ]
    }
   ],
   "source": [
    "%env MODEL_DEFINITION_ID=$model_definition_id"
   ]
  },
  {
   "cell_type": "markdown",
   "metadata": {
    "id": "f28fdaa7-834b-4b58-b2da-bcfc7658761f"
   },
   "source": [
    "<a id=\"model_preparation\"></a>\n",
    "### Model preparation\n",
    "\n",
    "Download files with PyTorch code. You can either download the model PyTorch code using the link or run the cell below."
   ]
  },
  {
   "cell_type": "markdown",
   "metadata": {
    "id": "4b28cdac-95b9-4154-9415-125b0e709ef6"
   },
   "source": [
    "<a href=\"https://github.com/IBM/watson-machine-learning-samples/raw/master/cpd/definitions/pytorch/mnist/pytorch-onnx_v1_3.zip\" \n",
    "target=\"_blank\" rel=\"noopener no referrer\">Download pytorch-model.zip</a>"
   ]
  },
  {
   "cell_type": "code",
   "execution_count": 13,
   "metadata": {
    "id": "50618db7-52e4-4d31-a8e0-7518409f7a05"
   },
   "outputs": [
    {
     "name": "stderr",
     "output_type": "stream",
     "text": [
      "--2020-11-19 17:47:29--  https://github.com/IBM/watson-machine-learning-samples/raw/master/cpd/definitions/pytorch/mnist/pytorch_onnx_v1_3.zip\n",
      "Resolving github.com (github.com)... 140.82.114.4\n",
      "Connecting to github.com (github.com)|140.82.114.4|:443... connected.\n",
      "HTTP request sent, awaiting response... 302 Found\n",
      "Location: https://raw.githubusercontent.com/IBM/watson-machine-learning-samples/master/cpd/definitions/pytorch/mnist/pytorch_onnx_v1_3.zip [following]\n",
      "--2020-11-19 17:47:29--  https://raw.githubusercontent.com/IBM/watson-machine-learning-samples/master/cpd/definitions/pytorch/mnist/pytorch_onnx_v1_3.zip\n",
      "Resolving raw.githubusercontent.com (raw.githubusercontent.com)... 151.101.64.133, 151.101.128.133, 151.101.192.133, ...\n",
      "Connecting to raw.githubusercontent.com (raw.githubusercontent.com)|151.101.64.133|:443... connected.\n",
      "HTTP request sent, awaiting response... 200 OK\n",
      "Length: 4061 (4.0K) [application/zip]\n",
      "Saving to: ‘pytorch-onnx_v1_3.zip’\n",
      "\n",
      "     0K ...                                                   100% 40.7M=0s\n",
      "\n",
      "2020-11-19 17:47:29 (40.7 MB/s) - ‘pytorch-onnx_v1_3.zip’ saved [4061/4061]\n",
      "\n"
     ]
    }
   ],
   "source": [
    "%%bash\n",
    "\n",
    "wget https://github.com/IBM/watson-machine-learning-samples/raw/master/cpd/definitions/pytorch/mnist/pytorch_onnx_v1_3.zip \\\n",
    "     -O pytorch-onnx_v1_3.zip"
   ]
  },
  {
   "cell_type": "markdown",
   "metadata": {
    "id": "2040406d-6c8f-441f-97fa-ce404975c021"
   },
   "source": [
    "<a id=\"def_upload\"></a>\n",
    "### Upload model for the model definition"
   ]
  },
  {
   "cell_type": "markdown",
   "metadata": {
    "id": "7468d650-1476-4aee-94af-aa0d885d6095"
   },
   "source": [
    "<a href=\"https://watson-ml-v4-api.mybluemix.net/wml-restapi-cloud.html#/Model%20Definitions/model_definitions_upload_model\" \n",
    "target=\"_blank\" rel=\"noopener no referrer\">Upload model for the model definition</a>"
   ]
  },
  {
   "cell_type": "code",
   "execution_count": 14,
   "metadata": {
    "id": "3f1ff8cd-d37c-4c07-bb10-5e8b8048e6ea"
   },
   "outputs": [
    {
     "name": "stdout",
     "output_type": "stream",
     "text": [
      "{\n",
      "    \"attachment_id\": \"e33c7a60-c8bc-4790-b033-ace3dd2319bc\",\n",
      "    \"content_format\": \"native\",\n",
      "    \"persisted\": true\n",
      "}\n"
     ]
    }
   ],
   "source": [
    "%%bash\n",
    "\n",
    "curl -sk -X PUT \\\n",
    "    --header \"Authorization: Bearer $TOKEN\" \\\n",
    "    --header \"Content-Type: application/json\" \\\n",
    "    --header \"Accept: application/json\" \\\n",
    "    --data-binary \"@pytorch-onnx_v1_3.zip\" \\\n",
    "    \"$DATAPLATFORM_URL/ml/v4/model_definitions/$MODEL_DEFINITION_ID/model?version=2020-08-01&space_id=$SPACE_ID\" \\\n",
    "    | python -m json.tool"
   ]
  },
  {
   "cell_type": "markdown",
   "metadata": {
    "id": "19dc3525-9e9d-45f4-8a25-27b5d8662d2b"
   },
   "source": [
    "<a id=\"run\"></a>\n",
    "## 3. Experiment run\n",
    "\n",
    "This section provides samples about how to trigger Deep Learning experiment via cURL calls."
   ]
  },
  {
   "cell_type": "markdown",
   "metadata": {
    "id": "1e841ae8-0eaa-416c-822f-4ed806963885"
   },
   "source": [
    "<a href=\"https://watson-ml-v4-api.mybluemix.net/wml-restapi-cloud.html#/Trainings/trainings_create\" \n",
    "target=\"_blank\" rel=\"noopener no referrer\">Schedule a training job for Deep Learning experiment</a>"
   ]
  },
  {
   "cell_type": "markdown",
   "metadata": {
    "id": "3caff9bf-aef5-4426-9205-24083db2d9ff"
   },
   "source": [
    "Specify the source files folder where you have stored your training data. The path should point to a local repository on Watson Machine Learning Accelerator that your system administrator has set up for your use.\n",
    "\n",
    "**Action:**\n",
    "Change `training_data_references: location: path: ...`"
   ]
  },
  {
   "cell_type": "code",
   "execution_count": 15,
   "metadata": {
    "id": "253c1a66-02fb-4a8c-a75b-2ca1fcda7a69"
   },
   "outputs": [],
   "source": [
    "%%bash --out training_payload\n",
    "\n",
    "TRAINING_PAYLOAD='{\"training_data_references\": [{\"name\": \"training_input_data\", \"type\": \"fs\", \"connection\": {}, \"location\": {\"path\": \"pytorch-mnist\"}, \"schema\": {\"id\": \"idmlp_schema\", \"fields\": [{\"name\": \"text\", \"type\": \"string\"}]}}], \"results_reference\": {\"name\": \"MNIST results\", \"connection\": {}, \"location\": {\"path\": \"spaces/'\"$SPACE_ID\"'/assets/experiment\"}, \"type\": \"fs\"}, \"tags\": [{\"value\": \"tags_pytorch\", \"description\": \"Tags PyTorch\"}], \"name\": \"PyTorch hand-written Digit Recognition\", \"description\": \"PyTorch hand-written Digit Recognition\", \"model_definition\": {\"id\": \"'\"$MODEL_DEFINITION_ID\"'\", \"command\": \"pytorch_v_1.1_mnist_onnx.py --epochs 10 --debug-level debug\", \"hardware_spec\": {\"name\": \"K80\", \"nodes\": 1}, \"software_spec\": {\"name\": \"pytorch-onnx_1.3-py3.7\"}, \"parameters\": {\"name\": \"PyTorch_mnist\", \"description\": \"PyTorch mnist recognition\"}}, \"space_id\": \"'\"$SPACE_ID\"'\"}'\n",
    "echo $TRAINING_PAYLOAD | python -m json.tool"
   ]
  },
  {
   "cell_type": "code",
   "execution_count": 16,
   "metadata": {
    "id": "9f067573-1f57-4e5b-9b7d-d60de7721ac9"
   },
   "outputs": [
    {
     "name": "stdout",
     "output_type": "stream",
     "text": [
      "env: TRAINING_PAYLOAD={\n",
      "    \"training_data_references\": [\n",
      "        {\n",
      "            \"name\": \"training_input_data\",\n",
      "            \"type\": \"fs\",\n",
      "            \"connection\": {},\n",
      "            \"location\": {\n",
      "                \"path\": \"pytorch-mnist\"\n",
      "            },\n",
      "            \"schema\": {\n",
      "                \"id\": \"idmlp_schema\",\n",
      "                \"fields\": [\n",
      "                    {\n",
      "                        \"name\": \"text\",\n",
      "                        \"type\": \"string\"\n",
      "                    }\n",
      "                ]\n",
      "            }\n",
      "        }\n",
      "    ],\n",
      "    \"results_reference\": {\n",
      "        \"name\": \"MNIST results\",\n",
      "        \"connection\": {},\n",
      "        \"location\": {\n",
      "            \"path\": \"spaces/3bc745cb-ba43-49ed-992c-b3454f4f3e6d/assets/experiment\"\n",
      "        },\n",
      "        \"type\": \"fs\"\n",
      "    },\n",
      "    \"tags\": [\n",
      "        {\n",
      "            \"value\": \"tags_pytorch\",\n",
      "            \"description\": \"Tags PyTorch\"\n",
      "        }\n",
      "    ],\n",
      "    \"name\": \"PyTorch hand-written Digit Recognition\",\n",
      "    \"description\": \"PyTorch hand-written Digit Recognition\",\n",
      "    \"model_definition\": {\n",
      "        \"id\": \"ea1d5f5e-5749-44f6-9f55-33f3b9285676\",\n",
      "        \"command\": \"pytorch_v_1.1_mnist_onnx.py --epochs 10 --debug-level debug\",\n",
      "        \"hardware_spec\": {\n",
      "            \"name\": \"K80\",\n",
      "            \"nodes\": 1\n",
      "        },\n",
      "        \"software_spec\": {\n",
      "            \"name\": \"pytorch-onnx_1.3-py3.7\"\n",
      "        },\n",
      "        \"parameters\": {\n",
      "            \"name\": \"PyTorch_mnist\",\n",
      "            \"description\": \"PyTorch mnist recognition\"\n",
      "        }\n",
      "    },\n",
      "    \"space_id\": \"3bc745cb-ba43-49ed-992c-b3454f4f3e6d\"\n",
      "}\n"
     ]
    }
   ],
   "source": [
    "%env TRAINING_PAYLOAD=$training_payload"
   ]
  },
  {
   "cell_type": "code",
   "execution_count": 17,
   "metadata": {
    "id": "3c720f20-944f-40e6-92f0-72a224dee2fe"
   },
   "outputs": [],
   "source": [
    "%%bash --out training_id\n",
    "\n",
    "curl -sk -X  POST \\\n",
    "    --header \"Authorization: Bearer $TOKEN\" \\\n",
    "    --header \"Content-Type: application/json\" \\\n",
    "    --header \"Accept: application/json\" \\\n",
    "    --data \"$TRAINING_PAYLOAD\" \\\n",
    "    \"$DATAPLATFORM_URL/ml/v4/trainings?version=2020-08-01\" | awk -F'\"id\":' '{print $2}' | cut -c2-37"
   ]
  },
  {
   "cell_type": "code",
   "execution_count": 18,
   "metadata": {
    "id": "7892842e-5fef-46b9-aeae-1611d1be84b4"
   },
   "outputs": [
    {
     "name": "stdout",
     "output_type": "stream",
     "text": [
      "env: TRAINING_ID=c840051a-4e06-48dc-a767-2302058ed70f\n"
     ]
    }
   ],
   "source": [
    "%env TRAINING_ID=$training_id"
   ]
  },
  {
   "cell_type": "markdown",
   "metadata": {
    "id": "3b410654-5ef8-4d59-b87d-4097e6e179ff"
   },
   "source": [
    "<a id=\"training_details\"></a>\n",
    "### Get training details\n",
    "Training is an asynchronous endpoint. In case you want to monitor training status and details,\n",
    "you need to use a GET method and specify which training you want to monitor by usage of training ID."
   ]
  },
  {
   "cell_type": "markdown",
   "metadata": {
    "id": "8c53bb23-29cc-4716-aa94-679757ee548a"
   },
   "source": [
    "<a href=\"https://watson-ml-v4-api.mybluemix.net/wml-restapi-cloud.html#/Trainings/trainings_get\" \n",
    "target=\"_blank\" rel=\"noopener no referrer\">Get information about training job</a>"
   ]
  },
  {
   "cell_type": "raw",
   "metadata": {
    "id": "37fec1a7-4a34-433d-8845-73b505d56608"
   },
   "source": [
    "%%bash\n",
    "\n",
    "curl -sk -X GET \\\n",
    "    --header \"Authorization: Bearer $TOKEN\" \\\n",
    "    --header \"Content-Type: application/json\" \\\n",
    "    --header \"Accept: application/json\" \\\n",
    "    \"$DATAPLATFORM_URL/ml/v4/trainings/$TRAINING_ID?space_id=$SPACE_ID&version=2020-08-01\" \\\n",
    "    | python -m json.tool"
   ]
  },
  {
   "cell_type": "markdown",
   "metadata": {
    "id": "42d1961b-7760-46ff-a8a0-e475ab8c9139"
   },
   "source": [
    "### Get training status"
   ]
  },
  {
   "cell_type": "code",
   "execution_count": 21,
   "metadata": {
    "id": "ec8cd3ce-3557-460a-b5fe-38482dd3bc1d",
    "scrolled": true
   },
   "outputs": [
    {
     "name": "stdout",
     "output_type": "stream",
     "text": [
      "completed\n"
     ]
    }
   ],
   "source": [
    "%%bash\n",
    "\n",
    "STATUS=$(curl -sk -X GET\\\n",
    "    --header \"Authorization: Bearer $TOKEN\" \\\n",
    "    --header \"Content-Type: application/json\" \\\n",
    "    --header \"Accept: application/json\" \\\n",
    "    \"$DATAPLATFORM_URL/ml/v4/trainings/$TRAINING_ID?space_id=$SPACE_ID&version=2020-08-01\")\n",
    "    \n",
    "STATUS=${STATUS#*state\\\":\\\"}\n",
    "STATUS=${STATUS%%\\\"*}\n",
    "echo $STATUS"
   ]
  },
  {
   "cell_type": "markdown",
   "metadata": {
    "id": "2bd5d5db-aa67-4226-a411-e2b8a4ff1582"
   },
   "source": [
    "Please make sure that training is completed before you go to the next sections.\n",
    "Monitor `state` of your training by running above cell couple of times."
   ]
  },
  {
   "cell_type": "markdown",
   "metadata": {
    "id": "7c58000d-d9e8-4609-9973-aff48504f7cf"
   },
   "source": [
    "<a id=\"runs\"></a>\n",
    "## 4. Historical runs\n",
    "\n",
    "In this section you will see cURL examples describing how to get historical training run information."
   ]
  },
  {
   "cell_type": "markdown",
   "metadata": {
    "id": "f12c0bc7-66f0-4f18-a44a-8d1a4f1aea39"
   },
   "source": [
    "Output is similar to the output from training creation but you should see more trainings entries.  \n",
    "List training runs:"
   ]
  },
  {
   "cell_type": "markdown",
   "metadata": {
    "id": "7fc4ec2b-672d-4942-bed1-4a051860faec"
   },
   "source": [
    "<a href=\"https://watson-ml-v4-api.mybluemix.net/wml-restapi-cloud.html#/Trainings/trainings_list\" \n",
    "target=\"_blank\" rel=\"noopener no referrer\">Get list of historical training jobs information</a>"
   ]
  },
  {
   "cell_type": "code",
   "execution_count": 22,
   "metadata": {
    "id": "13524705-34d2-482f-af60-b1f16a02522e"
   },
   "outputs": [
    {
     "name": "stdout",
     "output_type": "stream",
     "text": [
      "{\n",
      "    \"limit\": 2,\n",
      "    \"resources\": [\n",
      "        {\n",
      "            \"metadata\": {\n",
      "                \"created_at\": \"2020-11-19T17:47:49.812Z\",\n",
      "                \"description\": \"PyTorch hand-written Digit Recognition\",\n",
      "                \"guid\": \"c840051a-4e06-48dc-a767-2302058ed70f\",\n",
      "                \"id\": \"c840051a-4e06-48dc-a767-2302058ed70f\",\n",
      "                \"modified_at\": \"2020-11-19T17:50:55.499Z\",\n",
      "                \"name\": \"PyTorch hand-written Digit Recognition\",\n",
      "                \"space_id\": \"3bc745cb-ba43-49ed-992c-b3454f4f3e6d\",\n",
      "                \"tags\": [\n",
      "                    \"tags_pytorch\"\n",
      "                ]\n",
      "            },\n",
      "            \"entity\": {\n",
      "                \"description\": \"PyTorch hand-written Digit Recognition\",\n",
      "                \"model_definition\": {\n",
      "                    \"command\": \"pytorch_v_1.1_mnist_onnx.py --epochs 10 --debug-level debug\",\n",
      "                    \"hardware_spec\": {\n",
      "                        \"name\": \"K80\"\n",
      "                    },\n",
      "                    \"id\": \"ea1d5f5e-5749-44f6-9f55-33f3b9285676\",\n",
      "                    \"parameters\": {\n",
      "                        \"description\": \"PyTorch mnist recognition\",\n",
      "                        \"name\": \"PyTorch_mnist\"\n",
      "                    },\n",
      "                    \"software_spec\": {\n",
      "                        \"name\": \"pytorch-onnx_1.3-py3.7\"\n",
      "                    }\n",
      "                },\n",
      "                \"name\": \"PyTorch hand-written Digit Recognition\",\n",
      "                \"results_reference\": {\n",
      "                    \"location\": {\n",
      "                        \"path\": \"spaces/3bc745cb-ba43-49ed-992c-b3454f4f3e6d/assets/experiment\",\n",
      "                        \"model\": \"spaces/3bc745cb-ba43-49ed-992c-b3454f4f3e6d/assets/experiment/c840051a-4e06-48dc-a767-2302058ed70f/data/model\",\n",
      "                        \"training\": \"spaces/3bc745cb-ba43-49ed-992c-b3454f4f3e6d/assets/experiment/c840051a-4e06-48dc-a767-2302058ed70f\",\n",
      "                        \"training_status\": \"spaces/3bc745cb-ba43-49ed-992c-b3454f4f3e6d/assets/experiment/c840051a-4e06-48dc-a767-2302058ed70f/training-status.json\",\n",
      "                        \"logs\": \"spaces/3bc745cb-ba43-49ed-992c-b3454f4f3e6d/assets/experiment/c840051a-4e06-48dc-a767-2302058ed70f/logs\",\n",
      "                        \"assets_path\": \"spaces/3bc745cb-ba43-49ed-992c-b3454f4f3e6d/assets/experiment/c840051a-4e06-48dc-a767-2302058ed70f/assets\"\n",
      "                    },\n",
      "                    \"type\": \"fs\",\n",
      "                    \"connection\": {}\n",
      "                },\n",
      "                \"space\": {\n",
      "                    \"href\": \"/v4/spaces/3bc745cb-ba43-49ed-992c-b3454f4f3e6d\",\n",
      "                    \"id\": \"3bc745cb-ba43-49ed-992c-b3454f4f3e6d\"\n",
      "                },\n",
      "                \"space_id\": \"3bc745cb-ba43-49ed-992c-b3454f4f3e6d\",\n",
      "                \"status\": {\n",
      "                    \"completed_at\": \"2020-11-19T17:50:55.493Z\",\n",
      "                    \"metrics\": [\n",
      "                        {\n",
      "                            \"iteration\": 1,\n",
      "                            \"ml_metrics\": {\n",
      "                                \"accuracy\": 75.49,\n",
      "                                \"loss\": -0.7398596923828125\n",
      "                            },\n",
      "                            \"timestamp\": \"2020-11-19T17:48:41.465Z\"\n",
      "                        },\n",
      "                        {\n",
      "                            \"iteration\": 2,\n",
      "                            \"ml_metrics\": {\n",
      "                                \"accuracy\": 77.5,\n",
      "                                \"loss\": -0.7679281616210938\n",
      "                            },\n",
      "                            \"timestamp\": \"2020-11-19T17:49:11.489Z\"\n",
      "                        },\n",
      "                        {\n",
      "                            \"iteration\": 3,\n",
      "                            \"ml_metrics\": {\n",
      "                                \"accuracy\": 78.31,\n",
      "                                \"loss\": -0.7784312561035156\n",
      "                            },\n",
      "                            \"timestamp\": \"2020-11-19T17:49:11.506Z\"\n",
      "                        },\n",
      "                        {\n",
      "                            \"iteration\": 4,\n",
      "                            \"ml_metrics\": {\n",
      "                                \"accuracy\": 78.65,\n",
      "                                \"loss\": -0.7830263000488281\n",
      "                            },\n",
      "                            \"timestamp\": \"2020-11-19T17:49:41.548Z\"\n",
      "                        },\n",
      "                        {\n",
      "                            \"iteration\": 5,\n",
      "                            \"ml_metrics\": {\n",
      "                                \"accuracy\": 79.08,\n",
      "                                \"loss\": -0.7878973815917969\n",
      "                            },\n",
      "                            \"timestamp\": \"2020-11-19T17:49:41.566Z\"\n",
      "                        },\n",
      "                        {\n",
      "                            \"iteration\": 6,\n",
      "                            \"ml_metrics\": {\n",
      "                                \"accuracy\": 79.14,\n",
      "                                \"loss\": -0.789755322265625\n",
      "                            },\n",
      "                            \"timestamp\": \"2020-11-19T17:50:11.594Z\"\n",
      "                        },\n",
      "                        {\n",
      "                            \"iteration\": 7,\n",
      "                            \"ml_metrics\": {\n",
      "                                \"accuracy\": 79.56,\n",
      "                                \"loss\": -0.7932085388183594\n",
      "                            },\n",
      "                            \"timestamp\": \"2020-11-19T17:50:11.613Z\"\n",
      "                        },\n",
      "                        {\n",
      "                            \"iteration\": 8,\n",
      "                            \"ml_metrics\": {\n",
      "                                \"accuracy\": 79.7,\n",
      "                                \"loss\": -0.7955565551757813\n",
      "                            },\n",
      "                            \"timestamp\": \"2020-11-19T17:50:41.634Z\"\n",
      "                        }\n",
      "                    ],\n",
      "                    \"running_at\": \"2020-11-19T17:48:14.302Z\",\n",
      "                    \"state\": \"completed\"\n",
      "                },\n",
      "                \"tags\": [\n",
      "                    {\n",
      "                        \"description\": \"Tags PyTorch\",\n",
      "                        \"value\": \"tags_pytorch\"\n",
      "                    }\n",
      "                ],\n",
      "                \"training_data_references\": [\n",
      "                    {\n",
      "                        \"location\": {\n",
      "                            \"path\": \"pytorch-mnist\"\n",
      "                        },\n",
      "                        \"type\": \"fs\",\n",
      "                        \"connection\": {},\n",
      "                        \"schema\": {\n",
      "                            \"fields\": [\n",
      "                                {\n",
      "                                    \"name\": \"text\",\n",
      "                                    \"type\": \"string\"\n",
      "                                }\n",
      "                            ],\n",
      "                            \"id\": \"idmlp_schema\"\n",
      "                        }\n",
      "                    }\n",
      "                ]\n",
      "            }\n",
      "        }\n",
      "    ]\n",
      "}\n"
     ]
    }
   ],
   "source": [
    "%%bash\n",
    "\n",
    "HISTORICAL_TRAINING_LIMIT_TO_GET=2\n",
    "\n",
    "curl -sk -X GET \\\n",
    "    --header \"Authorization: Bearer $TOKEN\" \\\n",
    "    --header \"Content-Type: application/json\" \\\n",
    "    --header \"Accept: application/json\" \\\n",
    "    \"$DATAPLATFORM_URL/ml/v4/trainings?space_id=$SPACE_ID&version=2020-08-01&limit=$HISTORICAL_TRAINING_LIMIT_TO_GET\" \\\n",
    "    | python -m json.tool"
   ]
  },
  {
   "cell_type": "markdown",
   "metadata": {
    "id": "ba2d5afc-6b9f-42ac-ac2a-9334252079e8"
   },
   "source": [
    "<a id=\"training_cancel\"></a>\n",
    "### Cancel training run\n",
    "\n",
    "**Tip:** If you want to cancel your training, convert the cell below to `code`, specify training ID and run."
   ]
  },
  {
   "cell_type": "markdown",
   "metadata": {
    "id": "ef5cf202-719b-4dfc-8078-de3efb933db6"
   },
   "source": [
    "<a href=\"https://watson-ml-v4-api.mybluemix.net/wml-restapi-cloud.html#/Trainings/trainings_delete\" \n",
    "target=\"_blank\" rel=\"noopener no referrer\">Canceling training</a>"
   ]
  },
  {
   "cell_type": "raw",
   "metadata": {
    "id": "8a102b09-b75f-4748-b7a5-621e69de5c15"
   },
   "source": [
    "%%bash\n",
    "\n",
    "TRAINING_ID_TO_CANCEL=...\n",
    "\n",
    "curl -sk -X DELETE \\\n",
    "    --header \"Authorization: Bearer $TOKEN\" \\\n",
    "    --header \"Content-Type: application/json\" \\\n",
    "    --header \"Accept: application/json\" \\\n",
    "    \"$DATAPLATFORM_URL/ml/v4/trainings/$TRAINING_ID_TO_DELETE?space_id=$SPACE_ID&version=2020-08-01\""
   ]
  },
  {
   "cell_type": "markdown",
   "metadata": {
    "id": "cfc01de0-b907-482c-affd-1baa8482025a"
   },
   "source": [
    "---"
   ]
  },
  {
   "cell_type": "markdown",
   "metadata": {
    "id": "ad5d60b0-3b85-4c0c-a21c-b5e3edd28ff3"
   },
   "source": [
    "<a id=\"deploy_and_score\"></a>\n",
    "## 5. Deploy and core\n",
    "\n",
    "In this section you will learn how to deploy and score a pipeline model as a web service using a WML instance."
   ]
  },
  {
   "cell_type": "markdown",
   "metadata": {
    "id": "79f51428-c969-4325-bf1a-e5b9933c5ab3"
   },
   "source": [
    "Before deployment creation, you need store your model in WML repository.\n",
    "Please see below cURL call example how to do it."
   ]
  },
  {
   "cell_type": "markdown",
   "metadata": {
    "id": "5f3aa1f8-40fd-440f-b002-f5de57dcde69"
   },
   "source": [
    "Download `request.json` with repository request json for model storing."
   ]
  },
  {
   "cell_type": "code",
   "execution_count": 23,
   "metadata": {
    "id": "f4ed07b6-b0e3-41ac-ac8b-b05400e53d0c"
   },
   "outputs": [],
   "source": [
    "%%bash --out request_json\n",
    "\n",
    "curl -sk -X GET \\\n",
    "    --header \"Authorization: Bearer $TOKEN\" \\\n",
    "    --header \"Content-Type: application/json\" \\\n",
    "    --header \"Accept: application/json\" \\\n",
    "    \"$DATAPLATFORM_URL/v2/asset_files/experiment/$TRAINING_ID/assets/$TRAINING_ID/resources/wml_model/request.json?space_id=$SPACE_ID&version=2020-08-01\" \\\n",
    "    | python -m json.tool"
   ]
  },
  {
   "cell_type": "code",
   "execution_count": 24,
   "metadata": {
    "id": "95ab2a47-e022-4f83-8712-fa0c74670b64"
   },
   "outputs": [
    {
     "name": "stdout",
     "output_type": "stream",
     "text": [
      "env: MODEL_PAYLOAD={\n",
      "    \"content_location\": {\n",
      "        \"connection\": {},\n",
      "        \"contents\": [\n",
      "            {\n",
      "                \"content_format\": \"native\",\n",
      "                \"file_name\": \"twmla-1314.zip\",\n",
      "                \"location\": \"spaces/3bc745cb-ba43-49ed-992c-b3454f4f3e6d/assets/experiment/c840051a-4e06-48dc-a767-2302058ed70f/assets/c840051a-4e06-48dc-a767-2302058ed70f/resources/wml_model/twmla-1314.zip\"\n",
      "            }\n",
      "        ],\n",
      "        \"location\": {\n",
      "            \"path\": \"spaces/3bc745cb-ba43-49ed-992c-b3454f4f3e6d/assets/experiment\",\n",
      "            \"model\": \"spaces/3bc745cb-ba43-49ed-992c-b3454f4f3e6d/assets/experiment/c840051a-4e06-48dc-a767-2302058ed70f/data/model\",\n",
      "            \"training\": \"spaces/3bc745cb-ba43-49ed-992c-b3454f4f3e6d/assets/experiment/c840051a-4e06-48dc-a767-2302058ed70f\",\n",
      "            \"training_status\": \"spaces/3bc745cb-ba43-49ed-992c-b3454f4f3e6d/assets/experiment/c840051a-4e06-48dc-a767-2302058ed70f/training-status.json\",\n",
      "            \"logs\": \"spaces/3bc745cb-ba43-49ed-992c-b3454f4f3e6d/assets/experiment/c840051a-4e06-48dc-a767-2302058ed70f/logs\",\n",
      "            \"assets_path\": \"spaces/3bc745cb-ba43-49ed-992c-b3454f4f3e6d/assets/experiment/c840051a-4e06-48dc-a767-2302058ed70f/assets\"\n",
      "        },\n",
      "        \"type\": \"fs\"\n",
      "    },\n",
      "    \"model_definition\": {\n",
      "        \"id\": \"ea1d5f5e-5749-44f6-9f55-33f3b9285676\"\n",
      "    },\n",
      "    \"name\": \"model_twmla-1314\",\n",
      "    \"software_spec\": {\n",
      "        \"name\": \"pytorch-onnx_1.3-py3.7\"\n",
      "    },\n",
      "    \"space_id\": \"3bc745cb-ba43-49ed-992c-b3454f4f3e6d\",\n",
      "    \"training_data_references\": [\n",
      "        {\n",
      "            \"connection\": {},\n",
      "            \"location\": {\n",
      "                \"path\": \"pytorch-mnist\"\n",
      "            },\n",
      "            \"schema\": {\n",
      "                \"fields\": [\n",
      "                    {\n",
      "                        \"name\": \"text\",\n",
      "                        \"type\": \"string\"\n",
      "                    }\n",
      "                ],\n",
      "                \"id\": \"idmlp_schema\"\n",
      "            },\n",
      "            \"type\": \"fs\"\n",
      "        }\n",
      "    ],\n",
      "    \"type\": \"pytorch-onnx_1.3\"\n",
      "}\n"
     ]
    }
   ],
   "source": [
    "%env MODEL_PAYLOAD=$request_json"
   ]
  },
  {
   "cell_type": "markdown",
   "metadata": {
    "id": "7c4ff770-a847-435f-9a3d-1142d6f69a3f"
   },
   "source": [
    "<a id=\"model_store\"></a>\n",
    "### Store deep learning model\n",
    "\n",
    "Store information about your model in the WML repository."
   ]
  },
  {
   "cell_type": "markdown",
   "metadata": {
    "id": "02806557-6d42-4ebb-8777-ff3a22a1d921"
   },
   "source": [
    "<a href=\"https://watson-ml-v4-api.mybluemix.net/wml-restapi-cloud.html#/Models/models_create\" \n",
    "target=\"_blank\" rel=\"noopener no referrer\">Model storing</a>"
   ]
  },
  {
   "cell_type": "code",
   "execution_count": 25,
   "metadata": {
    "id": "ade0e7a0-8837-42e8-bdb3-6ef6cbe3ead1"
   },
   "outputs": [],
   "source": [
    "%%bash --out model_details\n",
    "\n",
    "curl -sk -X POST \\\n",
    "    --header \"Authorization: Bearer $TOKEN\" \\\n",
    "    --header \"Content-Type: application/json\" \\\n",
    "    --header \"Accept: application/json\" \\\n",
    "    --data \"$MODEL_PAYLOAD\" \\\n",
    "    \"$DATAPLATFORM_URL/ml/v4/models?version=2020-08-01&space_id=$SPACE_ID\""
   ]
  },
  {
   "cell_type": "code",
   "execution_count": 26,
   "metadata": {
    "id": "8f75e56b-549c-48c0-bac7-9aa42f6be1e6"
   },
   "outputs": [
    {
     "name": "stdout",
     "output_type": "stream",
     "text": [
      "env: MODEL_DETAILS={\n",
      "  \"entity\": {\n",
      "    \"content_import_state\": \"running\",\n",
      "    \"model_definition\": {\n",
      "      \"id\": \"ea1d5f5e-5749-44f6-9f55-33f3b9285676\"\n",
      "    },\n",
      "    \"software_spec\": {\n",
      "      \"id\": \"8d5d8a87-a912-54cf-81ec-3914adaa988d\",\n",
      "      \"name\": \"pytorch-onnx_1.3-py3.7\"\n",
      "    },\n",
      "    \"training_data_references\": [{\n",
      "      \"connection\": {\n",
      "\n",
      "      },\n",
      "      \"location\": {\n",
      "        \"path\": \"pytorch-mnist\"\n",
      "      },\n",
      "      \"schema\": {\n",
      "        \"fields\": [{\n",
      "          \"name\": \"text\",\n",
      "          \"type\": \"string\"\n",
      "        }],\n",
      "        \"id\": \"idmlp_schema\"\n",
      "      },\n",
      "      \"type\": \"fs\"\n",
      "    }],\n",
      "    \"type\": \"pytorch-onnx_1.3\"\n",
      "  },\n",
      "  \"metadata\": {\n",
      "    \"created_at\": \"2020-11-19T17:52:19.456Z\",\n",
      "    \"id\": \"20dde42f-6aec-41eb-b147-5ffdd60dada3\",\n",
      "    \"modified_at\": \"2020-11-19T17:52:19.456Z\",\n",
      "    \"name\": \"model_twmla-1314\",\n",
      "    \"owner\": \"1000330999\",\n",
      "    \"space_id\": \"3bc745cb-ba43-49ed-992c-b3454f4f3e6d\"\n",
      "  },\n",
      "  \"system\": {\n",
      "    \"warnings\": []\n",
      "  }\n",
      "}\n"
     ]
    }
   ],
   "source": [
    "%env MODEL_DETAILS=$model_details"
   ]
  },
  {
   "cell_type": "code",
   "execution_count": 27,
   "metadata": {
    "id": "301c0340-c668-475b-9a88-65a956444a89"
   },
   "outputs": [],
   "source": [
    "%%bash --out model_id\n",
    "\n",
    "echo $MODEL_DETAILS | awk -F '\"id\": ' '{ print $5 }' | cut -d '\"' -f 2"
   ]
  },
  {
   "cell_type": "code",
   "execution_count": 28,
   "metadata": {
    "id": "69bd5228-f206-45cb-bada-8e883ba6fb67"
   },
   "outputs": [
    {
     "name": "stdout",
     "output_type": "stream",
     "text": [
      "env: MODEL_ID=20dde42f-6aec-41eb-b147-5ffdd60dada3\n"
     ]
    }
   ],
   "source": [
    "%env MODEL_ID=$model_id"
   ]
  },
  {
   "cell_type": "markdown",
   "metadata": {
    "id": "66247376-2352-4eba-88fa-9b07bab41f68"
   },
   "source": [
    "<a id=\"deployment_creation\"></a>\n",
    "### Deployment creation\n",
    "\n",
    "An Deep Learning online deployment creation is presented below."
   ]
  },
  {
   "cell_type": "markdown",
   "metadata": {
    "id": "dc34e85c-dca2-4c69-af17-e5274d7a7042"
   },
   "source": [
    "<a href=\"https://watson-ml-v4-api.mybluemix.net/wml-restapi-cloud.html#/Deployments/deployments_create\" \n",
    "target=\"_blank\" rel=\"noopener no referrer\">Create deployment</a>"
   ]
  },
  {
   "cell_type": "code",
   "execution_count": 29,
   "metadata": {
    "id": "a85c7f50-8ed7-4f02-8a73-9614eb50fd8b"
   },
   "outputs": [],
   "source": [
    "%%bash --out deployment_payload\n",
    "\n",
    "DEPLOYMENT_PAYLOAD='{\"space_id\": \"'\"$SPACE_ID\"'\",\"name\": \"PyTorch Mnist deployment\", \"description\": \"PyTorch model to recognize hand-written digits\",\"online\": {},\"hardware_spec\": {\"name\": \"S\"},\"asset\": {\"id\": \"'\"$MODEL_ID\"'\"}}'\n",
    "echo $DEPLOYMENT_PAYLOAD | python -m json.tool"
   ]
  },
  {
   "cell_type": "code",
   "execution_count": 30,
   "metadata": {
    "id": "72389afe-0efc-4cdc-870a-13f893632766"
   },
   "outputs": [
    {
     "name": "stdout",
     "output_type": "stream",
     "text": [
      "env: DEPLOYMENT_PAYLOAD={\n",
      "    \"space_id\": \"3bc745cb-ba43-49ed-992c-b3454f4f3e6d\",\n",
      "    \"name\": \"PyTorch Mnist deployment\",\n",
      "    \"description\": \"PyTorch model to recognize hand-written digits\",\n",
      "    \"online\": {},\n",
      "    \"hardware_spec\": {\n",
      "        \"name\": \"S\"\n",
      "    },\n",
      "    \"asset\": {\n",
      "        \"id\": \"20dde42f-6aec-41eb-b147-5ffdd60dada3\"\n",
      "    }\n",
      "}\n"
     ]
    }
   ],
   "source": [
    "%env DEPLOYMENT_PAYLOAD=$deployment_payload"
   ]
  },
  {
   "cell_type": "code",
   "execution_count": 31,
   "metadata": {
    "id": "e3b73d08-a9d6-4d60-8b14-5fd852b10f09"
   },
   "outputs": [
    {
     "name": "stdout",
     "output_type": "stream",
     "text": [
      "{\n",
      "  \"entity\": {\n",
      "    \"asset\": {\n",
      "      \"id\": \"20dde42f-6aec-41eb-b147-5ffdd60dada3\"\n",
      "    },\n",
      "    \"custom\": {\n",
      "\n",
      "    },\n",
      "    \"deployed_asset_type\": \"model\",\n",
      "    \"description\": \"PyTorch model to recognize hand-written digits\",\n",
      "    \"hardware_spec\": {\n",
      "      \"id\": \"e7ed1d6c-2e89-42d7-aed5-863b972c1d2b\",\n",
      "      \"name\": \"S\",\n",
      "      \"num_nodes\": 1\n",
      "    },\n",
      "    \"name\": \"PyTorch Mnist deployment\",\n",
      "    \"online\": {\n",
      "\n",
      "    },\n",
      "    \"space_id\": \"3bc745cb-ba43-49ed-992c-b3454f4f3e6d\",\n",
      "    \"status\": {\n",
      "      \"online_url\": {\n",
      "        \"url\": \"https://wmlgm-cpd-wmlgm.apps.wml1x180.ma.platformlab.ibm.com/ml/v4/deployments/17d2908b-7632-4d26-8c25-d8ac0d44754c/predictions\"\n",
      "      },\n",
      "      \"state\": \"initializing\"\n",
      "    }\n",
      "  },\n",
      "  \"metadata\": {\n",
      "    \"created_at\": \"2020-11-19T17:52:44.729Z\",\n",
      "    \"description\": \"PyTorch model to recognize hand-written digits\",\n",
      "    \"id\": \"17d2908b-7632-4d26-8c25-d8ac0d44754c\",\n",
      "    \"modified_at\": \"2020-11-19T17:52:44.729Z\",\n",
      "    \"name\": \"PyTorch Mnist deployment\",\n",
      "    \"owner\": \"1000330999\",\n",
      "    \"space_id\": \"3bc745cb-ba43-49ed-992c-b3454f4f3e6d\"\n",
      "  }\n",
      "}"
     ]
    }
   ],
   "source": [
    "%%bash\n",
    "\n",
    "curl -sk -X POST \\\n",
    "    --header \"Authorization: Bearer $TOKEN\" \\\n",
    "    --header \"Content-Type: application/json\" \\\n",
    "    --header \"Accept: application/json\" \\\n",
    "    --data \"$DEPLOYMENT_PAYLOAD\" \\\n",
    "    \"$DATAPLATFORM_URL/ml/v4/deployments?version=2020-08-01\""
   ]
  },
  {
   "cell_type": "code",
   "execution_count": 32,
   "metadata": {
    "id": "725e29cd-7e9e-43b8-bb09-6e48f9c0f338"
   },
   "outputs": [],
   "source": [
    "%%bash --out deployment_id\n",
    "\n",
    "curl -sk -X POST \\\n",
    "    --header \"Authorization: Bearer $TOKEN\" \\\n",
    "    --header \"Content-Type: application/json\" \\\n",
    "    --header \"Accept: application/json\" \\\n",
    "    --data \"$DEPLOYMENT_PAYLOAD\" \\\n",
    "    \"$DATAPLATFORM_URL/ml/v4/deployments?version=2020-08-01\" \\\n",
    "    | grep '\"id\": ' | awk -F '\"' '{ print $4 }' | sed -n 3p"
   ]
  },
  {
   "cell_type": "code",
   "execution_count": 33,
   "metadata": {
    "id": "ed0be0df-dbaa-4983-b9cb-628e8fce3b14"
   },
   "outputs": [
    {
     "name": "stdout",
     "output_type": "stream",
     "text": [
      "env: DEPLOYMENT_ID=0c74dc16-8b3a-45d6-b0fa-ccb4025d02e7\n"
     ]
    }
   ],
   "source": [
    "%env DEPLOYMENT_ID=$deployment_id"
   ]
  },
  {
   "cell_type": "markdown",
   "metadata": {
    "id": "9edde7ff-82ae-499f-b86f-3d53f426a639"
   },
   "source": [
    "<a id=\"deployment_details\"></a>\n",
    "### Get deployment details\n",
    "As deployment API is asynchronous, make sure that your deployment is in `ready` state before going to the next section."
   ]
  },
  {
   "cell_type": "markdown",
   "metadata": {
    "id": "40f1e868-02ea-4fd3-ae10-ccaf5f1b323d"
   },
   "source": [
    "<a href=\"https://watson-ml-v4-api.mybluemix.net/wml-restapi-cloud.html#/Deployments/deployments_get\" \n",
    "target=\"_blank\" rel=\"noopener no referrer\">Get deployment details</a>"
   ]
  },
  {
   "cell_type": "code",
   "execution_count": 34,
   "metadata": {
    "id": "f8c25a34-c4ef-4c33-a96d-3d07d9536c45"
   },
   "outputs": [
    {
     "name": "stdout",
     "output_type": "stream",
     "text": [
      "{\n",
      "    \"entity\": {\n",
      "        \"asset\": {\n",
      "            \"id\": \"20dde42f-6aec-41eb-b147-5ffdd60dada3\"\n",
      "        },\n",
      "        \"custom\": {},\n",
      "        \"deployed_asset_type\": \"model\",\n",
      "        \"description\": \"PyTorch model to recognize hand-written digits\",\n",
      "        \"hardware_spec\": {\n",
      "            \"id\": \"e7ed1d6c-2e89-42d7-aed5-863b972c1d2b\",\n",
      "            \"name\": \"S\",\n",
      "            \"num_nodes\": 1\n",
      "        },\n",
      "        \"name\": \"PyTorch Mnist deployment\",\n",
      "        \"online\": {},\n",
      "        \"space_id\": \"3bc745cb-ba43-49ed-992c-b3454f4f3e6d\",\n",
      "        \"status\": {\n",
      "            \"online_url\": {\n",
      "                \"url\": \"https://wmlgm-cpd-wmlgm.apps.wml1x180.ma.platformlab.ibm.com/ml/v4/deployments/0c74dc16-8b3a-45d6-b0fa-ccb4025d02e7/predictions\"\n",
      "            },\n",
      "            \"state\": \"initializing\"\n",
      "        }\n",
      "    },\n",
      "    \"metadata\": {\n",
      "        \"created_at\": \"2020-11-19T17:52:49.300Z\",\n",
      "        \"description\": \"PyTorch model to recognize hand-written digits\",\n",
      "        \"id\": \"0c74dc16-8b3a-45d6-b0fa-ccb4025d02e7\",\n",
      "        \"modified_at\": \"2020-11-19T17:52:49.300Z\",\n",
      "        \"name\": \"PyTorch Mnist deployment\",\n",
      "        \"owner\": \"1000330999\",\n",
      "        \"space_id\": \"3bc745cb-ba43-49ed-992c-b3454f4f3e6d\"\n",
      "    }\n",
      "}\n"
     ]
    }
   ],
   "source": [
    "%%bash\n",
    "\n",
    "curl -sk -X GET \\\n",
    "    --header \"Authorization: Bearer $TOKEN\" \\\n",
    "    --header \"Content-Type: application/json\" \\\n",
    "    \"$DATAPLATFORM_URL/ml/v4/deployments/$DEPLOYMENT_ID?space_id=$SPACE_ID&version=2020-08-01\" \\\n",
    "    | python -m json.tool"
   ]
  },
  {
   "cell_type": "markdown",
   "metadata": {
    "id": "d254f1ea-c7cb-4c5e-82de-d80aeb5047a6"
   },
   "source": [
    "<a id=\"input_score\"></a>\n",
    "### Preparing scoring input data\n",
    "**Hint:** You may need to install numpy. Run the following command to install numpy: `!pip install numpy`"
   ]
  },
  {
   "cell_type": "code",
   "execution_count": 35,
   "metadata": {
    "id": "8dd56038-c575-4034-8f01-7d838f664f51"
   },
   "outputs": [],
   "source": [
    "!wget -q https://github.com/IBM/watson-machine-learning-samples/raw/master/cpd/data/mnist/mnist.npz"
   ]
  },
  {
   "cell_type": "code",
   "execution_count": 36,
   "metadata": {
    "id": "7d26a36d-5a94-4aed-900c-960f2a04d18d"
   },
   "outputs": [],
   "source": [
    "import numpy as np\n",
    "\n",
    "mnist_dataset = np.load('mnist.npz')\n",
    "test_mnist = mnist_dataset['x_test']"
   ]
  },
  {
   "cell_type": "code",
   "execution_count": 37,
   "metadata": {
    "id": "878481c1-d0dd-4bc7-b84a-56c89c028574"
   },
   "outputs": [],
   "source": [
    "image_1 = [test_mnist[0].tolist()]\n",
    "image_2 = [test_mnist[1].tolist()]"
   ]
  },
  {
   "cell_type": "code",
   "execution_count": 40,
   "metadata": {
    "id": "137cf81219fe4415897cc639cf5917af"
   },
   "outputs": [
    {
     "data": {
      "image/png": "[encoded data removed]",
      "text/plain": [
       "<Figure size 432x288 with 1 Axes>"
      ]
     },
     "metadata": {
      "needs_background": "light"
     },
     "output_type": "display_data"
    },
    {
     "data": {
      "image/png": "[encoded data removed]",
      "text/plain": [
       "<Figure size 432x288 with 1 Axes>"
      ]
     },
     "metadata": {
      "needs_background": "light"
     },
     "output_type": "display_data"
    }
   ],
   "source": [
    "from matplotlib import pyplot as plt\n",
    "first_image = np.array(image_1, dtype='float')\n",
    "pixels = first_image.reshape((28, 28))\n",
    "plt.imshow(pixels, cmap='gray')\n",
    "plt.show()\n",
    "\n",
    "second_image = np.array(image_2, dtype='float')\n",
    "pixels = second_image.reshape((28, 28))\n",
    "plt.imshow(pixels, cmap='gray')\n",
    "plt.show()"
   ]
  },
  {
   "cell_type": "markdown",
   "metadata": {
    "id": "0e15c89a-a267-4466-99e4-84cbfb489531"
   },
   "source": [
    "<a id=\"webservice_score\"></a>\n",
    "### Scoring of a webservice\n",
    "If you want to make a `score` call on your deployment, please follow a below method:"
   ]
  },
  {
   "cell_type": "markdown",
   "metadata": {
    "id": "846c7536-55f6-4a14-9e46-9577a11ef600"
   },
   "source": [
    "<a href=\"https://watson-ml-v4-api.mybluemix.net/wml-restapi-cloud.html#/Deployment%20Jobs/deployment_jobs_create\" \n",
    "target=\"_blank\" rel=\"noopener no referrer\">Create deployment job</a>\n",
    "\n",
    "#### The deployment takes an hand written image_1 (digit 7) and image_2 (digit 2) as an input and returns class probabilities ( in exponential value) that were predicted (from digit 0 to 9).\n",
    "\n"
   ]
  },
  {
   "cell_type": "code",
   "execution_count": 38,
   "metadata": {
    "id": "70b2809b-4222-4e05-ae66-14dc5ed7a0ff"
   },
   "outputs": [
    {
     "name": "stdout",
     "output_type": "stream",
     "text": [
      "{\n",
      "    \"predictions\": [\n",
      "        {\n",
      "            \"values\": [\n",
      "                [\n",
      "                    0.0,\n",
      "                    0.0,\n",
      "                    0.0,\n",
      "                    0.0,\n",
      "                    0.0,\n",
      "                    0.0,\n",
      "                    0.0,\n",
      "                    1.0,\n",
      "                    0.0,\n",
      "                    0.0\n",
      "                ],\n",
      "                [\n",
      "                    0.0,\n",
      "                    0.0,\n",
      "                    1.0,\n",
      "                    0.0,\n",
      "                    0.0,\n",
      "                    0.0,\n",
      "                    0.0,\n",
      "                    0.0,\n",
      "                    0.0,\n",
      "                    0.0\n",
      "                ]\n",
      "            ]\n",
      "        }\n",
      "    ]\n",
      "}\n"
     ]
    }
   ],
   "source": [
    "%%bash -s \"$image_1\" \"$image_2\"\n",
    "\n",
    "curl -sk -X POST \\\n",
    "    --header \"Authorization: Bearer $TOKEN\" \\\n",
    "    --header \"Content-Type: application/json\" \\\n",
    "    --header \"Accept: application/json\" \\\n",
    "    --data '{\"space_id\": \"$SPACE_ID\",\"input_data\": [{\"values\": ['\"$1\"', '\"$2\"']}]}' \\\n",
    "    \"$DATAPLATFORM_URL/ml/v4/deployments/$DEPLOYMENT_ID/predictions?version=2020-08-01\" \\\n",
    "    | python -m json.tool"
   ]
  },
  {
   "cell_type": "markdown",
   "metadata": {
    "id": "191fbb35-0f46-4bb7-a67e-69b9f60c244d"
   },
   "source": [
    "<a id=\"deployments_list\"></a>\n",
    "### Listing all deployments"
   ]
  },
  {
   "cell_type": "markdown",
   "metadata": {
    "id": "69e2c6e6-48df-4c50-af22-7adbe8e177a1"
   },
   "source": [
    "<a href=\"https://watson-ml-v4-api.mybluemix.net/wml-restapi-cloud.html#/Deployments/deployments_list\" \n",
    "target=\"_blank\" rel=\"noopener no referrer\">List deployments details</a>"
   ]
  },
  {
   "cell_type": "code",
   "execution_count": null,
   "metadata": {
    "id": "d11bf11f-e1c3-4865-b340-b9c8dadf0fda",
    "scrolled": true
   },
   "outputs": [],
   "source": [
    "%%bash\n",
    "\n",
    "curl -sk -X GET \\\n",
    "    --header \"Authorization: Bearer $TOKEN\" \\\n",
    "    --header \"Content-Type: application/json\" \\\n",
    "    \"$DATAPLATFORM_URL/ml/v4/deployments?space_id=$SPACE_ID&version=2020-08-01\" \\\n",
    "    | python -m json.tool"
   ]
  },
  {
   "cell_type": "markdown",
   "metadata": {
    "id": "13f9554c-8fe8-4fc5-b651-017ba324cf3f"
   },
   "source": [
    "<a id=\"cleaning\"></a>\n",
    "## 6. Cleaning section\n",
    "\n",
    "Below section is useful when you want to clean all of your previous work within this notebook.\n",
    "Just convert below cells into the `code` and run them."
   ]
  },
  {
   "cell_type": "markdown",
   "metadata": {
    "id": "6d430841-0e2f-46ad-b9c3-8ec763dd1d9c"
   },
   "source": [
    "<a id=\"training_delete\"></a>\n",
    "### Delete training run\n",
    "**Tip:** You can completely delete a training run with its metadata."
   ]
  },
  {
   "cell_type": "markdown",
   "metadata": {
    "id": "323027e7-4a3f-4aa0-a03e-f1a5717f7fb4"
   },
   "source": [
    "<a href=\"https://watson-ml-v4-api.mybluemix.net/wml-restapi-cloud.html#/Trainings/trainings_delete\" \n",
    "target=\"_blank\" rel=\"noopener no referrer\">Deleting training</a>"
   ]
  },
  {
   "cell_type": "raw",
   "metadata": {
    "id": "e9faf6c0-cca2-4abe-a874-0402898f3687"
   },
   "source": [
    "%%bash\n",
    "\n",
    "TRAINING_ID_TO_DELETE=...\n",
    "\n",
    "curl -sk -X DELETE \\\n",
    "    --header \"Authorization: Bearer $TOKEN\" \\\n",
    "    --header \"Content-Type: application/json\" \\\n",
    "    --header \"Accept: application/json\" \\\n",
    "    \"$DATAPLATFORM_URL/ml/v4/trainings/$TRAINING_ID_TO_DELETE?space_id=$SPACE_ID&version=2020-08-01&hard_delete=true\""
   ]
  },
  {
   "cell_type": "markdown",
   "metadata": {
    "id": "ac022365-8227-4ba6-8e8d-df51a2627acd"
   },
   "source": [
    "<a id=\"deployment_delete\"></a>\n",
    "### Deleting deployment\n",
    "**Tip:** You can delete existing deployment by calling DELETE method."
   ]
  },
  {
   "cell_type": "markdown",
   "metadata": {
    "id": "7401da4c-c245-437b-b5c9-a52cfe67c18c"
   },
   "source": [
    "<a href=\"https://watson-ml-v4-api.mybluemix.net/wml-restapi-cloud.html#/Deployments/deployments_delete\" \n",
    "target=\"_blank\" rel=\"noopener no referrer\">Delete deployment</a>"
   ]
  },
  {
   "cell_type": "raw",
   "metadata": {
    "id": "bc6e2e19-c364-4cc0-8e91-d7f8e05b78de"
   },
   "source": [
    "%%bash\n",
    "\n",
    "curl -sk -X DELETE \\\n",
    "    --header \"Authorization: Bearer $TOKEN\" \\\n",
    "    --header \"Content-Type: application/json\" \\\n",
    "    --header \"Accept: application/json\" \\\n",
    "    \"$DATAPLATFORM_URL/ml/v4/deployments/$DEPLOYMENT_ID?space_id=$SPACE_ID&version=2020-08-01\""
   ]
  },
  {
   "cell_type": "markdown",
   "metadata": {
    "id": "29a6f149-68be-43e5-8d9c-a1bc1d6e6248"
   },
   "source": [
    "<a id=\"model_delete\"></a>\n",
    "### Delete model from repository\n",
    "**Tip:** If you want to completely remove your stored model and model metadata, just use a DELETE method."
   ]
  },
  {
   "cell_type": "markdown",
   "metadata": {
    "id": "d1f399c0-ab08-464c-9584-4aba9b068012"
   },
   "source": [
    "<a href=\"https://watson-ml-v4-api.mybluemix.net/wml-restapi-cloud.html#/Models/models_delete\" \n",
    "target=\"_blank\" rel=\"noopener no referrer\">Delete model from repository</a>"
   ]
  },
  {
   "cell_type": "raw",
   "metadata": {
    "id": "510cb653-8a56-4104-a722-3a0dd1b0004a"
   },
   "source": [
    "%%bash\n",
    "\n",
    "curl -sk -X DELETE \\\n",
    "    --header \"Authorization: Bearer $TOKEN\" \\\n",
    "    --header \"Content-Type: application/json\" \\\n",
    "    \"$DATAPLATFORM_URL/ml/v4/models/$MODEL_ID?space_id=$SPACE_ID&version=2020-08-01\""
   ]
  },
  {
   "cell_type": "markdown",
   "metadata": {
    "id": "4386af99-18c4-4799-82e5-6543741e2bc0"
   },
   "source": [
    "<a id=\"def_delete\"></a>\n",
    "### Delete model definition\n",
    "**Tip:** If you want to completely remove your model definition, just use a DELETE method."
   ]
  },
  {
   "cell_type": "markdown",
   "metadata": {
    "id": "a7927deb-0149-4c1d-81e7-69ddfa5cfe95"
   },
   "source": [
    "<a href=\"https://watson-ml-v4-api.mybluemix.net/wml-restapi-cloud.html#/Model%20Definitions/model_definitions_delete\" \n",
    "target=\"_blank\" rel=\"noopener no referrer\">Delete model definition</a>"
   ]
  },
  {
   "cell_type": "raw",
   "metadata": {
    "id": "2f2ce538-8af6-4b4c-be0f-1db56ad8d5e1"
   },
   "source": [
    "%%bash\n",
    "\n",
    "curl -sk -X DELETE \\\n",
    "    --header \"Authorization: Bearer $TOKEN\" \\\n",
    "    --header \"Content-Type: application/json\" \\\n",
    "    \"$DATAPLATFORM_URL/ml/v4/model_definitions/$MODEL_DEFINITION_ID?space_id=$SPACE_ID&version=2020-08-01\""
   ]
  },
  {
   "cell_type": "markdown",
   "metadata": {
    "id": "e9e4dba2-05cd-48dc-a117-86c286f170fe"
   },
   "source": [
    "<a id=\"summary\"></a>\n",
    "## 7. Summary and next steps\n",
    "\n",
    " You successfully completed this notebook!.\n",
    " \n",
    " You learned how to use `cURL` calls to store, deploy and score a PyTorch Deep Learning model in Watson Machine Learning. "
   ]
  },
  {
   "cell_type": "markdown",
   "metadata": {
    "id": "56ca795d-b92e-47fd-a4e3-8b2df90ef80d"
   },
   "source": [
    "### Authors\n",
    "\n",
    "**Jan Sołtysik**, Intern in Watson Machine Learning at IBM"
   ]
  },
  {
   "cell_type": "markdown",
   "metadata": {
    "id": "60f00b96-0583-47c5-bcab-9ce642e2c58b"
   },
   "source": [
    "Copyright © 2020 IBM. This notebook and its source code are released under the terms of the MIT License."
   ]
  }
 ],
 "metadata": {
  "kernelspec": {
   "display_name": "Python 3.7 + GPU with applications",
   "language": "python",
   "name": "python3"
  },
  "language_info": {
   "codemirror_mode": {
    "name": "ipython",
    "version": 3
   },
   "file_extension": ".py",
   "mimetype": "text/x-python",
   "name": "python",
   "nbconvert_exporter": "python",
   "pygments_lexer": "ipython3",
   "version": "3.7.11"
  }
 },
 "nbformat": 4,
 "nbformat_minor": 4
}
