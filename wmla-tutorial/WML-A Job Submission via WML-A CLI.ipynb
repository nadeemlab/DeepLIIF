{
 "cells": [
  {
   "cell_type": "markdown",
   "metadata": {
    "id": "323c4a86-a69d-4b72-801e-ca3574399fc9"
   },
   "source": [
    "# WML-A Job Submission via WML-A CLI\n",
    "\n",
    "Offical examples can be found here: https://wmla-console-cpd-wmla.apps.datascienceelite.com/ui/#/cliTools"
   ]
  },
  {
   "cell_type": "code",
   "execution_count": null,
   "metadata": {
    "id": "9a0475e8-bcb3-4424-8c39-873935847fc4",
    "tags": []
   },
   "outputs": [],
   "source": [
    "%env DIR=/userfs\n",
    "%env NAMESPACE=cpd-wmla\n",
    "%env HOST=wmla-console-cpd-wmla.apps.cpd.mskcc.org\n",
    "%env BASE_URL=https://cpd-cpd.apps.cpd.mskcc.org"
   ]
  },
  {
   "cell_type": "code",
   "execution_count": null,
   "metadata": {
    "id": "facb489c-de25-498d-81f2-f45f9716a09d",
    "tags": []
   },
   "outputs": [],
   "source": [
    "!du -sh /userfs"
   ]
  },
  {
   "cell_type": "code",
   "execution_count": null,
   "metadata": {
    "id": "a60e747d-1c2b-4d56-a5eb-c7f13ae8b5c7",
    "tags": []
   },
   "outputs": [],
   "source": [
    "!df -h /userfs"
   ]
  },
  {
   "cell_type": "markdown",
   "metadata": {
    "id": "5b383562-c544-48a5-8bc2-89001a46398b"
   },
   "source": [
    "### Submit Jobs\n",
    "#### PyTorch (single GPU or multiple GPUs on one node with multithreading)"
   ]
  },
  {
   "cell_type": "code",
   "execution_count": null,
   "metadata": {
    "id": "b58687a3-7084-416c-a2ac-e1dc3bd2a032",
    "tags": []
   },
   "outputs": [],
   "source": [
    "%env DIR_job_submission=/userfs/job_submission\n",
    "\n",
    "!rm -rf $DIR_job_submission\n",
    "!mkdir -p $DIR_job_submission\n",
    "\n",
    "!cp -r $DIR/deepliif $DIR_job_submission\n",
    "!cp $DIR/cli.py $DIR_job_submission\n",
    "!cp $DIR/train_command.py $DIR_job_submission\n",
    "!cp $DIR/monitor_gpu.sh $DIR_job_submission\n",
    "!cp $DIR/custom_save.py $DIR_job_submission"
   ]
  },
  {
   "cell_type": "code",
   "execution_count": null,
   "metadata": {
    "id": "c35c45d6-49e2-4c08-9b65-006a52ff04a2",
    "tags": []
   },
   "outputs": [],
   "source": [
    "!python dlicmd.py --exec-start PyTorch --rest-host $HOST --rest-port -1 --jwt-token $USER_ACCESS_TOKEN \\\n",
    "                  --msd-env USER_ACCESS_TOKEN=$USER_ACCESS_TOKEN --msd-env BASE_URL=$BASE_URL \\\n",
    "                  --workerDeviceNum 1 --workerMemory 8g \\\n",
    "                  --model-dir $DIR_job_submission --model-main train_command.py \\\n",
    "                  --cs-datastore-meta type=fs,data_path=DeepLIIF_Datasets_Full/"
   ]
  },
  {
   "cell_type": "markdown",
   "metadata": {
    "id": "08726af6-6869-469d-9a1b-67b8af1dbe9c"
   },
   "source": [
    "### Submit Jobs\n",
    "#### distPyTorch (multiprocessing using DDP)"
   ]
  },
  {
   "cell_type": "code",
   "execution_count": null,
   "metadata": {
    "id": "fb7d476a-4793-40c3-987b-316ea42c222c",
    "tags": []
   },
   "outputs": [],
   "source": [
    "%env DIR_job_submission=/userfs/job_submission\n",
    "\n",
    "!rm -rf $DIR_job_submission\n",
    "!mkdir -p $DIR_job_submission\n",
    "\n",
    "!cp -r $DIR/deepliif $DIR_job_submission\n",
    "!cp $DIR/cli.py $DIR_job_submission\n",
    "!cp $DIR/train_command.py $DIR_job_submission\n",
    "!cp $DIR/monitor_gpu.sh $DIR_job_submission\n",
    "!cp $DIR/custom_save.py $DIR_job_submission"
   ]
  },
  {
   "cell_type": "code",
   "execution_count": null,
   "metadata": {
    "id": "651534a9-82d7-492e-9ba6-5b85f93e47b0",
    "tags": []
   },
   "outputs": [],
   "source": [
    "%%writefile /userfs/conf_distPyTorch.py\n",
    "import os\n",
    "import torch.distributed as dist\n",
    "def init_process():\n",
    "    dist.init_process_group(\n",
    "        backend='nccl',\n",
    "        init_method='tcp://' + os.environ['MASTER_ADDR'] + ':' + os.environ['MASTER_PORT'],\n",
    "        rank=int(os.environ['RANK']),\n",
    "        world_size=int(os.environ['WORLD_SIZE']))\n",
    "    \n",
    "print('------ initiate process group... ------')\n",
    "init_process()"
   ]
  },
  {
   "cell_type": "code",
   "execution_count": null,
   "metadata": {
    "id": "fdc36f33-1cee-4dca-9d02-3160ae210a80",
    "tags": []
   },
   "outputs": [],
   "source": [
    "# cat cannot change file in place, so we create a new one and use it to overwrite cli.py\n",
    "!cat /userfs/conf_distPyTorch.py $DIR_job_submission/cli.py > $DIR_job_submission/cli_edited.py\n",
    "!mv $DIR_job_submission/cli_edited.py $DIR_job_submission/cli.py"
   ]
  },
  {
   "cell_type": "code",
   "execution_count": null,
   "metadata": {
    "id": "a90893c6-f5f9-4778-8f85-254a2ce53c96",
    "tags": []
   },
   "outputs": [],
   "source": [
    "!python dlicmd.py --exec-start distPyTorch --rest-host $HOST --rest-port -1 --jwt-token $USER_ACCESS_TOKEN \\\n",
    "                  --msd-env USER_ACCESS_TOKEN=$USER_ACCESS_TOKEN --msd-env BASE_URL=$BASE_URL \\\n",
    "                  --numWorker 1 --workerMemory 8g \\\n",
    "                  --model-dir $DIR_job_submission --model-main train_command.py \\\n",
    "                  --cs-datastore-meta type=fs,data_path=DeepLIIF_Datasets_Full/"
   ]
  },
  {
   "cell_type": "markdown",
   "metadata": {
    "id": "ea48496d-827a-45dd-98d1-40d0ff94a495"
   },
   "source": [
    "Run example code:"
   ]
  },
  {
   "cell_type": "code",
   "execution_count": null,
   "metadata": {
    "id": "67793036-a803-4118-9a4f-64ad819c81f9",
    "tags": []
   },
   "outputs": [],
   "source": [
    "# %env DIR_job_submission=/userfs/job_submission\n",
    "\n",
    "# !rm -rf $DIR_job_submission\n",
    "# !mkdir -p $DIR_job_submission\n",
    "\n",
    "# !cp -r $DIR/wmla-tutorial/pytorch_mnist_dist.py $DIR_job_submission"
   ]
  },
  {
   "cell_type": "code",
   "execution_count": null,
   "metadata": {
    "id": "2d83facd-0042-45f9-85bf-0681c0eebe92",
    "tags": []
   },
   "outputs": [],
   "source": [
    "# !python dlicmd.py --exec-start distPyTorch --rest-host $HOST --rest-port -1 --jwt-token $USER_ACCESS_TOKEN \\\n",
    "#                   --msd-env USER_ACCESS_TOKEN=$USER_ACCESS_TOKEN --msd-env BASE_URL=$BASE_URL \\\n",
    "#                   --numWorker 1 --workerMemory 8g \\\n",
    "#                   --model-dir $DIR_job_submission --model-main pytorch_mnist_dist.py \\"
   ]
  },
  {
   "cell_type": "markdown",
   "metadata": {
    "id": "10ab43f9-45c9-443c-836e-70b8d93201a5"
   },
   "source": [
    "### Delete Jobs (and associated results/logs)\n",
    "#### delete one job"
   ]
  },
  {
   "cell_type": "code",
   "execution_count": null,
   "metadata": {
    "id": "9187399d-98df-4842-ae9f-03d83db495e7",
    "tags": []
   },
   "outputs": [],
   "source": [
    "# !python dlicmd.py --exec-delete $NAMESPACE-38 --rest-host $HOST --rest-port -1 --jwt-token $USER_ACCESS_TOKEN "
   ]
  },
  {
   "cell_type": "markdown",
   "metadata": {
    "id": "6bd3a390-7342-440f-9eab-9f81724edc34"
   },
   "source": [
    "#### delete multiple jobs in a loop"
   ]
  },
  {
   "cell_type": "code",
   "execution_count": null,
   "metadata": {
    "id": "839e4708-ebe6-47e9-824a-7ed55715859f",
    "tags": []
   },
   "outputs": [],
   "source": [
    "for i in range(330,331):\n",
    "    %env i=$i\n",
    "    !python dlicmd.py --exec-delete $NAMESPACE-$i --rest-host $HOST --rest-port -1 --jwt-token $USER_ACCESS_TOKEN "
   ]
  },
  {
   "cell_type": "markdown",
   "metadata": {
    "id": "a87fd618-0d5d-4f7d-b14c-abf160171a63"
   },
   "source": [
    "### Get Job Status"
   ]
  },
  {
   "cell_type": "code",
   "execution_count": null,
   "metadata": {
    "id": "5c1ffd65-e531-4fbc-9cef-7d9d47020d24",
    "tags": []
   },
   "outputs": [],
   "source": [
    "# !python dlicmd.py --exec-get $NAMESPACE-10 --rest-host $HOST --rest-port -1 --jwt-token $USER_ACCESS_TOKEN"
   ]
  },
  {
   "cell_type": "markdown",
   "metadata": {
    "id": "31923da7-9f80-4634-bd8e-4fd99b1ce687"
   },
   "source": [
    "### Get Job Log\n",
    "#### last 10 lines"
   ]
  },
  {
   "cell_type": "code",
   "execution_count": null,
   "metadata": {
    "id": "90b9325a-6aa6-402f-872d-91e2482c5025",
    "tags": []
   },
   "outputs": [],
   "source": [
    "!python dlicmd.py --exec-outlogs $NAMESPACE-341 --rest-host $HOST --rest-port -1 --jwt-token $USER_ACCESS_TOKEN"
   ]
  },
  {
   "cell_type": "markdown",
   "metadata": {
    "id": "2d33b3ca-a56c-4087-86f8-396ce81588a5"
   },
   "source": [
    "#### full log files"
   ]
  },
  {
   "cell_type": "code",
   "execution_count": null,
   "metadata": {
    "id": "a84e3f7e-71f8-402e-89ec-81a2ed43633f",
    "tags": []
   },
   "outputs": [],
   "source": [
    "# !python dlicmd.py --exec-trainerrlogs $NAMESPACE-134 --rest-host $HOST --rest-port -1 --jwt-token $USER_ACCESS_TOKEN"
   ]
  },
  {
   "cell_type": "code",
   "execution_count": null,
   "metadata": {
    "id": "9dddbce0-3334-4bc0-a14c-c8ff8ec4ff30",
    "tags": []
   },
   "outputs": [],
   "source": [
    "# %env FN_LOG=wmla train 20220104 num_threads0,batch_size3,num_workers16,ddp msk.log\n",
    "%env FN_LOG=deterministic training test.log\n",
    "%env DIR_LOG=/userfs/log\n",
    "# %env JOB_ID="
   ]
  },
  {
   "cell_type": "code",
   "execution_count": null,
   "metadata": {
    "id": "7fc41da3-9496-4fe3-882e-f5a47e6bff1b",
    "tags": []
   },
   "outputs": [],
   "source": [
    "!python dlicmd.py --exec-trainoutlogs $NAMESPACE-342 --rest-host $HOST --rest-port -1 --jwt-token $USER_ACCESS_TOKEN > $DIR_LOG/\"$FN_LOG\"\n",
    "!cat $DIR_LOG/\"$FN_LOG\" | grep \\(epoch:"
   ]
  },
  {
   "cell_type": "code",
   "execution_count": null,
   "metadata": {
    "id": "4e906895-0c67-4ee3-a398-302e2e5d1b1e",
    "tags": []
   },
   "outputs": [],
   "source": [
    "!tail -n30 $DIR_LOG/\"$FN_LOG\""
   ]
  },
  {
   "cell_type": "code",
   "execution_count": null,
   "metadata": {
    "id": "93655d6c-7745-43ab-84e8-75e2e958fb29",
    "tags": []
   },
   "outputs": [],
   "source": [
    "!python dlicmd.py --app-outlogs $NAMESPACE-253 --rest-host $HOST --rest-port -1 --jwt-token $USER_ACCESS_TOKEN"
   ]
  },
  {
   "cell_type": "code",
   "execution_count": null,
   "metadata": {
    "id": "f74c832a-ee97-480f-9ff1-b2b79293f5f7"
   },
   "outputs": [],
   "source": []
  }
 ],
 "metadata": {
  "kernelspec": {
   "display_name": "Python 3.8 + GPU",
   "language": "python",
   "name": "python3"
  },
  "language_info": {
   "codemirror_mode": {
    "name": "ipython",
    "version": 3
   },
   "file_extension": ".py",
   "mimetype": "text/x-python",
   "name": "python",
   "nbconvert_exporter": "python",
   "pygments_lexer": "ipython3",
   "version": "3.8.11"
  }
 },
 "nbformat": 4,
 "nbformat_minor": 4
}
