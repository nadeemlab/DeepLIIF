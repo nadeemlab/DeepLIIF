{
 "cells": [
  {
   "cell_type": "markdown",
   "metadata": {
    "id": "323c4a86-a69d-4b72-801e-ca3574399fc9"
   },
   "source": [
    "# WML-A Job Submission via WML-A CLI\n",
    "\n",
    "Offical examples can be found here: https://wmla-console-cpd-wmla.apps.datascienceelite.com/ui/#/cliTools"
   ]
  },
  {
   "cell_type": "code",
   "execution_count": 1,
   "metadata": {
    "id": "9a0475e8-bcb3-4424-8c39-873935847fc4",
    "tags": []
   },
   "outputs": [
    {
     "name": "stdout",
     "output_type": "stream",
     "text": [
      "env: DIR=/userfs\n",
      "env: NAMESPACE=wmla-ns\n",
      "env: HOST=wmla-console-wmla-ns.apps.datascienceelite.com\n",
      "env: BASE_URL=https://daell-wmla.datascienceelite.com\n"
     ]
    }
   ],
   "source": [
    "%env DIR=/userfs\n",
    "%env NAMESPACE=wmla-ns\n",
    "%env HOST=wmla-console-wmla-ns.apps.datascienceelite.com\n",
    "%env BASE_URL=https://daell-wmla.datascienceelite.com"
   ]
  },
  {
   "cell_type": "code",
   "execution_count": 2,
   "metadata": {
    "id": "facb489c-de25-498d-81f2-f45f9716a09d",
    "tags": []
   },
   "outputs": [
    {
     "name": "stdout",
     "output_type": "stream",
     "text": [
      "965M\t/userfs\n"
     ]
    }
   ],
   "source": [
    "!du -sh /userfs"
   ]
  },
  {
   "cell_type": "code",
   "execution_count": 3,
   "metadata": {
    "id": "a60e747d-1c2b-4d56-a5eb-c7f13ae8b5c7",
    "tags": []
   },
   "outputs": [
    {
     "name": "stdout",
     "output_type": "stream",
     "text": [
      "Filesystem                                                                                                                                                Size  Used Avail Use% Mounted on\n",
      "172.30.160.109:6789,172.30.195.80:6789,172.30.12.225:6789:/volumes/csi/csi-vol-0ca97bb7-40ff-11ec-8633-0a580a80040f/123cc037-9b42-4ab8-a00e-6536da440743   30G   26G  4.9G  84% /userfs\n"
     ]
    }
   ],
   "source": [
    "!df -h /userfs"
   ]
  },
  {
   "cell_type": "markdown",
   "metadata": {
    "id": "5b383562-c544-48a5-8bc2-89001a46398b"
   },
   "source": [
    "### Submit Jobs\n",
    "#### PyTorch (single GPU or multiple GPUs on one node with multithreading)"
   ]
  },
  {
   "cell_type": "code",
   "execution_count": 4,
   "metadata": {
    "id": "b58687a3-7084-416c-a2ac-e1dc3bd2a032",
    "tags": []
   },
   "outputs": [
    {
     "name": "stdout",
     "output_type": "stream",
     "text": [
      "env: DIR_job_submission=/userfs/job_submission\n"
     ]
    }
   ],
   "source": [
    "%env DIR_job_submission=/userfs/job_submission\n",
    "\n",
    "!rm -rf $DIR_job_submission\n",
    "!mkdir -p $DIR_job_submission\n",
    "\n",
    "!cp -r $DIR/deepliif $DIR_job_submission\n",
    "!cp $DIR/train.py $DIR_job_submission\n",
    "!cp $DIR/train_command.py $DIR_job_submission\n",
    "!cp $DIR/monitor_gpu.sh $DIR_job_submission\n",
    "!cp $DIR/custom_save.py $DIR_job_submission"
   ]
  },
  {
   "cell_type": "code",
   "execution_count": 16,
   "metadata": {
    "id": "c35c45d6-49e2-4c08-9b65-006a52ff04a2",
    "tags": []
   },
   "outputs": [
    {
     "name": "stdout",
     "output_type": "stream",
     "text": [
      "Copying files and directories ...\n",
      "Content size: 91.7K\n",
      "{\n",
      "  \"execId\": \"wmla-ns-334\",\n",
      "  \"appId\": \"wmla-ns-334\"\n",
      "}\n"
     ]
    }
   ],
   "source": [
    "!python dlicmd.py --exec-start PyTorch --rest-host $HOST --rest-port -1 --jwt-token $USER_ACCESS_TOKEN \\\n",
    "                  --msd-env USER_ACCESS_TOKEN=$USER_ACCESS_TOKEN --msd-env BASE_URL=$BASE_URL \\\n",
    "                  --workerDeviceNum 1 --workerMemory 8g \\\n",
    "                  --model-dir $DIR_job_submission --model-main train_command.py \\\n",
    "                  --cs-datastore-meta type=fs,data_path=DeepLIIF_Datasets_Full/"
   ]
  },
  {
   "cell_type": "markdown",
   "metadata": {
    "id": "08726af6-6869-469d-9a1b-67b8af1dbe9c"
   },
   "source": [
    "### Submit Jobs\n",
    "#### distPyTorch (multiprocessing using DDP)"
   ]
  },
  {
   "cell_type": "code",
   "execution_count": 38,
   "metadata": {
    "id": "fb7d476a-4793-40c3-987b-316ea42c222c",
    "tags": []
   },
   "outputs": [
    {
     "name": "stdout",
     "output_type": "stream",
     "text": [
      "env: DIR_job_submission=/userfs/job_submission\n"
     ]
    }
   ],
   "source": [
    "%env DIR_job_submission=/userfs/job_submission\n",
    "\n",
    "!rm -rf $DIR_job_submission\n",
    "!mkdir -p $DIR_job_submission\n",
    "\n",
    "!cp -r $DIR/deepliif $DIR_job_submission\n",
    "!cp $DIR/train.py $DIR_job_submission\n",
    "!cp $DIR/train_command.py $DIR_job_submission\n",
    "!cp $DIR/monitor_gpu.sh $DIR_job_submission\n",
    "!cp $DIR/custom_save.py $DIR_job_submission"
   ]
  },
  {
   "cell_type": "code",
   "execution_count": 39,
   "metadata": {
    "id": "651534a9-82d7-492e-9ba6-5b85f93e47b0",
    "tags": []
   },
   "outputs": [
    {
     "name": "stdout",
     "output_type": "stream",
     "text": [
      "Overwriting /userfs/conf_distPyTorch.py\n"
     ]
    }
   ],
   "source": [
    "%%writefile /userfs/conf_distPyTorch.py\n",
    "import os\n",
    "import torch.distributed as dist\n",
    "def init_process():\n",
    "    dist.init_process_group(\n",
    "        backend='nccl',\n",
    "        init_method='tcp://' + os.environ['MASTER_ADDR'] + ':' + os.environ['MASTER_PORT'],\n",
    "        rank=int(os.environ['RANK']),\n",
    "        world_size=int(os.environ['WORLD_SIZE']))\n",
    "    \n",
    "print('------ initiate process group... ------')\n",
    "init_process()"
   ]
  },
  {
   "cell_type": "code",
   "execution_count": 40,
   "metadata": {
    "id": "fdc36f33-1cee-4dca-9d02-3160ae210a80",
    "tags": []
   },
   "outputs": [],
   "source": [
    "# cat cannot change file in place, so we create a new one and use it to overwrite train.py\n",
    "!cat /userfs/conf_distPyTorch.py $DIR_job_submission/train.py > $DIR_job_submission/train_edited.py\n",
    "!mv $DIR_job_submission/train_edited.py $DIR_job_submission/train.py"
   ]
  },
  {
   "cell_type": "code",
   "execution_count": 41,
   "metadata": {
    "id": "a90893c6-f5f9-4778-8f85-254a2ce53c96",
    "tags": []
   },
   "outputs": [
    {
     "name": "stdout",
     "output_type": "stream",
     "text": [
      "Copying files and directories ...\n",
      "Content size: 92.0K\n",
      "{\n",
      "  \"execId\": \"wmla-ns-351\",\n",
      "  \"appId\": \"wmla-ns-351\"\n",
      "}\n"
     ]
    }
   ],
   "source": [
    "!python dlicmd.py --exec-start distPyTorch --rest-host $HOST --rest-port -1 --jwt-token $USER_ACCESS_TOKEN \\\n",
    "                  --msd-env USER_ACCESS_TOKEN=$USER_ACCESS_TOKEN --msd-env BASE_URL=$BASE_URL \\\n",
    "                  --numWorker 1 --workerMemory 8g \\\n",
    "                  --model-dir $DIR_job_submission --model-main train_command.py \\\n",
    "                  --cs-datastore-meta type=fs,data_path=DeepLIIF_Datasets_Full/"
   ]
  },
  {
   "cell_type": "markdown",
   "metadata": {
    "id": "ea48496d-827a-45dd-98d1-40d0ff94a495"
   },
   "source": [
    "Run example code:"
   ]
  },
  {
   "cell_type": "code",
   "execution_count": null,
   "metadata": {
    "id": "67793036-a803-4118-9a4f-64ad819c81f9",
    "tags": []
   },
   "outputs": [],
   "source": [
    "# %env DIR_job_submission=/userfs/job_submission\n",
    "\n",
    "# !rm -rf $DIR_job_submission\n",
    "# !mkdir -p $DIR_job_submission\n",
    "\n",
    "# !cp -r $DIR/wmla-tutorial/pytorch_mnist_dist.py $DIR_job_submission"
   ]
  },
  {
   "cell_type": "code",
   "execution_count": null,
   "metadata": {
    "id": "2d83facd-0042-45f9-85bf-0681c0eebe92",
    "tags": []
   },
   "outputs": [],
   "source": [
    "# !python dlicmd.py --exec-start distPyTorch --rest-host $HOST --rest-port -1 --jwt-token $USER_ACCESS_TOKEN \\\n",
    "#                   --msd-env USER_ACCESS_TOKEN=$USER_ACCESS_TOKEN --msd-env BASE_URL=$BASE_URL \\\n",
    "#                   --numWorker 1 --workerMemory 8g \\\n",
    "#                   --model-dir $DIR_job_submission --model-main pytorch_mnist_dist.py \\"
   ]
  },
  {
   "cell_type": "markdown",
   "metadata": {
    "id": "10ab43f9-45c9-443c-836e-70b8d93201a5"
   },
   "source": [
    "### Delete Jobs (and associated results/logs)\n",
    "#### delete one job"
   ]
  },
  {
   "cell_type": "code",
   "execution_count": null,
   "metadata": {
    "id": "9187399d-98df-4842-ae9f-03d83db495e7",
    "tags": []
   },
   "outputs": [],
   "source": [
    "# !python dlicmd.py --exec-delete $NAMESPACE-38 --rest-host $HOST --rest-port -1 --jwt-token $USER_ACCESS_TOKEN "
   ]
  },
  {
   "cell_type": "markdown",
   "metadata": {
    "id": "6bd3a390-7342-440f-9eab-9f81724edc34"
   },
   "source": [
    "#### delete multiple jobs in a loop"
   ]
  },
  {
   "cell_type": "code",
   "execution_count": 11,
   "metadata": {
    "id": "839e4708-ebe6-47e9-824a-7ed55715859f",
    "tags": []
   },
   "outputs": [
    {
     "name": "stdout",
     "output_type": "stream",
     "text": [
      "env: i=330\n",
      "Delete exec wmla-ns-330 succeed. HTTP:204 \n"
     ]
    }
   ],
   "source": [
    "for i in range(330,331):\n",
    "    %env i=$i\n",
    "    !python dlicmd.py --exec-delete $NAMESPACE-$i --rest-host $HOST --rest-port -1 --jwt-token $USER_ACCESS_TOKEN "
   ]
  },
  {
   "cell_type": "markdown",
   "metadata": {
    "id": "a87fd618-0d5d-4f7d-b14c-abf160171a63"
   },
   "source": [
    "### Get Job Status"
   ]
  },
  {
   "cell_type": "code",
   "execution_count": null,
   "metadata": {
    "id": "5c1ffd65-e531-4fbc-9cef-7d9d47020d24",
    "tags": []
   },
   "outputs": [],
   "source": [
    "# !python dlicmd.py --exec-get $NAMESPACE-10 --rest-host $HOST --rest-port -1 --jwt-token $USER_ACCESS_TOKEN"
   ]
  },
  {
   "cell_type": "markdown",
   "metadata": {
    "id": "31923da7-9f80-4634-bd8e-4fd99b1ce687"
   },
   "source": [
    "### Get Job Log\n",
    "#### last 10 lines"
   ]
  },
  {
   "cell_type": "code",
   "execution_count": 16,
   "metadata": {
    "id": "90b9325a-6aa6-402f-872d-91e2482c5025",
    "tags": []
   },
   "outputs": [
    {
     "name": "stdout",
     "output_type": "stream",
     "text": [
      "================================================================================\n",
      "Executor 1 stdout\n",
      "*Task <1> SubProcess*: |  GPU   GI   CI        PID   Type   Process name                  GPU Memory |\n",
      "*Task <1> SubProcess*: |        ID   ID                                                   Usage      |\n",
      "*Task <1> SubProcess*: |=============================================================================|\n",
      "*Task <1> SubProcess*: |  No running processes found                                                 |\n",
      "*Task <1> SubProcess*: +-----------------------------------------------------------------------------+\n",
      "*Task <1> SubProcess*: 2022-01-10 17:57:45.312919 39 INFO NVIDIA_VISIBLE_DEVICES=GPU-8de3e9b9-4954-d73e-7705-14111d08c685\n",
      "*Task <1> SubProcess*: 2022-01-10 17:57:45.327400 39 INFO NVIDIA_DRIVER_CAPABILITIES=compute,utility\n",
      "*Task <1> SubProcess*: 2022-01-10 17:57:45.358698 39 INFO DATA_SOURCE_RESERVE=false\n",
      "*Task <1> SubProcess*: 2022-01-10 17:57:45.371814 39 INFO Clean up data source\n",
      "*Task <1> SubProcess*: 2022-01-10 17:57:45.391655 39 INFO Command exit with 0\n",
      "\n",
      "\n",
      "================================================================================\n",
      "Executor 2 stdout\n",
      "*Task <2> SubProcess*: |  GPU   GI   CI        PID   Type   Process name                  GPU Memory |\n",
      "*Task <2> SubProcess*: |        ID   ID                                                   Usage      |\n",
      "*Task <2> SubProcess*: |=============================================================================|\n",
      "*Task <2> SubProcess*: |  No running processes found                                                 |\n",
      "*Task <2> SubProcess*: +-----------------------------------------------------------------------------+\n",
      "*Task <2> SubProcess*: 2022-01-10 17:57:45.354179 37 INFO NVIDIA_VISIBLE_DEVICES=GPU-007e4b90-345b-a255-361e-d5c2114c4d4c\n",
      "*Task <2> SubProcess*: 2022-01-10 17:57:45.368431 37 INFO NVIDIA_DRIVER_CAPABILITIES=compute,utility\n",
      "*Task <2> SubProcess*: 2022-01-10 17:57:45.395378 37 INFO DATA_SOURCE_RESERVE=false\n",
      "*Task <2> SubProcess*: 2022-01-10 17:57:45.412018 37 INFO Clean up data source\n",
      "*Task <2> SubProcess*: 2022-01-10 17:57:45.431869 37 INFO Command exit with 0\n",
      "\n",
      "\n"
     ]
    }
   ],
   "source": [
    "!python dlicmd.py --exec-outlogs $NAMESPACE-341 --rest-host $HOST --rest-port -1 --jwt-token $USER_ACCESS_TOKEN"
   ]
  },
  {
   "cell_type": "markdown",
   "metadata": {
    "id": "2d33b3ca-a56c-4087-86f8-396ce81588a5"
   },
   "source": [
    "#### full log files"
   ]
  },
  {
   "cell_type": "code",
   "execution_count": null,
   "metadata": {
    "id": "a84e3f7e-71f8-402e-89ec-81a2ed43633f",
    "tags": []
   },
   "outputs": [],
   "source": [
    "# !python dlicmd.py --exec-trainerrlogs $NAMESPACE-134 --rest-host $HOST --rest-port -1 --jwt-token $USER_ACCESS_TOKEN"
   ]
  },
  {
   "cell_type": "code",
   "execution_count": 24,
   "metadata": {
    "id": "9dddbce0-3334-4bc0-a14c-c8ff8ec4ff30",
    "tags": []
   },
   "outputs": [
    {
     "name": "stdout",
     "output_type": "stream",
     "text": [
      "env: FN_LOG=deterministic training test.log\n",
      "env: DIR_LOG=/userfs/log\n"
     ]
    }
   ],
   "source": [
    "# %env FN_LOG=wmla train 20220104 num_threads0,batch_size3,num_workers16,ddp msk.log\n",
    "%env FN_LOG=deterministic training test.log\n",
    "%env DIR_LOG=/userfs/log\n",
    "# %env JOB_ID="
   ]
  },
  {
   "cell_type": "code",
   "execution_count": 30,
   "metadata": {
    "id": "7fc41da3-9496-4fe3-882e-f5a47e6bff1b",
    "tags": []
   },
   "outputs": [
    {
     "name": "stdout",
     "output_type": "stream",
     "text": [
      "(epoch: 0, iters: 100, time: 1.771, data: 0.186) G_GAN_1: 1.364 G_L1_1: 1.684 D_real_1: 0.467 D_fake_1: 0.663 G_GAN_2: 0.856 G_L1_2: 1.548 D_real_2: 0.965 D_fake_2: 0.520 G_GAN_3: 1.087 G_L1_3: 1.151 D_real_3: 0.556 D_fake_3: 0.500 G_GAN_4: 1.198 G_L1_4: 0.667 D_real_4: 0.628 D_fake_4: 0.695 G_GAN_5: 1.052 G_L1_5: 16.801 D_real_5: 0.099 D_fake_5: 0.109 \n",
      "(epoch: 0, iters: 100, time: 1.783, data: 0.089) G_GAN_1: 1.082 G_L1_1: 1.503 D_real_1: 0.627 D_fake_1: 0.791 G_GAN_2: 0.949 G_L1_2: 1.917 D_real_2: 0.659 D_fake_2: 0.523 G_GAN_3: 0.649 G_L1_3: 0.783 D_real_3: 0.877 D_fake_3: 0.452 G_GAN_4: 0.984 G_L1_4: 0.287 D_real_4: 0.570 D_fake_4: 0.880 G_GAN_5: 1.076 G_L1_5: 20.065 D_real_5: 0.236 D_fake_5: 0.235 \n"
     ]
    }
   ],
   "source": [
    "!python dlicmd.py --exec-trainoutlogs $NAMESPACE-342 --rest-host $HOST --rest-port -1 --jwt-token $USER_ACCESS_TOKEN > $DIR_LOG/\"$FN_LOG\"\n",
    "!cat $DIR_LOG/\"$FN_LOG\" | grep \\(epoch:"
   ]
  },
  {
   "cell_type": "code",
   "execution_count": 15,
   "metadata": {
    "id": "4e906895-0c67-4ee3-a398-302e2e5d1b1e",
    "tags": []
   },
   "outputs": [
    {
     "name": "stdout",
     "output_type": "stream",
     "text": [
      "Error 400: Cannot find exec id $NAMESPACE-341.\n",
      "\n"
     ]
    }
   ],
   "source": [
    "!tail -n30 $DIR_LOG/\"$FN_LOG\""
   ]
  },
  {
   "cell_type": "code",
   "execution_count": null,
   "metadata": {
    "id": "93655d6c-7745-43ab-84e8-75e2e958fb29",
    "tags": []
   },
   "outputs": [],
   "source": [
    "!python dlicmd.py --app-outlogs $NAMESPACE-253 --rest-host $HOST --rest-port -1 --jwt-token $USER_ACCESS_TOKEN"
   ]
  },
  {
   "cell_type": "code",
   "execution_count": null,
   "metadata": {
    "id": "f74c832a-ee97-480f-9ff1-b2b79293f5f7"
   },
   "outputs": [],
   "source": []
  }
 ],
 "metadata": {
  "kernelspec": {
   "display_name": "Python 3.8",
   "language": "python",
   "name": "python3"
  },
  "language_info": {
   "codemirror_mode": {
    "name": "ipython",
    "version": 3
   },
   "file_extension": ".py",
   "mimetype": "text/x-python",
   "name": "python",
   "nbconvert_exporter": "python",
   "pygments_lexer": "ipython3",
   "version": "3.8.11"
  }
 },
 "nbformat": 4,
 "nbformat_minor": 4
}
