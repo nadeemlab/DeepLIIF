{
 "cells": [
  {
   "cell_type": "markdown",
   "metadata": {
    "id": "91c9983c-d210-41ac-b78b-64f56d3e5094"
   },
   "source": [
    "# Use PyTorch to recognize hand-written digits with Watson Machine Learning REST API"
   ]
  },
  {
   "cell_type": "markdown",
   "metadata": {
    "id": "d19868db-7042-4303-b55e-255f2dce5576"
   },
   "source": [
    "This notebook contains steps and code to demonstrate support of PyTorch Deep Learning experiments in Watson Machine Learning Service. It introduces commands for getting data, training experiments, persisting pipelines, publishing models, deploying models and scoring.\n",
    "\n",
    "Some familiarity with cURL is helpful. This notebook uses cURL examples.\n",
    "\n",
    "\n",
    "## Learning goals\n",
    "\n",
    "The learning goals of this notebook are:\n",
    "\n",
    "-  Working with Watson Machine Learning experiments to train Deep Learning models.\n",
    "-  Downloading computed models to local storage.\n",
    "-  Online deployment and scoring of trained model.\n",
    "\n",
    "\n",
    "## Contents\n",
    "\n",
    "This notebook contains the following parts:\n",
    "\n",
    "1.\t[Setup](#setup)   \n",
    "2.  [Model definition](#model_definition)  \n",
    "3.\t[Experiment Run](#run)  \n",
    "4.\t[Historical runs](#runs)  \n",
    "5.\t[Deploy and Score](#deploy_and_score)  \n",
    "6.\t[Cleaning](#cleaning)   \n",
    "7.\t[Summary and next steps](#summary)"
   ]
  },
  {
   "cell_type": "markdown",
   "metadata": {
    "id": "5ce6fae5-7a6d-409d-915f-d44831c50d77"
   },
   "source": [
    "<a id=\"setup\"></a>\n",
    "## 1. Set up the environment\n",
    "\n",
    "Before you use the sample code in this notebook, you must perform the following setup tasks:\n",
    "\n",
    "-  Contact with your Cloud Pack for Data administrator and ask him for your account credentials"
   ]
  },
  {
   "cell_type": "markdown",
   "metadata": {
    "id": "cf547695-04d8-4d2f-a700-fa01829871c2"
   },
   "source": [
    "### Connection to WML\n",
    "\n",
    "Authenticate the Watson Machine Learning service on IBM Cloud Pack for Data. You need to provide platform `url`, your `username` and `api_key`."
   ]
  },
  {
   "cell_type": "code",
   "execution_count": null,
   "metadata": {
    "id": "173b8d2c-b4df-49c5-9617-33922f52e42f"
   },
   "outputs": [],
   "source": [
    "%env USERNAME=\n",
    "%env API_KEY=\n",
    "%env RUNTIME_ENV_APSX_URL=\n",
    "\n",
    "%env SPACE_ID="
   ]
  },
  {
   "cell_type": "markdown",
   "metadata": {
    "id": "3d00d384-6d9e-4b19-9bc0-911c2a8d0da7"
   },
   "source": [
    "<a id=\"wml_token\"></a>\n",
    "### Getting WML authorization token for further cURL calls"
   ]
  },
  {
   "cell_type": "markdown",
   "metadata": {
    "id": "640cc5d3-5c5d-4178-8866-ac36156de513"
   },
   "source": [
    "<a href=\"https://cloud.ibm.com/docs/cloud-object-storage?topic=cloud-object-storage-curl#curl-token\" target=\"_blank\" rel=\"noopener no referrer\">Example of cURL call to get WML token</a>"
   ]
  },
  {
   "cell_type": "markdown",
   "metadata": {
    "id": "0275a3f9-a047-4bd2-a8b4-5296f45f0dca"
   },
   "source": [
    "<a id=\"space_creation\"></a>\n",
    "### Space creation\n",
    "**Tip:** If you do not have `space` already created, please convert below three cells to `code` and run them.\n",
    "\n",
    "First of all, you need to create a `space` that will be used in all of your further cURL calls. \n",
    "If you do not have `space` already created, below is the cURL call to create one."
   ]
  },
  {
   "cell_type": "markdown",
   "metadata": {
    "id": "18146035-387a-4290-a254-495a3f85944e"
   },
   "source": [
    "<a href=\"https://cpd-spaces-api.eu-gb.cf.appdomain.cloud/#/Spaces/spaces_create\" \n",
    "target=\"_blank\" rel=\"noopener no referrer\">Space creation</a>"
   ]
  },
  {
   "cell_type": "markdown",
   "metadata": {
    "id": "752f6247-8f9a-4037-b0e0-c6bd896a8b76"
   },
   "source": [
    "<a href=\"https://cpd-spaces-api.eu-gb.cf.appdomain.cloud/#/Spaces/spaces_get\" \n",
    "target=\"_blank\" rel=\"noopener no referrer\">Get space information</a>"
   ]
  },
  {
   "cell_type": "code",
   "execution_count": 33,
   "metadata": {
    "id": "8c4d96ff-a76e-4617-93ba-c8f52414b858",
    "tags": []
   },
   "outputs": [
    {
     "name": "stdout",
     "output_type": "stream",
     "text": [
      "env: SPACE_ID=ddd3bbfc-1ab8-4e6b-ac97-0dc60764ad51\n"
     ]
    }
   ],
   "source": [
    "%env SPACE_ID=ddd3bbfc-1ab8-4e6b-ac97-0dc60764ad51"
   ]
  },
  {
   "cell_type": "code",
   "execution_count": 38,
   "metadata": {
    "id": "e795d1e5-7625-4313-890f-c5214b0daf8b",
    "tags": []
   },
   "outputs": [
    {
     "name": "stdout",
     "output_type": "stream",
     "text": [
      "{\n",
      "  \"entity\": {\n",
      "    \"compute\": [{\n",
      "      \"crn\": \"crn:v1:cpd:private:pm-20:private:a/cpduser:99999999-9999-9999-9999-999999999999::\",\n",
      "      \"guid\": \"99999999-9999-9999-9999-999999999999\",\n",
      "      \"name\": \"Watson Machine Learning\",\n",
      "      \"type\": \"machine_learning\"\n",
      "    }],\n",
      "    \"name\": \"MSK Test Space Wendy\",\n",
      "    \"scope\": {\n",
      "      \"bss_account_id\": \"cpdaccount\"\n",
      "    },\n",
      "    \"status\": {\n",
      "      \"state\": \"active\"\n",
      "    }\n",
      "  },\n",
      "  \"metadata\": {\n",
      "    \"created_at\": \"2021-12-03T04:23:07.704Z\",\n",
      "    \"creator_id\": \"1000331002\",\n",
      "    \"id\": \"ddd3bbfc-1ab8-4e6b-ac97-0dc60764ad51\",\n",
      "    \"updated_at\": \"2021-12-03T04:23:14.447Z\",\n",
      "    \"url\": \"/v2/spaces/ddd3bbfc-1ab8-4e6b-ac97-0dc60764ad51\"\n",
      "  }\n",
      "}"
     ]
    }
   ],
   "source": [
    "%%bash\n",
    "\n",
    "curl -sk -X GET \\\n",
    "    --header \"Authorization: Bearer $USER_ACCESS_TOKEN\" \\\n",
    "    --header \"Content-Type: application/json\" \\\n",
    "    --header \"Accept: application/json\" \\\n",
    "    \"$RUNTIME_ENV_APSX_URL/v2/spaces/$SPACE_ID\""
   ]
  },
  {
   "cell_type": "markdown",
   "metadata": {
    "id": "6a5dd777-bf1f-4485-bedc-c5d70ff16e0a"
   },
   "source": [
    "<a id=\"model_definition\"></a>\n",
    "## 2. Model definition \n",
    "\n",
    "This section provides samples about how to store model definition via cURL calls."
   ]
  },
  {
   "cell_type": "markdown",
   "metadata": {
    "id": "17c19c08-b107-40db-a926-6f860622c69d"
   },
   "source": [
    "<a href=\"https://watson-ml-v4-api.mybluemix.net/wml-restapi-cloud.html#/Model%20Definitions/model_definitions_create\" \n",
    "target=\"_blank\" rel=\"noopener no referrer\">Store a model definition for Deep Learning experiment</a>"
   ]
  },
  {
   "cell_type": "code",
   "execution_count": 41,
   "metadata": {
    "id": "c5b6119a-ada5-4986-a23d-b868ad47e7b5",
    "tags": []
   },
   "outputs": [],
   "source": [
    "%%bash --out model_definition_payload\n",
    "\n",
    "MODEL_DEFINITION_PAYLOAD='{\"name\": \"PyTorch Hand-written Digit Recognition\", \"space_id\": \"'\"$SPACE_ID\"'\", \"description\": \"PyTorch Hand-written Digit Recognition\", \"tags\": [\"DL\", \"PyTorch\"], \"version\": \"v1\", \"platform\": {\"name\": \"python\", \"versions\": [\"3.8\"]}, \"command\": \"pytorch_v_1.1_mnist_onnx.py --epochs 10 --debug-level debug\"}'\n",
    "echo $MODEL_DEFINITION_PAYLOAD | python -m json.tool"
   ]
  },
  {
   "cell_type": "code",
   "execution_count": 42,
   "metadata": {
    "id": "958b1329-299b-4386-a4dc-3336a3b3dd7d",
    "tags": []
   },
   "outputs": [
    {
     "name": "stdout",
     "output_type": "stream",
     "text": [
      "env: MODEL_DEFINITION_PAYLOAD={\n",
      "    \"name\": \"PyTorch Hand-written Digit Recognition\",\n",
      "    \"space_id\": \"ddd3bbfc-1ab8-4e6b-ac97-0dc60764ad51\",\n",
      "    \"description\": \"PyTorch Hand-written Digit Recognition\",\n",
      "    \"tags\": [\n",
      "        \"DL\",\n",
      "        \"PyTorch\"\n",
      "    ],\n",
      "    \"version\": \"v1\",\n",
      "    \"platform\": {\n",
      "        \"name\": \"python\",\n",
      "        \"versions\": [\n",
      "            \"3.8\"\n",
      "        ]\n",
      "    },\n",
      "    \"command\": \"pytorch_v_1.1_mnist_onnx.py --epochs 10 --debug-level debug\"\n",
      "}\n"
     ]
    }
   ],
   "source": [
    "%env MODEL_DEFINITION_PAYLOAD=$model_definition_payload"
   ]
  },
  {
   "cell_type": "code",
   "execution_count": 43,
   "metadata": {
    "id": "412c49d1-0ee7-4ffd-bd6d-8575b9d3181f",
    "tags": []
   },
   "outputs": [
    {
     "name": "stdout",
     "output_type": "stream",
     "text": [
      "{ \"name\": \"PyTorch Hand-written Digit Recognition\", \"space_id\": \"ddd3bbfc-1ab8-4e6b-ac97-0dc60764ad51\", \"description\": \"PyTorch Hand-written Digit Recognition\", \"tags\": [ \"DL\", \"PyTorch\" ], \"version\": \"v1\", \"platform\": { \"name\": \"python\", \"versions\": [ \"3.8\" ] }, \"command\": \"pytorch_v_1.1_mnist_onnx.py --epochs 10 --debug-level debug\" }\n"
     ]
    }
   ],
   "source": [
    "!echo $MODEL_DEFINITION_PAYLOAD"
   ]
  },
  {
   "cell_type": "code",
   "execution_count": 51,
   "metadata": {
    "id": "65bd21a2-937d-442d-b247-93eff885cc05",
    "tags": []
   },
   "outputs": [],
   "source": [
    "%%bash --out model_definition_id\n",
    "\n",
    "curl -sk -X POST \\\n",
    "    --header \"Authorization: Bearer $USER_ACCESS_TOKEN\" \\\n",
    "    --header \"Content-Type: application/json\" \\\n",
    "    --header \"Accept: application/json\" \\\n",
    "    --data \"$MODEL_DEFINITION_PAYLOAD\" \\\n",
    "    \"$RUNTIME_ENV_APSX_URL/ml/v4/model_definitions?version=2021-05-01\"| grep '\"id\": ' | awk -F '\"' '{ print $4 }'"
   ]
  },
  {
   "cell_type": "code",
   "execution_count": 50,
   "metadata": {
    "id": "72b19abe-44e3-4942-9c20-8393d479c219",
    "tags": []
   },
   "outputs": [
    {
     "name": "stdout",
     "output_type": "stream",
     "text": [
      "{\n",
      "  \"entity\": {\n",
      "    \"command\": \"pytorch_v_1.1_mnist_onnx.py --epochs 10 --debug-level debug\",\n",
      "    \"platform\": {\n",
      "      \"name\": \"python\",\n",
      "      \"versions\": [\"3.8\"]\n",
      "    },\n",
      "    \"version\": \"v1\"\n",
      "  },\n",
      "  \"metadata\": {\n",
      "    \"created_at\": \"2021-12-04T16:45:30.700Z\",\n",
      "    \"description\": \"PyTorch Hand-written Digit Recognition\",\n",
      "    \"id\": \"1793abdb-06e3-47c5-84f5-337cd66810f9\",\n",
      "    \"modified_at\": \"2021-12-04T16:45:30.700Z\",\n",
      "    \"name\": \"PyTorch Hand-written Digit Recognition\",\n",
      "    \"owner\": \"1000331002\",\n",
      "    \"space_id\": \"ddd3bbfc-1ab8-4e6b-ac97-0dc60764ad51\",\n",
      "    \"tags\": [\"DL\", \"PyTorch\"]\n",
      "  },\n",
      "  \"system\": {\n",
      "    \"warnings\": []\n",
      "  }\n",
      "}"
     ]
    }
   ],
   "source": [
    "!curl -k -X POST \\\n",
    "    --header \"Authorization: Bearer $USER_ACCESS_TOKEN\" \\\n",
    "    --header \"Content-Type: application/json\" \\\n",
    "    --header \"Accept: application/json\" \\\n",
    "    --data \"$MODEL_DEFINITION_PAYLOAD\" \\\n",
    "    \"$RUNTIME_ENV_APSX_URL/ml/v4/model_definitions?version=2021-05-01\""
   ]
  },
  {
   "cell_type": "code",
   "execution_count": 52,
   "metadata": {
    "id": "d5592773-fc4b-4332-bcf7-20ca2352559b",
    "tags": []
   },
   "outputs": [
    {
     "name": "stdout",
     "output_type": "stream",
     "text": [
      "env: MODEL_DEFINITION_ID=73ba95f9-7c8c-451a-9034-3466f3dc202c\n"
     ]
    }
   ],
   "source": [
    "%env MODEL_DEFINITION_ID=$model_definition_id"
   ]
  },
  {
   "cell_type": "markdown",
   "metadata": {
    "id": "a78a8c99-b42b-4ed3-8fba-9e959aae4cfb"
   },
   "source": [
    "<a id=\"model_preparation\"></a>\n",
    "### Model preparation\n",
    "\n",
    "Download files with pytorch code. You can either download it via link below or run the cell below the link."
   ]
  },
  {
   "cell_type": "markdown",
   "metadata": {
    "id": "1477c395-b275-4e75-8f39-6826c2f27be0"
   },
   "source": [
    "<a href=\"https://github.com/IBM/watson-machine-learning-samples/raw/master/cpd4.0/definitions/pytorch/mnist/pytorch-onnx_v1_3.zip\" \n",
    "target=\"_blank\" rel=\"noopener no referrer\">Download pytorch-model.zip</a>"
   ]
  },
  {
   "cell_type": "code",
   "execution_count": 9,
   "metadata": {
    "id": "d6f7b686-1c6e-4112-a2fb-5b5580411876",
    "tags": []
   },
   "outputs": [
    {
     "name": "stderr",
     "output_type": "stream",
     "text": [
      "--2021-12-04 03:03:27--  https://github.com/IBM/watson-machine-learning-samples/raw/master/cpd4.0/definitions/pytorch/mnist/pytorch_onnx_v1_3.zip\n",
      "Resolving github.com (github.com)... 140.82.112.3\n",
      "Connecting to github.com (github.com)|140.82.112.3|:443... connected.\n",
      "HTTP request sent, awaiting response... 302 Found\n",
      "Location: https://raw.githubusercontent.com/IBM/watson-machine-learning-samples/master/cpd4.0/definitions/pytorch/mnist/pytorch_onnx_v1_3.zip [following]\n",
      "--2021-12-04 03:03:27--  https://raw.githubusercontent.com/IBM/watson-machine-learning-samples/master/cpd4.0/definitions/pytorch/mnist/pytorch_onnx_v1_3.zip\n",
      "Resolving raw.githubusercontent.com (raw.githubusercontent.com)... 185.199.108.133, 185.199.110.133, 185.199.111.133, ...\n",
      "Connecting to raw.githubusercontent.com (raw.githubusercontent.com)|185.199.108.133|:443... connected.\n",
      "HTTP request sent, awaiting response... 200 OK\n",
      "Length: 4061 (4.0K) [application/zip]\n",
      "Saving to: ‘pytorch-onnx_v1_3.zip’\n",
      "\n",
      "     0K ...                                                   100% 24.0M=0s\n",
      "\n",
      "2021-12-04 03:03:27 (24.0 MB/s) - ‘pytorch-onnx_v1_3.zip’ saved [4061/4061]\n",
      "\n"
     ]
    }
   ],
   "source": [
    "%%bash\n",
    "\n",
    "wget https://github.com/IBM/watson-machine-learning-samples/raw/master/cpd4.0/definitions/pytorch/mnist/pytorch_onnx_v1_3.zip \\\n",
    "     -O pytorch-onnx_v1_3.zip"
   ]
  },
  {
   "cell_type": "markdown",
   "metadata": {
    "id": "d2c08a48-3723-4dcf-b3ae-5f21c00d73b0"
   },
   "source": [
    "**Tip**: Convert below cell to code and run it to see model deinition's code."
   ]
  },
  {
   "cell_type": "code",
   "execution_count": 53,
   "metadata": {
    "id": "679d4348-fdc3-487f-888e-41379223cc1c",
    "tags": []
   },
   "outputs": [
    {
     "name": "stdout",
     "output_type": "stream",
     "text": [
      "from __future__ import print_function\n",
      "import argparse\n",
      "import torch\n",
      "import torch.nn as nn\n",
      "import torch.nn.functional as F\n",
      "import torch.optim as optim\n",
      "from torchvision import datasets, transforms\n",
      "import os\n",
      "from emetrics import EMetrics\n",
      "import torch.onnx\n",
      "\n",
      "\n",
      "class Net(nn.Module):\n",
      "    def __init__(self):\n",
      "        super(Net, self).__init__()\n",
      "        self.conv1 = nn.Conv2d(1, 20, 5, 1)\n",
      "        self.conv2 = nn.Conv2d(20, 50, 5, 1)\n",
      "        self.fc1 = nn.Linear(4*4*50, 500)\n",
      "        self.fc2 = nn.Linear(500, 10)\n",
      "\n",
      "    def forward(self, x):\n",
      "        x = F.relu(self.conv1(x))\n",
      "        x = F.max_pool2d(x, 2, 2)\n",
      "        x = F.relu(self.conv2(x))\n",
      "        x = F.max_pool2d(x, 2, 2)\n",
      "        x = x.view(-1, 4*4*50)\n",
      "        x = F.relu(self.fc1(x))\n",
      "        x = self.fc2(x)\n",
      "        return F.softmax(x, dim=1)\n",
      "\n",
      "def train(args, model, device, train_loader, optimizer, epoch):\n",
      "    model.train()\n",
      "    for batch_idx, (data, target) in enumerate(train_loader):\n",
      "        data, target = data.to(device), target.to(device)\n",
      "        optimizer.zero_grad()\n",
      "        output = model(data)\n",
      "        loss = F.nll_loss(output, target)\n",
      "        loss.backward()\n",
      "        optimizer.step()\n",
      "        if batch_idx % args.log_interval == 0:\n",
      "            print('Train Epoch: {} [{}/{} ({:.0f}%)]\\tLoss: {:.6f}'.format(\n",
      "                epoch, batch_idx * len(data), len(train_loader.dataset),\n",
      "                       100. * batch_idx / len(train_loader), loss.item()))\n",
      "\n",
      "def test(args, model, device, test_loader, epoch, em):\n",
      "    model.eval()\n",
      "    test_loss = 0\n",
      "    correct = 0\n",
      "    with torch.no_grad():\n",
      "        for data, target in test_loader:\n",
      "            data, target = data.to(device), target.to(device)\n",
      "            output = model(data)\n",
      "            test_loss += F.nll_loss(output, target, reduction='sum').item() # sum up batch loss\n",
      "            pred = output.argmax(dim=1, keepdim=True) # get the index of the max log-probability\n",
      "            correct += pred.eq(target.view_as(pred)).sum().item()\n",
      "\n",
      "    test_loss /= len(test_loader.dataset)\n",
      "    accuracy = 100. * correct / len(test_loader.dataset)\n",
      "\n",
      "    print('\\nTest set: Average loss: {:.4f}, Accuracy: {}/{} ({:.0f}%)\\n'.format(\n",
      "        test_loss, correct, len(test_loader.dataset),\n",
      "        100. * correct / len(test_loader.dataset)))\n",
      "\n",
      "    em.record(EMetrics.TEST_GROUP,epoch,{'loss': test_loss, 'accuracy': accuracy})\n",
      "\n",
      "def main():\n",
      "    # Training settings\n",
      "    parser = argparse.ArgumentParser(description='PyTorch MNIST Example')\n",
      "    parser.add_argument('--batch-size', type=int, default=64, metavar='N',\n",
      "                        help='input batch size for training (default: 64)')\n",
      "    parser.add_argument('--test-batch-size', type=int, default=1000, metavar='N',\n",
      "                        help='input batch size for testing (default: 1000)')\n",
      "    parser.add_argument('--epochs', type=int, default=10, metavar='N',\n",
      "                        help='number of epochs to train (default: 10)')\n",
      "    parser.add_argument('--lr', type=float, default=0.01, metavar='LR',\n",
      "                        help='learning rate (default: 0.01)')\n",
      "    parser.add_argument('--momentum', type=float, default=0.5, metavar='M',\n",
      "                        help='SGD momentum (default: 0.5)')\n",
      "    parser.add_argument('--no-cuda', action='store_true', default=False,\n",
      "                        help='disables CUDA training')\n",
      "    parser.add_argument('--seed', type=int, default=1, metavar='S',\n",
      "                        help='random seed (default: 1)')\n",
      "    parser.add_argument('--log-interval', type=int, default=10, metavar='N',\n",
      "                        help='how many batches to wait before logging training status')\n",
      "\n",
      "    parser.add_argument('--save-model', action='store_true', default=False,\n",
      "                        help='For Saving the current Model')\n",
      "    args = parser.parse_args()\n",
      "    use_cuda = not args.no_cuda and torch.cuda.is_available()\n",
      "    torch.multiprocessing.set_start_method(\"spawn\")\n",
      "\n",
      "    torch.manual_seed(args.seed)\n",
      "\n",
      "\n",
      "    device = torch.device(\"cuda\" if use_cuda else \"cpu\")\n",
      "\n",
      "\n",
      "    if use_cuda:\n",
      "        torch.cuda.manual_seed(args.seed)\n",
      "        #torch.cuda.set_device(device)\n",
      "        torch.set_default_tensor_type(torch.cuda.FloatTensor)\n",
      "\n",
      "    kwargs = {'num_workers': 1, 'pin_memory': True} if use_cuda else {}\n",
      "    root_folder=os.getenv(\"DATA_DIR\")\n",
      "    output_model_folder = os.environ[\"RESULT_DIR\"]\n",
      "    output_model_path = os.path.join(output_model_folder,\"model\")\n",
      "    output_model_path_file = os.path.join(output_model_path,\"trained_model.pt\")\n",
      "    output_model_path_onnx = os.path.join(output_model_path,\"trained_model.onnx\")\n",
      "    train_loader = torch.utils.data.DataLoader(\n",
      "        datasets.MNIST(root_folder, train=True, download=False,\n",
      "                       transform=transforms.Compose([\n",
      "                           transforms.ToTensor(),\n",
      "                           transforms.Normalize((0.1307,), (0.3081,))\n",
      "                       ])),\n",
      "        batch_size=args.batch_size, shuffle=True, **kwargs)\n",
      "    test_loader = torch.utils.data.DataLoader(\n",
      "        datasets.MNIST(root_folder, train=False, transform=transforms.Compose([\n",
      "            transforms.ToTensor(),\n",
      "            transforms.Normalize((0.1307,), (0.3081,))\n",
      "        ])),\n",
      "        batch_size=args.test_batch_size, shuffle=True, **kwargs)\n",
      "\n",
      "\n",
      "    model = Net().to(device)\n",
      "    if use_cuda:\n",
      "        model.cuda()\n",
      "\n",
      "    optimizer = optim.SGD(model.parameters(), lr=args.lr, momentum=args.momentum)\n",
      "\n",
      "    with EMetrics.open() as em:\n",
      "        for epoch in range(1, args.epochs +      1):\n",
      "            train(args, model, device, train_loader, optimizer, epoch)\n",
      "            test(args, model, device, test_loader, epoch, em)\n",
      "\n",
      "    torch.save(model.state_dict(),output_model_path_file)\n",
      "    x = torch.randn(1, 1, 28, 28, requires_grad=True)\n",
      "    torch.onnx.export(model, x, output_model_path_onnx, export_params=True, keep_initializers_as_inputs=True)\n",
      "\n",
      "if __name__ == '__main__':\n",
      "    main()\n"
     ]
    }
   ],
   "source": [
    "!unzip -oqd . pytorch-onnx_v1_3.zip && cat pytorch_v_1.1_mnist_onnx.py"
   ]
  },
  {
   "cell_type": "markdown",
   "metadata": {
    "id": "a9032351-c1ce-49e1-9d52-e1799fdeddb1"
   },
   "source": [
    "<a id=\"def_upload\"></a>\n",
    "### Upload model for the model definition"
   ]
  },
  {
   "cell_type": "markdown",
   "metadata": {
    "id": "b90bfd4d-5dd2-449b-bd9c-fce1bac36a9f"
   },
   "source": [
    "<a href=\"https://watson-ml-v4-api.mybluemix.net/wml-restapi-cloud.html#/Model%20Definitions/model_definitions_upload_model\" \n",
    "target=\"_blank\" rel=\"noopener no referrer\">Upload model for the model definition</a>"
   ]
  },
  {
   "cell_type": "code",
   "execution_count": 54,
   "metadata": {
    "id": "83017246-366d-4ceb-860e-12181c4384e1",
    "tags": []
   },
   "outputs": [
    {
     "name": "stdout",
     "output_type": "stream",
     "text": [
      "{\n",
      "    \"attachment_id\": \"e1b327ca-b73b-48ac-8397-d6ecfed4d9e6\",\n",
      "    \"content_format\": \"native\",\n",
      "    \"persisted\": true\n",
      "}\n"
     ]
    }
   ],
   "source": [
    "%%bash\n",
    "\n",
    "curl -sk -X PUT \\\n",
    "    --header \"Authorization: Bearer $USER_ACCESS_TOKEN\" \\\n",
    "    --header \"Content-Type: application/json\" \\\n",
    "    --header \"Accept: application/json\" \\\n",
    "    --data-binary \"@pytorch-onnx_v1_3.zip\" \\\n",
    "    \"$RUNTIME_ENV_APSX_URL/ml/v4/model_definitions/$MODEL_DEFINITION_ID/model?version=2021-05-01&space_id=$SPACE_ID\" \\\n",
    "    | python -m json.tool"
   ]
  },
  {
   "cell_type": "markdown",
   "metadata": {
    "id": "38cdb693-b199-430f-bf86-163098aab239"
   },
   "source": [
    "<a id=\"run\"></a>\n",
    "## 3. Experiment run\n",
    "\n",
    "This section provides samples about how to trigger Deep Learning experiment via cURL calls."
   ]
  },
  {
   "cell_type": "markdown",
   "metadata": {
    "id": "d04cbc95-ddb8-485a-9882-f43b186c4237"
   },
   "source": [
    "<a href=\"https://watson-ml-v4-api.mybluemix.net/wml-restapi-cloud.html#/Trainings/trainings_create\" \n",
    "target=\"_blank\" rel=\"noopener no referrer\">Schedule a training job for Deep Learning experiment</a>"
   ]
  },
  {
   "cell_type": "markdown",
   "metadata": {
    "id": "f0472107-471b-4c52-a3f6-38a97f4b6d74"
   },
   "source": [
    "Specify the source files folder where you have stored your training data. The path should point to a local repository on Watson Machine Learning Accelerator that your system administrator has set up for your use.\n",
    "\n",
    "**Store your training data in WML-A's storage.** One way to do this is:\n",
    "1. go to WML-A's notebook server\n",
    "2. download/upload the training data to /data/ folder, for example `/data/MNIST/`\n",
    "3. come back here and supply 'MNIST' as the relative path for training data\n",
    "\n",
    "**Action:**\n",
    "Change `training_data_references: location: path: ...`"
   ]
  },
  {
   "cell_type": "code",
   "execution_count": 67,
   "metadata": {
    "id": "65754bd0-f886-4574-aa19-a0ec9e8922e3",
    "tags": []
   },
   "outputs": [],
   "source": [
    "%%bash --out training_payload\n",
    "\n",
    "TRAINING_PAYLOAD='{\"training_data_references\": [{\"name\": \"training_input_data\", \"type\": \"fs\", \"connection\": {}, \"location\": {\"path\": \"MNIST\"}, \"schema\": {\"id\": \"idmlp_schema\", \"fields\": [{\"name\": \"text\", \"type\": \"string\"}]}}], \"results_reference\": {\"name\": \"MNIST results\", \"connection\": {}, \"location\": {\"path\": \"spaces/'\"$SPACE_ID\"'/assets/experiment\"}, \"type\": \"fs\"}, \"tags\": [{\"value\": \"tags_pytorch\", \"description\": \"Tags PyTorch\"}], \"name\": \"PyTorch hand-written Digit Recognition\", \"description\": \"PyTorch hand-written Digit Recognition\", \"model_definition\": {\"id\": \"'\"$MODEL_DEFINITION_ID\"'\", \"command\": \"pytorch_v_1.1_mnist_onnx.py --epochs 10 --debug-level debug\", \"hardware_spec\": {\"name\": \"K80\", \"nodes\": 1}, \"software_spec\": {\"name\": \"pytorch-onnx_1.7-py3.8\"}, \"parameters\": {\"name\": \"PyTorch_mnist\", \"description\": \"PyTorch mnist recognition\"}}, \"space_id\": \"'\"$SPACE_ID\"'\"}'\n",
    "echo $TRAINING_PAYLOAD | python -m json.tool"
   ]
  },
  {
   "cell_type": "code",
   "execution_count": 68,
   "metadata": {
    "id": "b385fdda-ac29-4450-85e8-19cb04f5de41",
    "tags": []
   },
   "outputs": [
    {
     "name": "stdout",
     "output_type": "stream",
     "text": [
      "env: TRAINING_PAYLOAD={\n",
      "    \"training_data_references\": [\n",
      "        {\n",
      "            \"name\": \"training_input_data\",\n",
      "            \"type\": \"fs\",\n",
      "            \"connection\": {},\n",
      "            \"location\": {\n",
      "                \"path\": \"MNIST\"\n",
      "            },\n",
      "            \"schema\": {\n",
      "                \"id\": \"idmlp_schema\",\n",
      "                \"fields\": [\n",
      "                    {\n",
      "                        \"name\": \"text\",\n",
      "                        \"type\": \"string\"\n",
      "                    }\n",
      "                ]\n",
      "            }\n",
      "        }\n",
      "    ],\n",
      "    \"results_reference\": {\n",
      "        \"name\": \"MNIST results\",\n",
      "        \"connection\": {},\n",
      "        \"location\": {\n",
      "            \"path\": \"spaces/ddd3bbfc-1ab8-4e6b-ac97-0dc60764ad51/assets/experiment\"\n",
      "        },\n",
      "        \"type\": \"fs\"\n",
      "    },\n",
      "    \"tags\": [\n",
      "        {\n",
      "            \"value\": \"tags_pytorch\",\n",
      "            \"description\": \"Tags PyTorch\"\n",
      "        }\n",
      "    ],\n",
      "    \"name\": \"PyTorch hand-written Digit Recognition\",\n",
      "    \"description\": \"PyTorch hand-written Digit Recognition\",\n",
      "    \"model_definition\": {\n",
      "        \"id\": \"73ba95f9-7c8c-451a-9034-3466f3dc202c\",\n",
      "        \"command\": \"pytorch_v_1.1_mnist_onnx.py --epochs 10 --debug-level debug\",\n",
      "        \"hardware_spec\": {\n",
      "            \"name\": \"K80\",\n",
      "            \"nodes\": 1\n",
      "        },\n",
      "        \"software_spec\": {\n",
      "            \"name\": \"pytorch-onnx_1.7-py3.8\"\n",
      "        },\n",
      "        \"parameters\": {\n",
      "            \"name\": \"PyTorch_mnist\",\n",
      "            \"description\": \"PyTorch mnist recognition\"\n",
      "        }\n",
      "    },\n",
      "    \"space_id\": \"ddd3bbfc-1ab8-4e6b-ac97-0dc60764ad51\"\n",
      "}\n"
     ]
    }
   ],
   "source": [
    "%env TRAINING_PAYLOAD=$training_payload"
   ]
  },
  {
   "cell_type": "code",
   "execution_count": 69,
   "metadata": {
    "id": "75d7fe82-be01-4fb7-9ca3-936910258c07",
    "tags": []
   },
   "outputs": [],
   "source": [
    "%%bash --out training_id\n",
    "\n",
    "curl -sk -X  POST \\\n",
    "    --header \"Authorization: Bearer $USER_ACCESS_TOKEN\" \\\n",
    "    --header \"Content-Type: application/json\" \\\n",
    "    --header \"Accept: application/json\" \\\n",
    "    --data \"$TRAINING_PAYLOAD\" \\\n",
    "    \"$RUNTIME_ENV_APSX_URL/ml/v4/trainings?version=2021-05-01\" | awk -F'\"id\":' '{print $2}' | cut -c2-37"
   ]
  },
  {
   "cell_type": "code",
   "execution_count": 70,
   "metadata": {
    "id": "89119f28-cbc4-45ec-8cb0-2203ef468ed0",
    "tags": []
   },
   "outputs": [
    {
     "name": "stdout",
     "output_type": "stream",
     "text": [
      "env: TRAINING_ID=ceae0c10-bf5b-4606-9e76-bd9bb3480040\n"
     ]
    }
   ],
   "source": [
    "%env TRAINING_ID=$training_id"
   ]
  },
  {
   "cell_type": "markdown",
   "metadata": {
    "id": "e7fd17c8-f962-42dd-8d10-bdd37ec32f2d"
   },
   "source": [
    "<a id=\"training_details\"></a>\n",
    "### Get training details\n",
    "Treining is an asynchronous endpoint. In case you want to monitor training status and details,\n",
    "you need to use a GET method and specify which training you want to monitor by usage of training ID."
   ]
  },
  {
   "cell_type": "markdown",
   "metadata": {
    "id": "4b674bd4-4788-4899-8b5a-ab93060dda0f"
   },
   "source": [
    "<a href=\"https://watson-ml-v4-api.mybluemix.net/wml-restapi-cloud.html#/Trainings/trainings_get\" \n",
    "target=\"_blank\" rel=\"noopener no referrer\">Get information about training job</a>"
   ]
  },
  {
   "cell_type": "raw",
   "metadata": {
    "id": "9c16ad0b-8ed9-48f5-a6b2-40cf650585f2",
    "tags": []
   },
   "source": [
    "%%bash\n",
    "\n",
    "curl -sk -X GET \\\n",
    "    --header \"Authorization: Bearer $USER_ACCESS_TOKEN\" \\\n",
    "    --header \"Content-Type: application/json\" \\\n",
    "    --header \"Accept: application/json\" \\\n",
    "    \"$RUNTIME_ENV_APSX_URL/ml/v4/trainings/$TRAINING_ID?space_id=$SPACE_ID&version=2021-05-01\" \\\n",
    "    | python -m json.tool"
   ]
  },
  {
   "cell_type": "markdown",
   "metadata": {
    "id": "13e81f95-1633-4b73-a378-9af64946b94e"
   },
   "source": [
    "### Get training status"
   ]
  },
  {
   "cell_type": "code",
   "execution_count": 77,
   "metadata": {
    "id": "ebcaca82-6d4a-4162-9b57-dbf546163d2f",
    "scrolled": true,
    "tags": []
   },
   "outputs": [
    {
     "name": "stdout",
     "output_type": "stream",
     "text": [
      "completed\n"
     ]
    }
   ],
   "source": [
    "%%bash\n",
    "\n",
    "STATUS=$(curl -sk -X GET\\\n",
    "    --header \"Authorization: Bearer $USER_ACCESS_TOKEN\" \\\n",
    "    --header \"Content-Type: application/json\" \\\n",
    "    --header \"Accept: application/json\" \\\n",
    "    \"$RUNTIME_ENV_APSX_URL/ml/v4/trainings/$TRAINING_ID?space_id=$SPACE_ID&version=2021-05-01\")\n",
    "    \n",
    "STATUS=${STATUS#*state\\\":\\\"}\n",
    "STATUS=${STATUS%%\\\"*}\n",
    "echo $STATUS"
   ]
  },
  {
   "cell_type": "markdown",
   "metadata": {
    "id": "ba871edb-ba54-4b23-8c69-a01d0541fbdf"
   },
   "source": [
    "Please make sure that training is completed before you go to the next sections.\n",
    "Monitor `state` of your training by running above cell couple of times."
   ]
  },
  {
   "cell_type": "markdown",
   "metadata": {
    "id": "8e0f6a24-4a5c-4c3d-9bf2-d63bf4604d2f"
   },
   "source": [
    "<a id=\"runs\"></a>\n",
    "## 4. Historical runs\n",
    "\n",
    "In this section you will see cURL examples describing how to get historical training runs information."
   ]
  },
  {
   "cell_type": "markdown",
   "metadata": {
    "id": "d8f21eff-52d4-4897-a388-9969aba79199"
   },
   "source": [
    "Output should be similar to the output from training creation but you should see more trainings entries.  \n",
    "Listing trainings:"
   ]
  },
  {
   "cell_type": "markdown",
   "metadata": {
    "id": "c00561da-0227-4e3b-ad54-b6488cf1c540"
   },
   "source": [
    "<a href=\"https://watson-ml-v4-api.mybluemix.net/wml-restapi-cloud.html#/Trainings/trainings_list\" \n",
    "target=\"_blank\" rel=\"noopener no referrer\">Get list of historical training jobs information</a>"
   ]
  },
  {
   "cell_type": "code",
   "execution_count": 79,
   "metadata": {
    "id": "4d8fb3fc-6a6f-4f2c-862b-8053f2a7e886",
    "tags": []
   },
   "outputs": [
    {
     "name": "stdout",
     "output_type": "stream",
     "text": [
      "{\n",
      "    \"limit\": 1,\n",
      "    \"next\": {\n",
      "        \"href\": \"/ml/v4/trainings?start=g1AAAACbeJw1zDEOwjAMheGoExMzB2A1shvHaXoOJhYUx6mgFCFBF24PQWJ9-r-3OOe6S2du-1rzc73V99ke5Wr3774vNVcshKBTUGBBgVSjgFpS9TwgMja7-dulvf2omXnVqQBlHYCrKOSSIqAVwSicLVALdz32BNQD8pFkDDKyP7CX0zx_AGUYJ1Y&limit=1&space_id=ddd3bbfc-1ab8-4e6b-ac97-0dc60764ad51\"\n",
      "    },\n",
      "    \"resources\": [\n",
      "        {\n",
      "            \"metadata\": {\n",
      "                \"created_at\": \"2021-12-04T16:53:09.220Z\",\n",
      "                \"description\": \"PyTorch hand-written Digit Recognition\",\n",
      "                \"guid\": \"ceae0c10-bf5b-4606-9e76-bd9bb3480040\",\n",
      "                \"id\": \"ceae0c10-bf5b-4606-9e76-bd9bb3480040\",\n",
      "                \"modified_at\": \"2021-12-04T16:56:43.436Z\",\n",
      "                \"name\": \"PyTorch hand-written Digit Recognition\",\n",
      "                \"space_id\": \"ddd3bbfc-1ab8-4e6b-ac97-0dc60764ad51\",\n",
      "                \"tags\": [\n",
      "                    \"tags_pytorch\"\n",
      "                ]\n",
      "            },\n",
      "            \"entity\": {\n",
      "                \"description\": \"PyTorch hand-written Digit Recognition\",\n",
      "                \"model_definition\": {\n",
      "                    \"command\": \"pytorch_v_1.1_mnist_onnx.py --epochs 10 --debug-level debug\",\n",
      "                    \"hardware_spec\": {\n",
      "                        \"name\": \"K80\"\n",
      "                    },\n",
      "                    \"id\": \"73ba95f9-7c8c-451a-9034-3466f3dc202c\",\n",
      "                    \"parameters\": {\n",
      "                        \"description\": \"PyTorch mnist recognition\",\n",
      "                        \"name\": \"PyTorch_mnist\"\n",
      "                    },\n",
      "                    \"software_spec\": {\n",
      "                        \"name\": \"pytorch-onnx_1.7-py3.8\"\n",
      "                    }\n",
      "                },\n",
      "                \"name\": \"PyTorch hand-written Digit Recognition\",\n",
      "                \"results_reference\": {\n",
      "                    \"connection\": {},\n",
      "                    \"location\": {\n",
      "                        \"path\": \"spaces/ddd3bbfc-1ab8-4e6b-ac97-0dc60764ad51/assets/experiment\",\n",
      "                        \"model\": \"spaces/ddd3bbfc-1ab8-4e6b-ac97-0dc60764ad51/assets/experiment/ceae0c10-bf5b-4606-9e76-bd9bb3480040/data/model\",\n",
      "                        \"notebooks_path\": \"spaces/ddd3bbfc-1ab8-4e6b-ac97-0dc60764ad51/assets/experiment/ceae0c10-bf5b-4606-9e76-bd9bb3480040/notebooks\",\n",
      "                        \"training\": \"spaces/ddd3bbfc-1ab8-4e6b-ac97-0dc60764ad51/assets/experiment/ceae0c10-bf5b-4606-9e76-bd9bb3480040\",\n",
      "                        \"training_status\": \"spaces/ddd3bbfc-1ab8-4e6b-ac97-0dc60764ad51/assets/experiment/ceae0c10-bf5b-4606-9e76-bd9bb3480040/training-status.json\",\n",
      "                        \"logs\": \"spaces/ddd3bbfc-1ab8-4e6b-ac97-0dc60764ad51/assets/experiment/ceae0c10-bf5b-4606-9e76-bd9bb3480040/logs\",\n",
      "                        \"assets_path\": \"spaces/ddd3bbfc-1ab8-4e6b-ac97-0dc60764ad51/assets/experiment/ceae0c10-bf5b-4606-9e76-bd9bb3480040/assets\"\n",
      "                    },\n",
      "                    \"type\": \"fs\"\n",
      "                },\n",
      "                \"space_id\": \"ddd3bbfc-1ab8-4e6b-ac97-0dc60764ad51\",\n",
      "                \"status\": {\n",
      "                    \"completed_at\": \"2021-12-04T16:56:43.427Z\",\n",
      "                    \"metrics\": [\n",
      "                        {\n",
      "                            \"iteration\": 1,\n",
      "                            \"ml_metrics\": {\n",
      "                                \"accuracy\": 75.95,\n",
      "                                \"loss\": -0.74587919921875\n",
      "                            },\n",
      "                            \"timestamp\": \"2021-12-04T16:55:11.357Z\"\n",
      "                        },\n",
      "                        {\n",
      "                            \"iteration\": 2,\n",
      "                            \"ml_metrics\": {\n",
      "                                \"accuracy\": 77.4,\n",
      "                                \"loss\": -0.7684650939941406\n",
      "                            },\n",
      "                            \"timestamp\": \"2021-12-04T16:55:11.431Z\"\n",
      "                        },\n",
      "                        {\n",
      "                            \"iteration\": 3,\n",
      "                            \"ml_metrics\": {\n",
      "                                \"accuracy\": 78.05,\n",
      "                                \"loss\": -0.7766110412597657\n",
      "                            },\n",
      "                            \"timestamp\": \"2021-12-04T16:55:11.485Z\"\n",
      "                        },\n",
      "                        {\n",
      "                            \"iteration\": 4,\n",
      "                            \"ml_metrics\": {\n",
      "                                \"accuracy\": 78.76,\n",
      "                                \"loss\": -0.7840824523925781\n",
      "                            },\n",
      "                            \"timestamp\": \"2021-12-04T16:55:41.549Z\"\n",
      "                        },\n",
      "                        {\n",
      "                            \"iteration\": 5,\n",
      "                            \"ml_metrics\": {\n",
      "                                \"accuracy\": 78.91,\n",
      "                                \"loss\": -0.7861934387207031\n",
      "                            },\n",
      "                            \"timestamp\": \"2021-12-04T16:55:41.604Z\"\n",
      "                        },\n",
      "                        {\n",
      "                            \"iteration\": 6,\n",
      "                            \"ml_metrics\": {\n",
      "                                \"accuracy\": 79.37,\n",
      "                                \"loss\": -0.7910566772460937\n",
      "                            },\n",
      "                            \"timestamp\": \"2021-12-04T16:56:11.676Z\"\n",
      "                        },\n",
      "                        {\n",
      "                            \"iteration\": 7,\n",
      "                            \"ml_metrics\": {\n",
      "                                \"accuracy\": 79.3,\n",
      "                                \"loss\": -0.7904598022460938\n",
      "                            },\n",
      "                            \"timestamp\": \"2021-12-04T16:56:11.739Z\"\n",
      "                        }\n",
      "                    ],\n",
      "                    \"running_at\": \"2021-12-04T16:54:15.545Z\",\n",
      "                    \"state\": \"completed\"\n",
      "                },\n",
      "                \"tags\": [\n",
      "                    \"tags_pytorch\"\n",
      "                ],\n",
      "                \"training_data_references\": [\n",
      "                    {\n",
      "                        \"connection\": {},\n",
      "                        \"location\": {\n",
      "                            \"path\": \"MNIST\"\n",
      "                        },\n",
      "                        \"schema\": {\n",
      "                            \"fields\": [\n",
      "                                {\n",
      "                                    \"name\": \"text\",\n",
      "                                    \"type\": \"string\"\n",
      "                                }\n",
      "                            ],\n",
      "                            \"id\": \"idmlp_schema\"\n",
      "                        },\n",
      "                        \"type\": \"fs\"\n",
      "                    }\n",
      "                ]\n",
      "            }\n",
      "        }\n",
      "    ]\n",
      "}\n"
     ]
    }
   ],
   "source": [
    "%%bash\n",
    "\n",
    "HISTORICAL_TRAINING_LIMIT_TO_GET=1\n",
    "\n",
    "curl -sk -X GET \\\n",
    "    --header \"Authorization: Bearer $USER_ACCESS_TOKEN\" \\\n",
    "    --header \"Content-Type: application/json\" \\\n",
    "    --header \"Accept: application/json\" \\\n",
    "    \"$RUNTIME_ENV_APSX_URL/ml/v4/trainings?space_id=$SPACE_ID&version=2021-05-01&limit=$HISTORICAL_TRAINING_LIMIT_TO_GET\" \\\n",
    "    | python -m json.tool"
   ]
  },
  {
   "cell_type": "markdown",
   "metadata": {
    "id": "6e27cdc4-7dd8-45e9-9eb8-cd037556fb19"
   },
   "source": [
    "<a id=\"training_cancel\"></a>\n",
    "### Cancel training run\n",
    "\n",
    "**Tip:** If you want to cancel your training, please convert below cell to `code`, specify training ID and run."
   ]
  },
  {
   "cell_type": "markdown",
   "metadata": {
    "id": "a103c316-bb12-493d-8420-c9f9331c1a39"
   },
   "source": [
    "<a href=\"https://watson-ml-v4-api.mybluemix.net/wml-restapi-cloud.html#/Trainings/trainings_delete\" \n",
    "target=\"_blank\" rel=\"noopener no referrer\">Canceling training</a>"
   ]
  },
  {
   "cell_type": "raw",
   "metadata": {
    "id": "9dcdca65-b0ac-4422-b3c5-a15e174c6e64"
   },
   "source": [
    "%%bash\n",
    "\n",
    "TRAINING_ID_TO_CANCEL=...\n",
    "\n",
    "curl -sk -X DELETE \\\n",
    "    --header \"Authorization: Bearer $USER_ACCESS_TOKEN\" \\\n",
    "    --header \"Content-Type: application/json\" \\\n",
    "    --header \"Accept: application/json\" \\\n",
    "    \"$RUNTIME_ENV_APSX_URL/ml/v4/trainings/$TRAINING_ID_TO_DELETE?space_id=$SPACE_ID&version=2020-08-01\""
   ]
  },
  {
   "cell_type": "markdown",
   "metadata": {
    "id": "369ce012-6c10-4498-9194-7150d55ae4a4"
   },
   "source": [
    "---"
   ]
  },
  {
   "cell_type": "markdown",
   "metadata": {
    "id": "d451f77b-0d79-417d-99cb-0359f2f60026"
   },
   "source": [
    "<a id=\"deploy_and_score\"></a>\n",
    "## 5. Deploy and Score\n",
    "\n",
    "In this section you will learn how to deploy and score pipeline model as webservice using WML instance."
   ]
  },
  {
   "cell_type": "markdown",
   "metadata": {
    "id": "3c367e82-40d4-4f2c-9738-aaaa077fecb0"
   },
   "source": [
    "Before deployment creation, you need store your model in WML repository.\n",
    "Please see below cURL call example how to do it."
   ]
  },
  {
   "cell_type": "markdown",
   "metadata": {
    "id": "9a5ae94a-61f0-49ae-b42e-88e3847509c0"
   },
   "source": [
    "Download `request.json` with repository request json for model storing."
   ]
  },
  {
   "cell_type": "code",
   "execution_count": 80,
   "metadata": {
    "id": "5e889769-726b-4ff1-a92e-def34594f83c",
    "tags": []
   },
   "outputs": [],
   "source": [
    "%%bash --out request_json\n",
    "\n",
    "curl -sk -X GET \\\n",
    "    --header \"Authorization: Bearer $USER_ACCESS_TOKEN\" \\\n",
    "    --header \"Content-Type: application/json\" \\\n",
    "    --header \"Accept: application/json\" \\\n",
    "    \"$RUNTIME_ENV_APSX_URL/v2/asset_files/experiment/$TRAINING_ID/assets/$TRAINING_ID/resources/wml_model/request.json?space_id=$SPACE_ID&version=2020-08-01\" \\\n",
    "    | python -m json.tool"
   ]
  },
  {
   "cell_type": "code",
   "execution_count": 81,
   "metadata": {
    "id": "304bcdfc-871d-4b55-870c-9c5952de950c",
    "tags": []
   },
   "outputs": [
    {
     "name": "stdout",
     "output_type": "stream",
     "text": [
      "env: MODEL_PAYLOAD={\n",
      "    \"model_definition\": {\n",
      "        \"id\": \"73ba95f9-7c8c-451a-9034-3466f3dc202c\"\n",
      "    },\n",
      "    \"name\": \"model_wmla-ns-35\",\n",
      "    \"content_location\": {\n",
      "        \"connection\": {},\n",
      "        \"contents\": [\n",
      "            {\n",
      "                \"content_format\": \"native\",\n",
      "                \"file_name\": \"wmla-ns-35.zip\",\n",
      "                \"location\": \"spaces/ddd3bbfc-1ab8-4e6b-ac97-0dc60764ad51/assets/experiment/ceae0c10-bf5b-4606-9e76-bd9bb3480040/assets/ceae0c10-bf5b-4606-9e76-bd9bb3480040/resources/wml_model/wmla-ns-35.zip\"\n",
      "            }\n",
      "        ],\n",
      "        \"location\": {\n",
      "            \"path\": \"spaces/ddd3bbfc-1ab8-4e6b-ac97-0dc60764ad51/assets/experiment\",\n",
      "            \"model\": \"spaces/ddd3bbfc-1ab8-4e6b-ac97-0dc60764ad51/assets/experiment/ceae0c10-bf5b-4606-9e76-bd9bb3480040/data/model\",\n",
      "            \"notebooks_path\": \"spaces/ddd3bbfc-1ab8-4e6b-ac97-0dc60764ad51/assets/experiment/ceae0c10-bf5b-4606-9e76-bd9bb3480040/notebooks\",\n",
      "            \"training\": \"spaces/ddd3bbfc-1ab8-4e6b-ac97-0dc60764ad51/assets/experiment/ceae0c10-bf5b-4606-9e76-bd9bb3480040\",\n",
      "            \"training_status\": \"spaces/ddd3bbfc-1ab8-4e6b-ac97-0dc60764ad51/assets/experiment/ceae0c10-bf5b-4606-9e76-bd9bb3480040/training-status.json\",\n",
      "            \"logs\": \"spaces/ddd3bbfc-1ab8-4e6b-ac97-0dc60764ad51/assets/experiment/ceae0c10-bf5b-4606-9e76-bd9bb3480040/logs\",\n",
      "            \"assets_path\": \"spaces/ddd3bbfc-1ab8-4e6b-ac97-0dc60764ad51/assets/experiment/ceae0c10-bf5b-4606-9e76-bd9bb3480040/assets\"\n",
      "        },\n",
      "        \"type\": \"fs\"\n",
      "    },\n",
      "    \"software_spec\": {\n",
      "        \"name\": \"pytorch-onnx_1.7-py3.8\"\n",
      "    },\n",
      "    \"type\": \"pytorch-onnx_1.7\",\n",
      "    \"space_id\": \"ddd3bbfc-1ab8-4e6b-ac97-0dc60764ad51\"\n",
      "}\n"
     ]
    }
   ],
   "source": [
    "%env MODEL_PAYLOAD=$request_json"
   ]
  },
  {
   "cell_type": "markdown",
   "metadata": {
    "id": "2fd40300-4d33-44ff-8836-6a8c098a4d74"
   },
   "source": [
    "<a id=\"model_store\"></a>\n",
    "### Store Deep Learning model\n",
    "\n",
    "Store information about your model to WML repository."
   ]
  },
  {
   "cell_type": "markdown",
   "metadata": {
    "id": "c155451f-a6d8-44aa-a61e-fcc492f60952"
   },
   "source": [
    "<a href=\"https://watson-ml-v4-api.mybluemix.net/wml-restapi-cloud.html#/Models/models_create\" \n",
    "target=\"_blank\" rel=\"noopener no referrer\">Model storing</a>"
   ]
  },
  {
   "cell_type": "code",
   "execution_count": 23,
   "metadata": {
    "id": "b7312f34-9ed6-43fa-8d6a-1433d2ffadf6"
   },
   "outputs": [],
   "source": [
    "%%bash --out model_details\n",
    "\n",
    "curl -sk -X POST \\\n",
    "    --header \"Authorization: Bearer $USER_ACCESS_TOKEN\" \\\n",
    "    --header \"Content-Type: application/json\" \\\n",
    "    --header \"Accept: application/json\" \\\n",
    "    --data \"$MODEL_PAYLOAD\" \\\n",
    "    \"$RUNTIME_ENV_APSX_URL/ml/v4/models?version=2020-08-01&space_id=$SPACE_ID\""
   ]
  },
  {
   "cell_type": "code",
   "execution_count": 24,
   "metadata": {
    "id": "5f0e21e7-8509-4404-9660-6aae23d13128"
   },
   "outputs": [
    {
     "name": "stdout",
     "output_type": "stream",
     "text": [
      "env: MODEL_DETAILS={\n",
      "  \"entity\": {\n",
      "    \"content_import_state\": \"running\",\n",
      "    \"model_definition\": {\n",
      "      \"id\": \"ecea5add-e901-4416-9592-18bcfcf84557\"\n",
      "    },\n",
      "    \"software_spec\": {\n",
      "      \"id\": \"8d5d8a87-a912-54cf-81ec-3914adaa988d\",\n",
      "      \"name\": \"pytorch-onnx_1.3-py3.7\"\n",
      "    },\n",
      "    \"training_data_references\": [{\n",
      "      \"connection\": {\n",
      "\n",
      "      },\n",
      "      \"location\": {\n",
      "        \"path\": \"pytorch-mnist\"\n",
      "      },\n",
      "      \"schema\": {\n",
      "        \"fields\": [{\n",
      "          \"name\": \"text\",\n",
      "          \"type\": \"string\"\n",
      "        }],\n",
      "        \"id\": \"idmlp_schema\"\n",
      "      },\n",
      "      \"type\": \"fs\"\n",
      "    }],\n",
      "    \"type\": \"pytorch-onnx_1.3\"\n",
      "  },\n",
      "  \"metadata\": {\n",
      "    \"created_at\": \"2020-12-10T14:08:18.803Z\",\n",
      "    \"id\": \"a3c15f28-ffe2-4e5a-b7bb-92898150738d\",\n",
      "    \"modified_at\": \"2020-12-10T14:08:18.803Z\",\n",
      "    \"name\": \"model_twmla-2694\",\n",
      "    \"owner\": \"1000331009\",\n",
      "    \"space_id\": \"dfabc53a-c862-4a4c-9161-e74d6726629a\"\n",
      "  },\n",
      "  \"system\": {\n",
      "    \"warnings\": []\n",
      "  }\n",
      "}\n"
     ]
    }
   ],
   "source": [
    "%env MODEL_DETAILS=$model_details"
   ]
  },
  {
   "cell_type": "code",
   "execution_count": 25,
   "metadata": {
    "id": "5263079a-9d66-489a-8ba3-44e533e23397"
   },
   "outputs": [],
   "source": [
    "%%bash --out model_id\n",
    "\n",
    "echo $MODEL_DETAILS | awk -F '\"id\": ' '{ print $5 }' | cut -d '\"' -f 2"
   ]
  },
  {
   "cell_type": "code",
   "execution_count": 26,
   "metadata": {
    "id": "739c1a99-a5ef-4e69-ac93-b8a96d59dc1c"
   },
   "outputs": [
    {
     "name": "stdout",
     "output_type": "stream",
     "text": [
      "env: MODEL_ID=a3c15f28-ffe2-4e5a-b7bb-92898150738d\n"
     ]
    }
   ],
   "source": [
    "%env MODEL_ID=$model_id"
   ]
  },
  {
   "cell_type": "markdown",
   "metadata": {
    "id": "bf3dcee6-206d-4b17-85ed-7107374f39d7"
   },
   "source": [
    "<a id=\"deployment_creation\"></a>\n",
    "### Deployment creation\n",
    "\n",
    "An Deep Learning online deployment creation is presented below."
   ]
  },
  {
   "cell_type": "markdown",
   "metadata": {
    "id": "1772780d-856e-4f05-be8a-d4a6c6708cec"
   },
   "source": [
    "<a href=\"https://watson-ml-v4-api.mybluemix.net/wml-restapi-cloud.html#/Deployments/deployments_create\" \n",
    "target=\"_blank\" rel=\"noopener no referrer\">Create deployment</a>"
   ]
  },
  {
   "cell_type": "code",
   "execution_count": 27,
   "metadata": {
    "id": "3ad324ab-fec5-4e2a-b510-2f6ca1d4929d"
   },
   "outputs": [],
   "source": [
    "%%bash --out deployment_payload\n",
    "\n",
    "DEPLOYMENT_PAYLOAD='{\"space_id\": \"'\"$SPACE_ID\"'\",\"name\": \"PyTorch Mnist deployment\", \"description\": \"PyTorch model to recognize hand-written digits\",\"online\": {},\"hardware_spec\": {\"name\": \"S\"},\"asset\": {\"id\": \"'\"$MODEL_ID\"'\"}}'\n",
    "echo $DEPLOYMENT_PAYLOAD | python -m json.tool"
   ]
  },
  {
   "cell_type": "code",
   "execution_count": 28,
   "metadata": {
    "id": "a0e90f58-983c-4b76-9f07-fa7ada4d5cb3"
   },
   "outputs": [
    {
     "name": "stdout",
     "output_type": "stream",
     "text": [
      "env: DEPLOYMENT_PAYLOAD={\n",
      "    \"space_id\": \"dfabc53a-c862-4a4c-9161-e74d6726629a\",\n",
      "    \"name\": \"PyTorch Mnist deployment\",\n",
      "    \"description\": \"PyTorch model to recognize hand-written digits\",\n",
      "    \"online\": {},\n",
      "    \"hardware_spec\": {\n",
      "        \"name\": \"S\"\n",
      "    },\n",
      "    \"asset\": {\n",
      "        \"id\": \"a3c15f28-ffe2-4e5a-b7bb-92898150738d\"\n",
      "    }\n",
      "}\n"
     ]
    }
   ],
   "source": [
    "%env DEPLOYMENT_PAYLOAD=$deployment_payload"
   ]
  },
  {
   "cell_type": "code",
   "execution_count": 29,
   "metadata": {
    "id": "c7d94585-98b2-4f1d-aba6-9d6cd6c0f05f"
   },
   "outputs": [
    {
     "name": "stdout",
     "output_type": "stream",
     "text": [
      "{\n",
      "  \"entity\": {\n",
      "    \"asset\": {\n",
      "      \"id\": \"a3c15f28-ffe2-4e5a-b7bb-92898150738d\"\n",
      "    },\n",
      "    \"custom\": {\n",
      "\n",
      "    },\n",
      "    \"deployed_asset_type\": \"model\",\n",
      "    \"description\": \"PyTorch model to recognize hand-written digits\",\n",
      "    \"hardware_spec\": {\n",
      "      \"id\": \"e7ed1d6c-2e89-42d7-aed5-863b972c1d2b\",\n",
      "      \"name\": \"S\",\n",
      "      \"num_nodes\": 1\n",
      "    },\n",
      "    \"name\": \"PyTorch Mnist deployment\",\n",
      "    \"online\": {\n",
      "\n",
      "    },\n",
      "    \"space_id\": \"dfabc53a-c862-4a4c-9161-e74d6726629a\",\n",
      "    \"status\": {\n",
      "      \"online_url\": {\n",
      "        \"url\": \"https://wmlgm-cpd-wmlgm.apps.wml1x180.ma.platformlab.ibm.com/ml/v4/deployments/e5133928-182a-436d-b544-4e15f17ebba6/predictions\"\n",
      "      },\n",
      "      \"state\": \"initializing\"\n",
      "    }\n",
      "  },\n",
      "  \"metadata\": {\n",
      "    \"created_at\": \"2020-12-10T14:08:20.222Z\",\n",
      "    \"description\": \"PyTorch model to recognize hand-written digits\",\n",
      "    \"id\": \"e5133928-182a-436d-b544-4e15f17ebba6\",\n",
      "    \"modified_at\": \"2020-12-10T14:08:20.222Z\",\n",
      "    \"name\": \"PyTorch Mnist deployment\",\n",
      "    \"owner\": \"1000331009\",\n",
      "    \"space_id\": \"dfabc53a-c862-4a4c-9161-e74d6726629a\"\n",
      "  }\n",
      "}"
     ]
    }
   ],
   "source": [
    "%%bash\n",
    "\n",
    "curl -sk -X POST \\\n",
    "    --header \"Authorization: Bearer $USER_ACCESS_TOKEN\" \\\n",
    "    --header \"Content-Type: application/json\" \\\n",
    "    --header \"Accept: application/json\" \\\n",
    "    --data \"$DEPLOYMENT_PAYLOAD\" \\\n",
    "    \"$RUNTIME_ENV_APSX_URL/ml/v4/deployments?version=2020-08-01\""
   ]
  },
  {
   "cell_type": "code",
   "execution_count": 30,
   "metadata": {
    "id": "42e931ba-12f9-468a-a89d-e38a7e5f5633"
   },
   "outputs": [],
   "source": [
    "%%bash --out deployment_id\n",
    "\n",
    "curl -sk -X POST \\\n",
    "    --header \"Authorization: Bearer $USER_ACCESS_TOKEN\" \\\n",
    "    --header \"Content-Type: application/json\" \\\n",
    "    --header \"Accept: application/json\" \\\n",
    "    --data \"$DEPLOYMENT_PAYLOAD\" \\\n",
    "    \"$RUNTIME_ENV_APSX_URL/ml/v4/deployments?version=2020-08-01\" \\\n",
    "    | grep '\"id\": ' | awk -F '\"' '{ print $4 }' | sed -n 3p"
   ]
  },
  {
   "cell_type": "code",
   "execution_count": 31,
   "metadata": {
    "id": "11324d3a-a874-42d7-a965-6d762f0a7667"
   },
   "outputs": [
    {
     "name": "stdout",
     "output_type": "stream",
     "text": [
      "env: DEPLOYMENT_ID=c772c05f-a2ff-4618-87f5-c8f6dbc26726\n"
     ]
    }
   ],
   "source": [
    "%env DEPLOYMENT_ID=$deployment_id"
   ]
  },
  {
   "cell_type": "markdown",
   "metadata": {
    "id": "4081efe4-e0ed-4406-8a11-c21829e1a4ec"
   },
   "source": [
    "<a id=\"deployment_details\"></a>\n",
    "### Get deployment details\n",
    "As deployment API is asynchronous, please make sure your deployment is in `ready` state before going to the next points."
   ]
  },
  {
   "cell_type": "markdown",
   "metadata": {
    "id": "24204020-b9f2-4d6a-9956-0e811c1805f7"
   },
   "source": [
    "<a href=\"https://watson-ml-v4-api.mybluemix.net/wml-restapi-cloud.html#/Deployments/deployments_get\" \n",
    "target=\"_blank\" rel=\"noopener no referrer\">Get deployment details</a>"
   ]
  },
  {
   "cell_type": "code",
   "execution_count": 32,
   "metadata": {
    "id": "2ef49b6b-bc78-47c3-bcf7-05fae2909771"
   },
   "outputs": [
    {
     "name": "stdout",
     "output_type": "stream",
     "text": [
      "{\n",
      "    \"entity\": {\n",
      "        \"asset\": {\n",
      "            \"id\": \"a3c15f28-ffe2-4e5a-b7bb-92898150738d\"\n",
      "        },\n",
      "        \"custom\": {},\n",
      "        \"deployed_asset_type\": \"model\",\n",
      "        \"description\": \"PyTorch model to recognize hand-written digits\",\n",
      "        \"hardware_spec\": {\n",
      "            \"id\": \"Not_Applicable\",\n",
      "            \"name\": \"S\",\n",
      "            \"num_nodes\": 1\n",
      "        },\n",
      "        \"name\": \"PyTorch Mnist deployment\",\n",
      "        \"online\": {},\n",
      "        \"space_id\": \"dfabc53a-c862-4a4c-9161-e74d6726629a\",\n",
      "        \"status\": {\n",
      "            \"online_url\": {\n",
      "                \"url\": \"https://wmlgm-cpd-wmlgm.apps.wml1x180.ma.platformlab.ibm.com/ml/v4/deployments/c772c05f-a2ff-4618-87f5-c8f6dbc26726/predictions\"\n",
      "            },\n",
      "            \"state\": \"ready\"\n",
      "        }\n",
      "    },\n",
      "    \"metadata\": {\n",
      "        \"created_at\": \"2020-12-10T14:08:22.766Z\",\n",
      "        \"description\": \"PyTorch model to recognize hand-written digits\",\n",
      "        \"id\": \"c772c05f-a2ff-4618-87f5-c8f6dbc26726\",\n",
      "        \"modified_at\": \"2020-12-10T14:08:22.766Z\",\n",
      "        \"name\": \"PyTorch Mnist deployment\",\n",
      "        \"owner\": \"1000331009\",\n",
      "        \"space_id\": \"dfabc53a-c862-4a4c-9161-e74d6726629a\"\n",
      "    }\n",
      "}\n"
     ]
    }
   ],
   "source": [
    "%%bash\n",
    "\n",
    "curl -sk -X GET \\\n",
    "    --header \"Authorization: Bearer $USER_ACCESS_TOKEN\" \\\n",
    "    --header \"Content-Type: application/json\" \\\n",
    "    \"$RUNTIME_ENV_APSX_URL/ml/v4/deployments/$DEPLOYMENT_ID?space_id=$SPACE_ID&version=2020-08-01\" \\\n",
    "    | python -m json.tool"
   ]
  },
  {
   "cell_type": "markdown",
   "metadata": {
    "id": "0a50acb0-45b6-46f5-9a10-a1e22d1ae61b"
   },
   "source": [
    "<a id=\"input_score\"></a>\n",
    "### Prepare scoring input data\n",
    "**Hint:** You may need to install numpy using following command `!pip install numpy`"
   ]
  },
  {
   "cell_type": "code",
   "execution_count": 33,
   "metadata": {
    "id": "1ed9073b-2e9d-44d2-9f0e-ae4a18dce3d9"
   },
   "outputs": [],
   "source": [
    "!wget -q https://github.com/IBM/watson-machine-learning-samples/raw/master/cpd4.0/data/mnist/mnist.npz"
   ]
  },
  {
   "cell_type": "code",
   "execution_count": 34,
   "metadata": {
    "id": "d3b0fbf3-33f3-41f8-8a34-62c2de10b9b9"
   },
   "outputs": [],
   "source": [
    "import numpy as np\n",
    "\n",
    "mnist_dataset = np.load('mnist.npz')\n",
    "test_mnist = mnist_dataset['x_test']"
   ]
  },
  {
   "cell_type": "code",
   "execution_count": 35,
   "metadata": {
    "id": "5aa96d7f-1d57-4624-a47f-ac0614ba8cab"
   },
   "outputs": [],
   "source": [
    "image_1 = [test_mnist[0].tolist()]\n",
    "image_2 = [test_mnist[1].tolist()]"
   ]
  },
  {
   "cell_type": "code",
   "execution_count": 36,
   "metadata": {
    "id": "3706ee22-aaa5-4586-9dd1-60dbbd97f74c"
   },
   "outputs": [],
   "source": [
    "%matplotlib inline\n",
    "import matplotlib.pyplot as plt"
   ]
  },
  {
   "cell_type": "code",
   "execution_count": 37,
   "metadata": {
    "id": "73927bdb-fbd4-4091-984c-84b31b274480"
   },
   "outputs": [
    {
     "data": {
      "image/png": "[encoded data removed]",
      "text/plain": [
       "<Figure size 432x288 with 2 Axes>"
      ]
     },
     "metadata": {
      "needs_background": "light"
     },
     "output_type": "display_data"
    }
   ],
   "source": [
    "for i, image in enumerate([test_mnist[0], test_mnist[1]]):\n",
    "    plt.subplot(2, 2, i + 1)\n",
    "    plt.axis('off')\n",
    "    plt.imshow(image, cmap=plt.cm.gray_r, interpolation='nearest')"
   ]
  },
  {
   "cell_type": "markdown",
   "metadata": {
    "id": "76ffdf1a-12cb-42f0-962b-157be81e0b82"
   },
   "source": [
    "<a id=\"webservice_score\"></a>\n",
    "### Scoring of a webservice\n",
    "If you want to make a `score` call on your deployment, please follow a below method:"
   ]
  },
  {
   "cell_type": "markdown",
   "metadata": {
    "id": "560e3517-43f5-4cad-bae8-88ae3f2533e0"
   },
   "source": [
    "<a href=\"https://watson-ml-v4-api.mybluemix.net/wml-restapi-cloud.html#/Deployment%20Jobs/deployment_jobs_create\" \n",
    "target=\"_blank\" rel=\"noopener no referrer\">Create deployment job</a>"
   ]
  },
  {
   "cell_type": "code",
   "execution_count": 38,
   "metadata": {
    "id": "b47df217-e9f2-4510-9c64-77d8a1319993"
   },
   "outputs": [
    {
     "name": "stdout",
     "output_type": "stream",
     "text": [
      "{\n",
      "    \"predictions\": [\n",
      "        {\n",
      "            \"values\": [\n",
      "                [\n",
      "                    0.0,\n",
      "                    0.0,\n",
      "                    0.0,\n",
      "                    0.0,\n",
      "                    0.0,\n",
      "                    0.0,\n",
      "                    0.0,\n",
      "                    1.0,\n",
      "                    0.0,\n",
      "                    0.0\n",
      "                ],\n",
      "                [\n",
      "                    0.0,\n",
      "                    0.0,\n",
      "                    1.0,\n",
      "                    0.0,\n",
      "                    0.0,\n",
      "                    0.0,\n",
      "                    0.0,\n",
      "                    0.0,\n",
      "                    0.0,\n",
      "                    0.0\n",
      "                ]\n",
      "            ]\n",
      "        }\n",
      "    ]\n",
      "}\n"
     ]
    }
   ],
   "source": [
    "%%bash -s \"$image_1\" \"$image_2\"\n",
    "\n",
    "curl -sk -X POST \\\n",
    "    --header \"Authorization: Bearer $USER_ACCESS_TOKEN\" \\\n",
    "    --header \"Content-Type: application/json\" \\\n",
    "    --header \"Accept: application/json\" \\\n",
    "    --data '{\"space_id\": \"$SPACE_ID\",\"input_data\": [{\"values\": ['\"$1\"', '\"$2\"']}]}' \\\n",
    "    \"$RUNTIME_ENV_APSX_URL/ml/v4/deployments/$DEPLOYMENT_ID/predictions?version=2020-08-01\" \\\n",
    "    | python -m json.tool"
   ]
  },
  {
   "cell_type": "markdown",
   "metadata": {
    "id": "e2e9caea-f347-4522-9481-c457ce9c131c"
   },
   "source": [
    "<a id=\"deployments_list\"></a>\n",
    "### Listing all deployments"
   ]
  },
  {
   "cell_type": "markdown",
   "metadata": {
    "id": "ef0d90f0-17b4-4b8e-bf4b-2d276c90e8ba"
   },
   "source": [
    "<a href=\"https://watson-ml-v4-api.mybluemix.net/wml-restapi-cloud.html#/Deployments/deployments_list\" \n",
    "target=\"_blank\" rel=\"noopener no referrer\">List deployments details</a>"
   ]
  },
  {
   "cell_type": "code",
   "execution_count": 32,
   "metadata": {
    "id": "08055351-e6f1-4384-908e-8a47f2b8359f",
    "tags": []
   },
   "outputs": [
    {
     "name": "stdout",
     "output_type": "stream",
     "text": [
      "{\n",
      "    \"resources\": []\n",
      "}\n"
     ]
    }
   ],
   "source": [
    "%%bash\n",
    "\n",
    "curl -sk -X GET \\\n",
    "    --header \"Authorization: Bearer $USER_ACCESS_TOKEN\" \\\n",
    "    --header \"Content-Type: application/json\" \\\n",
    "    \"$RUNTIME_ENV_APSX_URL/ml/v4/deployments?space_id=$SPACE_ID&version=2020-08-01\" \\\n",
    "    | python -m json.tool"
   ]
  },
  {
   "cell_type": "markdown",
   "metadata": {
    "id": "609ab661-13b8-4dda-89a8-39046fe60ba9"
   },
   "source": [
    "<a id=\"cleaning\"></a>\n",
    "## 6. Cleaning section\n",
    "\n",
    "Below section is useful when you want to clean all of your previous work within this notebook.\n",
    "Just convert below cells into the `code` and run them."
   ]
  },
  {
   "cell_type": "markdown",
   "metadata": {
    "id": "14cc4dd0-2836-4171-aac3-c728e9978068"
   },
   "source": [
    "<a id=\"training_delete\"></a>\n",
    "### Delete training run\n",
    "**Tip:** You can completely delete a training run with its metadata."
   ]
  },
  {
   "cell_type": "markdown",
   "metadata": {
    "id": "5c757b89-f0f2-4849-a1b4-c5b247426bbd"
   },
   "source": [
    "<a href=\"https://watson-ml-v4-api.mybluemix.net/wml-restapi-cloud.html#/Trainings/trainings_delete\" \n",
    "target=\"_blank\" rel=\"noopener no referrer\">Deleting training</a>"
   ]
  },
  {
   "cell_type": "raw",
   "metadata": {
    "id": "8f95486b-29cd-474a-8c99-1794ea73f0d2"
   },
   "source": [
    "%%bash\n",
    "\n",
    "TRAINING_ID_TO_DELETE=...\n",
    "\n",
    "curl -sk -X DELETE \\\n",
    "    --header \"Authorization: Bearer $USER_ACCESS_TOKEN\" \\\n",
    "    --header \"Content-Type: application/json\" \\\n",
    "    --header \"Accept: application/json\" \\\n",
    "    \"$RUNTIME_ENV_APSX_URL/ml/v4/trainings/$TRAINING_ID_TO_DELETE?space_id=$SPACE_ID&version=2020-08-01&hard_delete=true\""
   ]
  },
  {
   "cell_type": "markdown",
   "metadata": {
    "id": "133751d5-ad64-4620-b8c2-3c3ec113731a"
   },
   "source": [
    "<a id=\"deployment_delete\"></a>\n",
    "### Deleting deployment\n",
    "**Tip:** You can delete existing deployment by calling DELETE method."
   ]
  },
  {
   "cell_type": "markdown",
   "metadata": {
    "id": "bddf3a7c-91ac-4271-b907-bb15f7c8a84a"
   },
   "source": [
    "<a href=\"https://watson-ml-v4-api.mybluemix.net/wml-restapi-cloud.html#/Deployments/deployments_delete\" \n",
    "target=\"_blank\" rel=\"noopener no referrer\">Delete deployment</a>"
   ]
  },
  {
   "cell_type": "raw",
   "metadata": {
    "id": "8031da08-5327-4bae-8b45-5c51815537eb"
   },
   "source": [
    "%%bash\n",
    "\n",
    "curl -sk -X DELETE \\\n",
    "    --header \"Authorization: Bearer $USER_ACCESS_TOKEN\" \\\n",
    "    --header \"Content-Type: application/json\" \\\n",
    "    --header \"Accept: application/json\" \\\n",
    "    \"$RUNTIME_ENV_APSX_URL/ml/v4/deployments/$DEPLOYMENT_ID?space_id=$SPACE_ID&version=2020-08-01\""
   ]
  },
  {
   "cell_type": "markdown",
   "metadata": {
    "id": "1de781d5-1dd6-48b4-b6e1-77f667b61f65"
   },
   "source": [
    "<a id=\"model_delete\"></a>\n",
    "### Delete model from repository\n",
    "**Tip:** If you want to completely remove your stored model and model metadata, just use a DELETE method."
   ]
  },
  {
   "cell_type": "markdown",
   "metadata": {
    "id": "64a7f2fb-8799-4198-97f3-acc55ac999da"
   },
   "source": [
    "<a href=\"https://watson-ml-v4-api.mybluemix.net/wml-restapi-cloud.html#/Models/models_delete\" \n",
    "target=\"_blank\" rel=\"noopener no referrer\">Delete model from repository</a>"
   ]
  },
  {
   "cell_type": "raw",
   "metadata": {
    "id": "c3e13480-2c51-427d-a8d3-8cc3c5cbc4a2"
   },
   "source": [
    "%%bash\n",
    "\n",
    "curl -sk -X DELETE \\\n",
    "    --header \"Authorization: Bearer $USER_ACCESS_TOKEN\" \\\n",
    "    --header \"Content-Type: application/json\" \\\n",
    "    \"$RUNTIME_ENV_APSX_URL/ml/v4/models/$MODEL_ID?space_id=$SPACE_ID&version=2020-08-01\""
   ]
  },
  {
   "cell_type": "markdown",
   "metadata": {
    "id": "95087c3c-4fab-43f5-9986-379629d3086e"
   },
   "source": [
    "<a id=\"def_delete\"></a>\n",
    "### Delete model definition\n",
    "**Tip:** If you want to completely remove your model definition, just use a DELETE method."
   ]
  },
  {
   "cell_type": "markdown",
   "metadata": {
    "id": "cddb59dd-b7c2-43b3-8450-36338bc2f2ea"
   },
   "source": [
    "<a href=\"https://watson-ml-v4-api.mybluemix.net/wml-restapi-cloud.html#/Model%20Definitions/model_definitions_delete\" \n",
    "target=\"_blank\" rel=\"noopener no referrer\">Delete model definition</a>"
   ]
  },
  {
   "cell_type": "raw",
   "metadata": {
    "id": "209a781e-20d8-4514-a819-af15f1e7a6d6"
   },
   "source": [
    "%%bash\n",
    "\n",
    "curl -sk -X DELETE \\\n",
    "    --header \"Authorization: Bearer $USER_ACCESS_TOKEN\" \\\n",
    "    --header \"Content-Type: application/json\" \\\n",
    "    \"$RUNTIME_ENV_APSX_URL/ml/v4/model_definitions/$MODEL_DEFINITION_ID?space_id=$SPACE_ID&version=2020-08-01\""
   ]
  },
  {
   "cell_type": "markdown",
   "metadata": {
    "id": "d9c12acd-3979-44f0-97a0-032d45c7f131"
   },
   "source": [
    "<a id=\"summary\"></a>\n",
    "## 7. Summary and next steps\n",
    "\n",
    " You successfully completed this notebook!.\n",
    " \n",
    " You learned how to use `cURL` calls to store, deploy and score a PyTorch Deep Learning model in WML. "
   ]
  },
  {
   "cell_type": "markdown",
   "metadata": {
    "id": "4c9684a4-ab6a-4d0f-9a0b-e7b0a22ef9b3"
   },
   "source": [
    "### Authors\n",
    "\n",
    "**Jan Sołtysik**, Intern in Watson Machine Learning at IBM"
   ]
  },
  {
   "cell_type": "markdown",
   "metadata": {
    "id": "1fb5cee6-059b-41a3-af1a-9071b4e5533d"
   },
   "source": [
    "Copyright © 2020, 2021 IBM. This notebook and its source code are released under the terms of the MIT License."
   ]
  }
 ],
 "metadata": {
  "kernelspec": {
   "display_name": "Python 3.7 + GPU with applications",
   "language": "python",
   "name": "python3"
  },
  "language_info": {
   "codemirror_mode": {
    "name": "ipython",
    "version": 3
   },
   "file_extension": ".py",
   "mimetype": "text/x-python",
   "name": "python",
   "nbconvert_exporter": "python",
   "pygments_lexer": "ipython3",
   "version": "3.7.11"
  }
 },
 "nbformat": 4,
 "nbformat_minor": 4
}
