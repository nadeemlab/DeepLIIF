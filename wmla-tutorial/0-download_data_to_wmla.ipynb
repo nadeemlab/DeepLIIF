{
 "cells": [
  {
   "cell_type": "markdown",
   "metadata": {
    "id": "63c07830-df70-4281-8894-cc9e931d903c"
   },
   "source": [
    "# Download data into WMLA"
   ]
  },
  {
   "cell_type": "markdown",
   "metadata": {
    "id": "8014cfe502f8473c82e04258723ca2c4"
   },
   "source": [
    "This notebook shows how to create and submit a simple training script that is responsible for moving data from external storage, in this case COS, into the WMLA storage to be used by future training runs. The goal is to read the data only once and store it locally, then re-use it multiple times in training jobs."
   ]
  },
  {
   "cell_type": "markdown",
   "metadata": {
    "id": "5f1fc2c48a9c45cd8b7ee3061df8a8fe"
   },
   "source": [
    "# 0. Imports"
   ]
  },
  {
   "cell_type": "code",
   "execution_count": 40,
   "metadata": {
    "id": "7dc84cc967c241faaf74c9f4bf9db2ca",
    "tags": []
   },
   "outputs": [],
   "source": [
    "import project_lib\n",
    "\n",
    "import json\n",
    "import os\n",
    "from datetime import datetime\n",
    "import time\n",
    "\n",
    "from ibm_watson_machine_learning import APIClient\n",
    "\n",
    "wml_credentials = {\n",
    "    'token': os.environ['USER_ACCESS_TOKEN'],\n",
    "    'url': os.environ['RUNTIME_ENV_APSX_URL'],\n",
    "    'version': '4.0',\n",
    "    'instance_id': 'openshift'\n",
    "}"
   ]
  },
  {
   "cell_type": "markdown",
   "metadata": {
    "id": "6c27a040cf4745718b8fcf6b4abfdeaf"
   },
   "source": [
    "# 1. Connect to WML"
   ]
  },
  {
   "cell_type": "code",
   "execution_count": 41,
   "metadata": {
    "id": "313f4c2d8db54b158871ad79ff415d08",
    "tags": []
   },
   "outputs": [
    {
     "data": {
      "text/plain": [
       "'SUCCESS'"
      ]
     },
     "execution_count": 41,
     "metadata": {},
     "output_type": "execute_result"
    }
   ],
   "source": [
    "client = APIClient(wml_credentials)\n",
    "\n",
    "# we will run everything as project training jobs in the current project:\n",
    "project_id = os.environ['PROJECT_ID']\n",
    "client.set.default_project(project_id)"
   ]
  },
  {
   "cell_type": "markdown",
   "metadata": {
    "id": "955257fe1c3148d1830ab349dd9eec2d"
   },
   "source": [
    "# 3. Write script to read data and store it into WMLA"
   ]
  },
  {
   "cell_type": "markdown",
   "metadata": {
    "id": "8d35bb9bfcb14640a4c1602aa9659d6d"
   },
   "source": [
    "## 3.1 Write the script"
   ]
  },
  {
   "cell_type": "code",
   "execution_count": 42,
   "metadata": {
    "id": "4c39be40-c047-42a6-9ffe-4a9991416994",
    "tags": []
   },
   "outputs": [
    {
     "name": "stdout",
     "output_type": "stream",
     "text": [
      "Overwriting download.sh\n"
     ]
    }
   ],
   "source": [
    "%%writefile download.sh\n",
    "\n",
    "#!/bin/bash\n",
    "\n",
    "cd $DATA_DIR\n",
    "mkdir DeepLIIF_Datasets\n",
    "cd DeepLIIF_Datasets\n",
    "wget https://zenodo.org/record/4751737/files/DeepLIIF_Training_Set.zip\n",
    "wget https://zenodo.org/record/4751737/files/DeepLIIF_Validation_Set.zip\n",
    "wget https://zenodo.org/record/4751737/files/DeepLIIF_Testing_Set.zip\n",
    "\n",
    "unzip DeepLIIF_Training_Set.zip\n",
    "unzip DeepLIIF_Validation_Set.zip\n",
    "unzip DeepLIIF_Testing_Set.zip\n",
    "rm -rf DeepLIIF_*.zip\n",
    "\n",
    "mv DeepLIIF_Training_Set train\n",
    "mv DeepLIIF_Validation_Set val\n",
    "mv DeepLIIF_Testing_Set test"
   ]
  },
  {
   "cell_type": "code",
   "execution_count": 26,
   "metadata": {
    "id": "9586f19f2e654ada944aacf43d7d48ee",
    "scrolled": true,
    "tags": []
   },
   "outputs": [
    {
     "name": "stdout",
     "output_type": "stream",
     "text": [
      "Overwriting main.py\n"
     ]
    }
   ],
   "source": [
    "%%writefile main.py\n",
    "\"\"\"\n",
    "Utility script to be run in a training job to download files from COS into the WMLA storage.\n",
    "Your code folder (submitted as .zip file to WMLA) must contain both this script, and a JSON file\n",
    "cos_credentials.json containing an access key, secret key, bucket name,\n",
    "and the correct public endpoint to connect to this bucket.\n",
    "\"\"\"\n",
    "import os\n",
    "\n",
    "# STEP 0 - IDENTIFY WHERE THE DATA WILL BE STORED IN WML-A\n",
    "DATA_DIR = os.environ['DATA_DIR']\n",
    "RESULT_DIR = os.environ[\"RESULT_DIR\"]\n",
    "print(f\"Data will be stored in $DATA_DIR {DATA_DIR}\")\n",
    "print(\"Current content of this folder is:\")\n",
    "print(os.listdir(DATA_DIR))\n",
    "\n",
    "# os.system(f'mv download.sh {DATA_DIR}/download.sh')\n",
    "# os.system(f'cd {DATA_DIR}; bash download.sh; rm -rf download.sh')\n",
    "    \n",
    "# STEP 5 - LET WMLA KNOW WE SUCCEEDED BY SAVING IN THE /model FOLDER\n",
    "os.makedirs(os.path.join(RESULT_DIR, 'model'), exist_ok=True)\n",
    "with open(os.path.join(RESULT_DIR, 'model', 'done.txt'), 'w') as f:\n",
    "    f.write('Done.')"
   ]
  },
  {
   "cell_type": "markdown",
   "metadata": {
    "id": "9c1a367f667640b18df2b43fb1bf8db3"
   },
   "source": [
    "## 3.3 Store the script as training code"
   ]
  },
  {
   "cell_type": "markdown",
   "metadata": {
    "id": "7af29a9ea39c41428fa0badf520a49c2"
   },
   "source": [
    "Now that we have COS credentials in a JSON file, and a python script that reads these credentials and downloads the content of a COS bucket into the WMLA `$DATA_DIR` directory, we can store this script as a model definition:"
   ]
  },
  {
   "cell_type": "code",
   "execution_count": 43,
   "metadata": {
    "id": "65f03792fae3442886eb9bea7b0132c2",
    "tags": []
   },
   "outputs": [
    {
     "name": "stdout",
     "output_type": "stream",
     "text": [
      "updating: download.sh (deflated 63%)\n"
     ]
    }
   ],
   "source": [
    "!zip download_job.zip download.sh"
   ]
  },
  {
   "cell_type": "code",
   "execution_count": 50,
   "metadata": {
    "id": "b5a808f1708746828c2ff50d225ea890",
    "tags": []
   },
   "outputs": [
    {
     "name": "stdout",
     "output_type": "stream",
     "text": [
      "94715e54-aeb0-4067-bdd6-939af2e51cd7\n"
     ]
    }
   ],
   "source": [
    "meta_props = {\n",
    "    client.model_definitions.ConfigurationMetaNames.NAME: 'Download data for DeepLiif (data load script)',\n",
    "    client.model_definitions.ConfigurationMetaNames.PLATFORM: {'name': 'python', 'versions': ['3.7']},\n",
    "    client.model_definitions.ConfigurationMetaNames.VERSION: '1',\n",
    "    client.model_definitions.ConfigurationMetaNames.COMMAND: 'bash download.sh'\n",
    "}\n",
    "\n",
    "model_def_details = client.model_definitions.store('./download_job.zip', meta_props)\n",
    "model_def_id = client.model_definitions.get_id(model_def_details)\n",
    "print(model_def_id)"
   ]
  },
  {
   "cell_type": "markdown",
   "metadata": {
    "id": "b00d8ea4dae24a48811b5eb76f6f39cb"
   },
   "source": [
    "# 4. Submit the job"
   ]
  },
  {
   "cell_type": "code",
   "execution_count": 51,
   "metadata": {
    "id": "90d671737f374295858fe271a1531d76",
    "tags": []
   },
   "outputs": [
    {
     "name": "stdout",
     "output_type": "stream",
     "text": [
      "13ac0862-0a5b-4819-9a5c-946994e68827\n"
     ]
    }
   ],
   "source": [
    "meta_props = {\n",
    "    client.training.ConfigurationMetaNames.NAME: 'Simple training run',\n",
    "    client.training.ConfigurationMetaNames.DESCRIPTION: '',\n",
    "    client.training.ConfigurationMetaNames.TRAINING_DATA_REFERENCES: [\n",
    "        {\n",
    "          \"name\": \"training_input_data\",\n",
    "          \"type\": \"fs\",\n",
    "          \"connection\": {},\n",
    "          \"location\": {\n",
    "            \"path\": \"wmla-data\"\n",
    "          },\n",
    "        }\n",
    "    ],\n",
    "    client.training.ConfigurationMetaNames.TRAINING_RESULTS_REFERENCE: {\n",
    "        \"location\": {\n",
    "            \"path\": f\"/projects/{project_id}/assets/trainings\"\n",
    "        },\n",
    "        \"type\": \"fs\"\n",
    "    },\n",
    "    client.training.ConfigurationMetaNames.MODEL_DEFINITION: {\n",
    "        'id': model_def_id,\n",
    "        \"hardware_spec\": {\n",
    "          \"name\": \"v100\",\n",
    "          \"nodes\": 1\n",
    "        },\n",
    "        \"software_spec\": {\n",
    "            \"name\": \"pytorch-onnx_1.7-py3.7\"\n",
    "        },\n",
    "        \"parameters\": {\n",
    "            \"name\": \"my model\" # this is mandatory, doesn't need to match the name of the model def\n",
    "        }\n",
    "    }   \n",
    "}\n",
    "\n",
    "training_details = client.training.run(meta_props, asynchronous=True)\n",
    "training_id = client.training.get_id(training_details)\n",
    "print(training_id)"
   ]
  },
  {
   "cell_type": "markdown",
   "metadata": {
    "id": "a6fc81c3e050480b9831e0940654d342"
   },
   "source": [
    "## 4.1 Monitor job"
   ]
  },
  {
   "cell_type": "code",
   "execution_count": 52,
   "metadata": {
    "id": "7e8e5c42e019408796d0043bdd3c6d00",
    "tags": []
   },
   "outputs": [
    {
     "name": "stdout",
     "output_type": "stream",
     "text": [
      "02:53:02 {'state': 'pending'}\n",
      "02:53:13 {'state': 'pending'}\n",
      "02:53:23 {'state': 'pending'}\n",
      "02:53:33 {'completed_at': '2021-11-26T02:53:26.861Z', 'failure': {'trace': 'na', 'errors': [{'code': 'unknown_job_execution_error', 'message': 'For input string: \"default\"', 'more_info': 'http://watson-ml-api.mybluemix.net/'}]}, 'state': 'failed'}\n"
     ]
    }
   ],
   "source": [
    "status = client.training.get_status(training_id)\n",
    "while status['state'] in ['pending', 'running']:\n",
    "    status = client.training.get_status(training_id)\n",
    "    print(datetime.now().strftime(\"%H:%M:%S\"), status)\n",
    "    time.sleep(10)"
   ]
  },
  {
   "cell_type": "markdown",
   "metadata": {
    "id": "ee00229d062b401d817b584b1659f4c9"
   },
   "source": [
    "## 4.2 Get logs"
   ]
  },
  {
   "cell_type": "code",
   "execution_count": 53,
   "metadata": {
    "id": "6500fe0036654c9b8d0076a6111c4e0e",
    "tags": []
   },
   "outputs": [],
   "source": [
    "import requests\n",
    "\n",
    "host = wml_credentials['url']\n",
    "headers = client._get_headers()  # we use the same headers as the WML client to avoid re-authenticating"
   ]
  },
  {
   "cell_type": "code",
   "execution_count": 54,
   "metadata": {
    "id": "8040aaa94e6543d9a222239510939fb6",
    "tags": []
   },
   "outputs": [
    {
     "data": {
      "text/plain": [
       "{'resources': [{'path': 'trainings/13ac0862-0a5b-4819-9a5c-946994e68827/training-status.json',\n",
       "   'etag': 'W/\"89f-17d5a297956\"',\n",
       "   'size': 2207,\n",
       "   'last_modifed': 'Fri, 26 Nov 2021 02:53:27 GMT',\n",
       "   'last_modified': 'Fri, 26 Nov 2021 02:53:27 GMT',\n",
       "   'type': 'file',\n",
       "   'mime_type': 'application/json'}]}"
      ]
     },
     "execution_count": 54,
     "metadata": {},
     "output_type": "execute_result"
    }
   ],
   "source": [
    "r = requests.get(f\"{host}/v2/asset_files/trainings/{training_id}/\",\n",
    "                 params={'project_id': project_id},\n",
    "                 # params={'space_id': space_id},\n",
    "                 headers=headers,\n",
    "                 verify=False\n",
    "                )\n",
    "r.json()"
   ]
  },
  {
   "cell_type": "code",
   "execution_count": 25,
   "metadata": {
    "id": "5fc18bde-829e-419d-8541-9f90c189878a",
    "tags": []
   },
   "outputs": [],
   "source": [
    "host"
   ]
  },
  {
   "cell_type": "code",
   "execution_count": 55,
   "metadata": {
    "id": "a173c258e9974027859fd2ec4f7d738f",
    "tags": []
   },
   "outputs": [
    {
     "name": "stdout",
     "output_type": "stream",
     "text": [
      "{\n",
      "  \"metadata\": {\n",
      "    \"created_at\": \"2021-11-26T02:53:00.305Z\",\n",
      "    \"description\": \"\",\n",
      "    \"guid\": \"13ac0862-0a5b-4819-9a5c-946994e68827\",\n",
      "    \"id\": \"13ac0862-0a5b-4819-9a5c-946994e68827\",\n",
      "    \"modified_at\": \"2021-11-26T02:53:27.056Z\",\n",
      "    \"name\": \"Simple training run\",\n",
      "    \"project_id\": \"93b9f3ae-f3a7-45c2-aebc-1f146a8c1c21\"\n",
      "  },\n",
      "  \"entity\": {\n",
      "    \"description\": \"\",\n",
      "    \"model_definition\": {\n",
      "      \"hardware_spec\": {\n",
      "        \"name\": \"v100\"\n",
      "      },\n",
      "      \"id\": \"94715e54-aeb0-4067-bdd6-939af2e51cd7\",\n",
      "      \"parameters\": {\n",
      "        \"name\": \"my model\"\n",
      "      },\n",
      "      \"software_spec\": {\n",
      "        \"name\": \"pytorch-onnx_1.7-py3.7\"\n",
      "      }\n",
      "    },\n",
      "    \"name\": \"Simple training run\",\n",
      "    \"project_id\": \"93b9f3ae-f3a7-45c2-aebc-1f146a8c1c21\",\n",
      "    \"results_reference\": {\n",
      "      \"location\": {\n",
      "        \"path\": \"/projects/93b9f3ae-f3a7-45c2-aebc-1f146a8c1c21/assets/trainings\",\n",
      "        \"model\": \"/projects/93b9f3ae-f3a7-45c2-aebc-1f146a8c1c21/assets/trainings/13ac0862-0a5b-4819-9a5c-946994e68827/data/model\",\n",
      "        \"notebooks_path\": \"/projects/93b9f3ae-f3a7-45c2-aebc-1f146a8c1c21/assets/trainings/13ac0862-0a5b-4819-9a5c-946994e68827/notebooks\",\n",
      "        \"training\": \"/projects/93b9f3ae-f3a7-45c2-aebc-1f146a8c1c21/assets/trainings/13ac0862-0a5b-4819-9a5c-946994e68827\",\n",
      "        \"training_status\": \"/projects/93b9f3ae-f3a7-45c2-aebc-1f146a8c1c21/assets/trainings/13ac0862-0a5b-4819-9a5c-946994e68827/training-status.json\",\n",
      "        \"logs\": \"/projects/93b9f3ae-f3a7-45c2-aebc-1f146a8c1c21/assets/trainings/13ac0862-0a5b-4819-9a5c-946994e68827/logs\",\n",
      "        \"assets_path\": \"/projects/93b9f3ae-f3a7-45c2-aebc-1f146a8c1c21/assets/trainings/13ac0862-0a5b-4819-9a5c-946994e68827/assets\"\n",
      "      },\n",
      "      \"type\": \"fs\"\n",
      "    },\n",
      "    \"status\": {\n",
      "      \"completed_at\": \"2021-11-26T02:53:26.861Z\",\n",
      "      \"failure\": {\n",
      "        \"trace\": \"na\",\n",
      "        \"errors\": [{\n",
      "          \"code\": \"unknown_job_execution_error\",\n",
      "          \"message\": \"For input string: \\\"default\\\"\",\n",
      "          \"more_info\": \"http://watson-ml-api.mybluemix.net/\"\n",
      "        }]\n",
      "      },\n",
      "      \"state\": \"failed\"\n",
      "    },\n",
      "    \"training_data_references\": [{\n",
      "      \"connection\": {\n",
      "\n",
      "      },\n",
      "      \"location\": {\n",
      "        \"path\": \"wmla-data\"\n",
      "      },\n",
      "      \"type\": \"fs\"\n",
      "    }]\n",
      "  }\n",
      "}\n"
     ]
    }
   ],
   "source": [
    "r = requests.get(f\"{host}/v2/asset_files/trainings/{training_id}/training-status.json\",\n",
    "#                  f'{host}/v2/projects/93b9f3ae-f3a7-45c2-aebc-1f146a8c1c21/assets/trainings/32fc3e2b-d2ef-4e08-b488-251d8fb536ea/logs',   \n",
    "                 params={'project_id': project_id},\n",
    "                 # params={'space_id': space_id},\n",
    "                 headers=headers,\n",
    "                 verify=False\n",
    "                )\n",
    "print(r.text)"
   ]
  },
  {
   "cell_type": "code",
   "execution_count": null,
   "metadata": {
    "id": "99cc1805-0193-46b5-9a69-ec0d8028b77e"
   },
   "outputs": [],
   "source": []
  }
 ],
 "metadata": {
  "kernelspec": {
   "display_name": "Python 3.7 + GPU with applications",
   "language": "python",
   "name": "python3"
  },
  "language_info": {
   "codemirror_mode": {
    "name": "ipython",
    "version": 3
   },
   "file_extension": ".py",
   "mimetype": "text/x-python",
   "name": "python",
   "nbconvert_exporter": "python",
   "pygments_lexer": "ipython3",
   "version": "3.7.11"
  }
 },
 "nbformat": 4,
 "nbformat_minor": 4
}
